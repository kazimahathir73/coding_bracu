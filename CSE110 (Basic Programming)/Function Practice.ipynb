{
 "cells": [
  {
   "cell_type": "code",
   "execution_count": 5,
   "id": "36865dd7",
   "metadata": {},
   "outputs": [
    {
     "name": "stdout",
     "output_type": "stream",
     "text": [
      "Enter a word: pythonbook\n",
      "['112p112', '121y121', '116t116', '104h104', '111o111', '110n110', '98b98', '111o111', '111o111', '107k107']\n"
     ]
    }
   ],
   "source": [
    "#Problem-01\n",
    "\n",
    "word=input('Enter a word: ')\n",
    "\n",
    "def the_word(wo):\n",
    "    \n",
    "    final_list=[]\n",
    "    for i in wo:\n",
    "        x=ord(i)\n",
    "        y=str(x)\n",
    "        final_string=y+i+y\n",
    "        final_list.append(final_string)\n",
    "        \n",
    "    return final_list\n",
    "\n",
    "output=the_word(word)\n",
    "print(output)"
   ]
  },
  {
   "cell_type": "code",
   "execution_count": 8,
   "id": "ab2c394a",
   "metadata": {},
   "outputs": [
    {
     "name": "stdout",
     "output_type": "stream",
     "text": [
      "Enter the word: pythonbook\n",
      "{'p': [0, -10], 'y': [1, -9], 't': [2, -8], 'h': [3, -7], 'o': [4, -6, 7, -3, 8, -2], 'n': [5, -5], 'b': [6, -4], 'k': [9, -1]}\n"
     ]
    }
   ],
   "source": [
    "#problem-02\n",
    "\n",
    "word=input('Enter the word: ')\n",
    "\n",
    "def the_word(wod):\n",
    "    count1=0\n",
    "    count2=-len(wod)\n",
    "    dict1={}\n",
    "    \n",
    "    for i in wod:\n",
    "        if(i not in dict1):\n",
    "            dict1[i]= [count1,count2]\n",
    "        else:\n",
    "            dict1[i].append(count1)\n",
    "            dict1[i].append(count2)\n",
    "            \n",
    "        count1+= 1\n",
    "        count2+= 1\n",
    "    return dict1\n",
    "\n",
    "output=the_word(word)\n",
    "print(output)"
   ]
  },
  {
   "cell_type": "code",
   "execution_count": 5,
   "id": "0d129257",
   "metadata": {
    "scrolled": true
   },
   "outputs": [
    {
     "name": "stdout",
     "output_type": "stream",
     "text": [
      "Enter the sentence: go there and go there\n",
      "{'and': 1, 'go': 2, 'there': 2}\n"
     ]
    }
   ],
   "source": [
    "#problem-03\n",
    "\n",
    "sentence=input('Enter the sentence: ').split()\n",
    "\n",
    "def selection_sort(my_list):\n",
    "    for i in range(len(my_list)):\n",
    "        min_idx= i\n",
    "\n",
    "        for k in range(i+1, len(my_list)):\n",
    "            if(my_list[k] < my_list[min_idx]):\n",
    "                min_idx= k\n",
    "\n",
    "        num= my_list[min_idx]\n",
    "        my_list[min_idx] = my_list[i]\n",
    "        my_list[i] = num\n",
    "    return my_list\n",
    "\n",
    "def the_sentence(sent):\n",
    "    dict1={}\n",
    "\n",
    "    for i in sent:\n",
    "        count = sent.count(i)\n",
    "        if(i not in dict1):\n",
    "            dict1[i] = count\n",
    "\n",
    "    value = []\n",
    "    for i in dict1.values():\n",
    "        value.append(i)\n",
    "    value= selection_sort(value)\n",
    "\n",
    "    key = []\n",
    "    for i in dict1.keys():\n",
    "        key.append(i)\n",
    "\n",
    "    final_dict={}\n",
    "    for i in value:\n",
    "        for k,v in dict1.items():\n",
    "            if i == v:\n",
    "                final_dict[k] = v\n",
    "    return final_dict\n",
    "\n",
    "output=the_sentence(sentence)\n",
    "print(output)           "
   ]
  },
  {
   "cell_type": "code",
   "execution_count": 19,
   "id": "5bb1c4ad",
   "metadata": {},
   "outputs": [
    {
     "name": "stdout",
     "output_type": "stream",
     "text": [
      "[10, 30, 20, 20, 30]\n",
      "['man', 'Woman', 'Gent', 'kon', 'Mon']\n",
      "[10, 20, 20, 30, 30]\n",
      "{'man': 10, 'Gent': 20, 'kon': 20, 'Woman': 30, 'Mon': 30}\n"
     ]
    }
   ],
   "source": [
    "dict1={'man':10,'Woman':30,'Gent':20,'kon':20,'Mon':30}\n",
    "\n",
    "list1=[]\n",
    "my_list=[]\n",
    "\n",
    "for x in dict1.values():\n",
    "    my_list.append(x)\n",
    "print(my_list)\n",
    "\n",
    "for x in dict1.keys():\n",
    "    list1.append(x)\n",
    "print(list1)\n",
    "\n",
    "for i in range(len(my_list)):\n",
    "        min_idx= i\n",
    "\n",
    "        for k in range(i+1, len(my_list)):\n",
    "            if(my_list[k] < my_list[min_idx]):\n",
    "                min_idx= k\n",
    "\n",
    "        num= my_list[min_idx]\n",
    "        my_list[min_idx] = my_list[i]\n",
    "        my_list[i] = num\n",
    "print(my_list)\n",
    "\n",
    "final_dict={}\n",
    "for i in my_list:\n",
    "    for k,v in dict1.items():\n",
    "        if(i == v):\n",
    "            final_dict[k] = v\n",
    "print(final_dict)"
   ]
  },
  {
   "cell_type": "code",
   "execution_count": 32,
   "id": "5670b99e",
   "metadata": {},
   "outputs": [
    {
     "name": "stdout",
     "output_type": "stream",
     "text": [
      "Enter the number: 2441396\n",
      "{2: ('Even', 'Not Prime', 'Not Perfect'), 4: ('Even', 'Prime', 'Not Perfect'), 1: ('odd', 'Not Prime', 'Not Perfect'), 3: ('odd', 'Not Prime', 'Not Perfect'), 9: ('odd', 'Prime', 'Not Perfect'), 6: ('Even', 'Not Prime', 'Not Perfect')}\n"
     ]
    }
   ],
   "source": [
    "#Problem-04\n",
    "\n",
    "number=input('Enter the number: ')\n",
    "\n",
    "def the_number(num):\n",
    "    \n",
    "    dict1={}\n",
    "    final_dict={}\n",
    "    for i in num:\n",
    "        i=int(i)\n",
    "        \n",
    "        count=0\n",
    "        sum1=0\n",
    "        count1=0\n",
    "        if(i not in dict1):\n",
    "            count1=0\n",
    "            dict1[i]=[]\n",
    "            if(i%2==0):\n",
    "                dict1[i].append('Even')\n",
    "            else:\n",
    "                dict1[i].append('odd')\n",
    "                \n",
    "            for k in range(1,i):\n",
    "                if(i%k==0):\n",
    "                    count+=1\n",
    "                    sum1+=k\n",
    "            sum1=sum1-i\n",
    "            \n",
    "            if(count==2):\n",
    "                dict1[i].append('Prime')\n",
    "            else:\n",
    "                dict1[i].append('Not Prime')\n",
    "            \n",
    "            if(sum1==i):\n",
    "                dict1[i].append('Perfect')\n",
    "            else:\n",
    "                dict1[i].append('Not Perfect')\n",
    "\n",
    "    for i,k in dict1.items():\n",
    "        final_dict[i]=tuple(k)\n",
    "        \n",
    "    return final_dict\n",
    "\n",
    "output=the_number(number)\n",
    "print(output)"
   ]
  },
  {
   "cell_type": "code",
   "execution_count": 36,
   "id": "5a98385e",
   "metadata": {},
   "outputs": [
    {
     "name": "stdout",
     "output_type": "stream",
     "text": [
      "Enter the A Matrics 1st row: 1\n",
      "Enter the A Matrics 1st colume: 5\n",
      "Enter the A Matrics 2nd row: -4\n",
      "Enter the A Matrics 2nd colume: 3\n",
      "Enter the B Matrics 1st row: 2\n",
      "Enter the B Matrics 1st colume: -1\n",
      "Enter the B Matrics 2nd row: 4\n",
      "Enter the B Matrics 2nd colume: -1\n",
      "[[3, 4], [0, 2]]\n"
     ]
    }
   ],
   "source": [
    "#problem-05\n",
    "\n",
    "matA1_row=int(input('Enter the A Matrics 1st row: '))\n",
    "matA1_colume=int(input('Enter the A Matrics 1st colume: '))\n",
    "matA1=[matA1_row, matA1_colume]\n",
    "matA2_row=int(input('Enter the A Matrics 2nd row: '))\n",
    "matA2_colume=int(input('Enter the A Matrics 2nd colume: '))\n",
    "matA2=[matA2_row, matA2_colume]\n",
    "matA=[matA1, matA2]\n",
    "\n",
    "matB1_row=int(input('Enter the B Matrics 1st row: '))\n",
    "matB1_colume=int(input('Enter the B Matrics 1st colume: '))\n",
    "matB1=[matB1_row, matB1_colume]\n",
    "matB2_row=int(input('Enter the B Matrics 2nd row: '))\n",
    "matB2_colume=int(input('Enter the B Matrics 2nd colume: '))\n",
    "matB2=[matB2_row, matB2_colume]\n",
    "matB=[matB1, matB2]\n",
    "\n",
    "def the_matrics(A,B):\n",
    "    \n",
    "    row1= A[0][0] + B[0][0]\n",
    "    colume1= A[0][1] + B[0][1]\n",
    "    list1=[row1,colume1]\n",
    "    \n",
    "    row2 = A[1][0] + B[1][0]\n",
    "    colume2= A[1][1] + B[1][1]\n",
    "    list2=[row2, colume2]\n",
    "    \n",
    "    final_list=[list1, list2]\n",
    "    \n",
    "    return final_list\n",
    "\n",
    "output=the_matrics(matA, matB)\n",
    "print(output)"
   ]
  }
 ],
 "metadata": {
  "kernelspec": {
   "display_name": "Python 3",
   "language": "python",
   "name": "python3"
  },
  "language_info": {
   "codemirror_mode": {
    "name": "ipython",
    "version": 3
   },
   "file_extension": ".py",
   "mimetype": "text/x-python",
   "name": "python",
   "nbconvert_exporter": "python",
   "pygments_lexer": "ipython3",
   "version": "3.8.8"
  }
 },
 "nbformat": 4,
 "nbformat_minor": 5
}
