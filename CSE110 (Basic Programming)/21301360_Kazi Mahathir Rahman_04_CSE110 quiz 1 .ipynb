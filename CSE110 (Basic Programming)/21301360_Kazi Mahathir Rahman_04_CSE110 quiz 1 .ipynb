{
 "cells": [
  {
   "cell_type": "code",
   "execution_count": 14,
   "id": "842a6c86",
   "metadata": {},
   "outputs": [
    {
     "name": "stdout",
     "output_type": "stream",
     "text": [
      "Enter the second:6\n",
      "knock!knock!knock!Penny!knock!knock!knock!Penny!"
     ]
    }
   ],
   "source": [
    "#starts\n",
    "\n",
    "seconds=int(input('Enter the second:'))\n",
    "\n",
    "word1='knock!'\n",
    "word2='Penny!'\n",
    "time=seconds//3\n",
    "\n",
    "for sen in range(time):\n",
    "    sentence=word1*3+word2\n",
    "    \n",
    "    print(sentence,end=\"\")\n",
    "    "
   ]
  },
  {
   "cell_type": "code",
   "execution_count": null,
   "id": "064f9790",
   "metadata": {},
   "outputs": [],
   "source": []
  }
 ],
 "metadata": {
  "kernelspec": {
   "display_name": "Python 3",
   "language": "python",
   "name": "python3"
  },
  "language_info": {
   "codemirror_mode": {
    "name": "ipython",
    "version": 3
   },
   "file_extension": ".py",
   "mimetype": "text/x-python",
   "name": "python",
   "nbconvert_exporter": "python",
   "pygments_lexer": "ipython3",
   "version": "3.8.8"
  }
 },
 "nbformat": 4,
 "nbformat_minor": 5
}
