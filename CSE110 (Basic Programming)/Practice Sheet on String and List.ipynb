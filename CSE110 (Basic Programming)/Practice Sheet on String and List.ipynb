{
 "cells": [
  {
   "cell_type": "markdown",
   "id": "208a7a46",
   "metadata": {},
   "source": [
    "# <font color='darkcyan'>Practice Sheet on String and List</font>                "
   ]
  },
  {
   "cell_type": "markdown",
   "id": "e0ac4470",
   "metadata": {},
   "source": [
    "**1.** Write a python code of a program that reads the values for the three sides x, y, and z of a triangle,\n",
    "and then calculates its area. . The area is calculated as follows:\n",
    "\n",
    "**Area =** $s\\sqrt{(s-x)(s-y)(s-z)} \\mbox{   }$  **where,**   s=$\\frac{x+y+z}{3}$"
   ]
  },
  {
   "cell_type": "code",
   "execution_count": 11,
   "id": "77b25476",
   "metadata": {},
   "outputs": [
    {
     "name": "stdout",
     "output_type": "stream",
     "text": [
      "Enter the value of X: 2\n",
      "Enter the value of Y: 3\n",
      "Enter the value of Z: 6\n",
      "3.6666666666666665\n",
      "(3.615092585593557e-16+5.90389422992903j)\n"
     ]
    }
   ],
   "source": [
    "#todo\n",
    "x=int(input('Enter the value of X: '))\n",
    "y=int(input('Enter the value of Y: '))\n",
    "z=int(input('Enter the value of Z: '))\n",
    "\n",
    "s=(x+y+z)/3\n",
    "area=s*(((s-x)*(s-y)*(s-z))**0.5)\n",
    "print(s)\n",
    "print(area)"
   ]
  },
  {
   "cell_type": "markdown",
   "id": "a7b88507",
   "metadata": {},
   "source": [
    "**2.** Write Python code of a program that reads three numbers form user and print the greatest number\n",
    "among three numbers.\n"
   ]
  },
  {
   "cell_type": "code",
   "execution_count": 15,
   "id": "853fa281",
   "metadata": {},
   "outputs": [
    {
     "name": "stdout",
     "output_type": "stream",
     "text": [
      "Enter the value of X: 3\n",
      "Enter the value of Y: 4\n",
      "Enter the value of Z: 5\n",
      "Greatest 5\n"
     ]
    }
   ],
   "source": [
    "#todo\n",
    "x=int(input('Enter the value of X: '))\n",
    "y=int(input('Enter the value of Y: '))\n",
    "z=int(input('Enter the value of Z: '))\n",
    "\n",
    "if(x>y and x>z):\n",
    "    print('Greatest',x)\n",
    "elif(y>x and y>z):\n",
    "    print('Greatest',y)\n",
    "else:\n",
    "    print('Greatest',z)\n"
   ]
  },
  {
   "cell_type": "markdown",
   "id": "973a0bb4",
   "metadata": {},
   "source": [
    "**3.** Write Python code of a program that reads three sides of a triangle and check whether the triangle is\n",
    "valid or not."
   ]
  },
  {
   "cell_type": "code",
   "execution_count": 4,
   "id": "90359945",
   "metadata": {},
   "outputs": [
    {
     "name": "stdout",
     "output_type": "stream",
     "text": [
      "Enter the value of X: 3\n",
      "Enter the value of Y: 4\n",
      "Enter the value of Z: 8\n",
      "Unvalid\n"
     ]
    }
   ],
   "source": [
    "#todo\n",
    "x=int(input('Enter the value of X: '))\n",
    "y=int(input('Enter the value of Y: '))\n",
    "z=int(input('Enter the value of Z: '))\n",
    "\n",
    "list1=[x,y,z]\n",
    "max_value=max(list1)\n",
    "total_sum= x+y+z-max_value\n",
    "\n",
    "if(total_sum > max_value):\n",
    "    print('Valid')\n",
    "else:\n",
    "    print('Invalid')"
   ]
  },
  {
   "cell_type": "markdown",
   "id": "d0c398ef",
   "metadata": {},
   "source": [
    "**4.** Three conditions are used to identify leap years:\n",
    "\n",
    "I. The year can be evenly divided by 4, is a leap year, unless\n",
    "\n",
    "II. The year can be evenly divided by 100, it is NOT a leap year, unless:\n",
    "\n",
    "III. The year is also evenly divisible by 400. Then it is a leap year.\n",
    "#### \n",
    "For example, the years 2000 and 2400 are leap years, while 1800, 1900, 2100, 2200, 2300 and 2500 are\n",
    "NOT leap years.\n",
    "\n",
    "Write Python code of a program that reads a number as year and determine whether it is a leap year or not."
   ]
  },
  {
   "cell_type": "code",
   "execution_count": 2,
   "id": "a6085442",
   "metadata": {},
   "outputs": [],
   "source": [
    "#todo\n"
   ]
  },
  {
   "cell_type": "markdown",
   "id": "06b7d446",
   "metadata": {},
   "source": [
    "**5.** Write a Python program that reads a number and find the sum of the series of\n",
    "\n",
    "1 +11 + 111 + 1111 + ….+N terms.\n",
    "\n",
    "Example:\n",
    "\n",
    "**Sample Input :**\n",
    "\n",
    "5\n",
    "\n",
    "**Sample Output :**\n",
    "\n",
    "1 + 11 + 111 + 1111 + 11111\n",
    "\n",
    "\n",
    "The Sum is : 12345\n"
   ]
  },
  {
   "cell_type": "code",
   "execution_count": 1,
   "id": "57496e6a",
   "metadata": {},
   "outputs": [
    {
     "name": "stdout",
     "output_type": "stream",
     "text": [
      "Enter the number: 5\n",
      "1 + 11 + 111 + 1111 + 11111 + "
     ]
    }
   ],
   "source": [
    "#todo\n",
    "number=int(input('Enter the number: '))\n",
    "\n",
    "count='1'\n",
    "for i in range(0,number):\n",
    "    print(count,end=' + ')\n",
    "    count= count + '1'"
   ]
  },
  {
   "cell_type": "markdown",
   "id": "ba48d68e",
   "metadata": {},
   "source": [
    "**6.** Write a Python program that reads a number and display the multiplication table of the given integer.\n",
    "\n",
    "Example :\n",
    "\n",
    "**Sample Input :** 15\n",
    "\n",
    "**Sample Output :**\n",
    "\n",
    "15 X 1 = 15\n",
    "\n",
    "15 X 2 = 30\n",
    "\n",
    "**...**\n",
    "\n",
    "**...**\n",
    "\n",
    "15 X 10 = 150"
   ]
  },
  {
   "cell_type": "code",
   "execution_count": 3,
   "id": "3075b227",
   "metadata": {},
   "outputs": [
    {
     "name": "stdout",
     "output_type": "stream",
     "text": [
      "Enter the number: 15\n",
      "15 * 1 = 15\n",
      "15 * 2 = 30\n",
      "15 * 3 = 45\n",
      "15 * 4 = 60\n",
      "15 * 5 = 75\n",
      "15 * 6 = 90\n",
      "15 * 7 = 105\n",
      "15 * 8 = 120\n",
      "15 * 9 = 135\n",
      "15 * 10 = 150\n"
     ]
    }
   ],
   "source": [
    "#todo\n",
    "number=int(input('Enter the number: '))\n",
    "\n",
    "for i in range(1,11):\n",
    "    num= number*i\n",
    "    print(number,'*',i,'=',num)"
   ]
  },
  {
   "cell_type": "markdown",
   "id": "e7a07c1e",
   "metadata": {},
   "source": [
    "**8.** Write a python program that takes integer inputs from the user until the user gives \"Stop\". Print\n",
    "average and product of all numbers"
   ]
  },
  {
   "cell_type": "code",
   "execution_count": 5,
   "id": "45aafde6",
   "metadata": {},
   "outputs": [
    {
     "name": "stdout",
     "output_type": "stream",
     "text": [
      "Enter the number: 5\n",
      "Enter the numbers: 6\n",
      "Enter the numbers: 7\n",
      "Enter the numbers: Stop\n",
      "6.0\n",
      "210\n"
     ]
    }
   ],
   "source": [
    "#todo\n",
    "number=input('Enter the number: ')\n",
    "list1=[]\n",
    "\n",
    "while number!= 'Stop':\n",
    "    list1.append(int(number))\n",
    "    number=input('Enter the numbers: ')\n",
    "\n",
    "sum1=0\n",
    "product= 1\n",
    "for i in list1:\n",
    "    sum1+= i\n",
    "    product= product*i\n",
    "    \n",
    "avg= sum1/len(list1)\n",
    "\n",
    "\n",
    "print(avg)\n",
    "print(product)\n"
   ]
  },
  {
   "cell_type": "markdown",
   "id": "7f3cf16e",
   "metadata": {},
   "source": [
    "**9.** Write a Python program to count the total number of alphabets, digits and special characters in a\n",
    "string.\n",
    "\n",
    "**Sample Input:**\n",
    "\n",
    "Welcome to geeksforgeeks.com\n",
    "\n",
    "**Sample Output:**\n",
    "\n",
    "Number of Alphabets in the string is : 25\n",
    "\n",
    "Number of Digits in the string is : 0\n",
    "\n",
    "Number of Special characters in the string is : 3"
   ]
  },
  {
   "cell_type": "code",
   "execution_count": 12,
   "id": "536977b8",
   "metadata": {},
   "outputs": [
    {
     "name": "stdout",
     "output_type": "stream",
     "text": [
      "Enter the sentence: Welcome to geeksforgeeks.com\n",
      "Number of Alphabets in the string is :  25\n",
      "Number of Digits in the string is :  0\n",
      "Number of Special characters in the string is :  3\n"
     ]
    }
   ],
   "source": [
    "#todo\n",
    "sentence=input('Enter the sentence: ')\n",
    "\n",
    "count_alp=0\n",
    "count_digit=0\n",
    "count_sp=0\n",
    "for i in sentence:\n",
    "    x=ord(i)\n",
    "    if(x >= 65 and x <= 122):\n",
    "        count_alp += 1\n",
    "    elif(x >= 48 and x<= 57):\n",
    "        count_digit += 1\n",
    "    else:\n",
    "        count_sp += 1\n",
    "\n",
    "print('Number of Alphabets in the string is : ',count_alp)\n",
    "print('Number of Digits in the string is : ',count_digit)\n",
    "print('Number of Special characters in the string is : ',count_sp)\n"
   ]
  },
  {
   "cell_type": "markdown",
   "id": "3ada1c2f",
   "metadata": {},
   "source": [
    "**10.** Write a Python program to find the largest and smallest word in a string.\n",
    "\n",
    "**Sample Input :**\n",
    "\n",
    "It is a string with the smallest and largest word.\n",
    "\n",
    "**Sample Output :**\n",
    "\n",
    "The largest word is “smallest”\n",
    "\n",
    "and the smallest word is 'a'\n",
    "\n",
    "in the string : 'It is a string with the smallest and largest word.'."
   ]
  },
  {
   "cell_type": "code",
   "execution_count": 19,
   "id": "fa526a72",
   "metadata": {},
   "outputs": [
    {
     "name": "stdout",
     "output_type": "stream",
     "text": [
      "Enter the Sentence: It is a string with the smallest and largest word.\n",
      "The largest word is:  smallest\n",
      "and the smallest word is:  a\n",
      "in the string :  It is a string with the smallest and largest word.\n"
     ]
    }
   ],
   "source": [
    "#todo\n",
    "sentence=input('Enter the Sentence: ')\n",
    "list1=sentence.split(' ')\n",
    "\n",
    "max_st =list1[0]\n",
    "min_st =list1[0]\n",
    "\n",
    "for i in range(0,len(list1)):\n",
    "    if(len(max_st) < len(list1[i])):\n",
    "        max_st = list1[i]\n",
    "    if(len(min_st) > len(list1[i])):\n",
    "        min_st = list1[i]\n",
    "\n",
    "print('The largest word is: ',max_st)\n",
    "print('and the smallest word is: ',min_st)\n",
    "print('in the string : ',sentence)"
   ]
  },
  {
   "cell_type": "markdown",
   "id": "be4d8d5f",
   "metadata": {},
   "source": [
    "**11.** Write a Python program that takes two strings from the user . Then remove characters from the first\n",
    "\n",
    "string which are present in the second string.\n",
    "\n",
    "**<font color='red'>[ Avoid built-in function]</font>**\n",
    "\n",
    "**Sample Input:**\n",
    "\n",
    "India is great\n",
    "\n",
    "in\n",
    "\n",
    "**Sample Output:**\n",
    "\n",
    "da s great"
   ]
  },
  {
   "cell_type": "code",
   "execution_count": 35,
   "id": "586f8673",
   "metadata": {},
   "outputs": [
    {
     "name": "stdout",
     "output_type": "stream",
     "text": [
      "Enter the first word: India is great\n",
      "Enter the second word: in\n",
      "Ida is great"
     ]
    }
   ],
   "source": [
    "#todo\n",
    "word1=input('Enter the first word: ')\n",
    "word2=input('Enter the second word: ')\n",
    "list1=list(word1)\n",
    "list2=list(word2)\n",
    "\n",
    "for k in list2:\n",
    "    if(k in list1):\n",
    "        list1.remove(k)\n",
    "        \n",
    "for i in list1:       \n",
    "    print(i,end='')"
   ]
  },
  {
   "cell_type": "markdown",
   "id": "a960e218",
   "metadata": {},
   "source": [
    "**12.** Write a Python program to Capitalize the first character of each word in a String \n",
    "\n",
    "**<font color ='red'>[You cannot use the built-in upper() function]</font>**\n",
    "\n",
    "**Sample Input:**\n",
    "\n",
    "I love python programming\n",
    "\n",
    "**Sample Output:**\n",
    "\n",
    "I Love Python Programming"
   ]
  },
  {
   "cell_type": "code",
   "execution_count": 5,
   "id": "778b8891",
   "metadata": {},
   "outputs": [
    {
     "name": "stdout",
     "output_type": "stream",
     "text": [
      "Enter the sentence:I love python programming\n",
      "I Love Python Programming "
     ]
    }
   ],
   "source": [
    "#todo\n",
    "sentence=input('Enter the sentence:').split(' ')\n",
    "list1=[]\n",
    "\n",
    "for i in sentence:\n",
    "    x= ord(i[0])\n",
    "    if(x >= 97 and x <= 122):\n",
    "        y= chr(x-32)\n",
    "        text= i.replace(i[0],y)\n",
    "        list1.append(text)\n",
    "    else:\n",
    "        list1.append(i)\n",
    "\n",
    "for k in list1:\n",
    "    print(k,end=' ')"
   ]
  },
  {
   "cell_type": "markdown",
   "id": "e07e7824",
   "metadata": {},
   "source": [
    "**13.** Write a Python program that takes a list of numbers separated by comma(“,”) as input of a List\n",
    "A(Without using loop).Multiply the numbers and print the product.\n",
    "\n",
    "**<font color='red'>[Hint:You can use split()]**\n",
    "\n",
    "**Sample Input:**\n",
    "\n",
    "1,2,3,4,5\n",
    "\n",
    "**Sample output:**\n",
    "\n",
    "Product :120"
   ]
  },
  {
   "cell_type": "code",
   "execution_count": 8,
   "id": "15312d65",
   "metadata": {},
   "outputs": [
    {
     "name": "stdout",
     "output_type": "stream",
     "text": [
      "Enter the numbers: 1,2,3,4,5\n",
      "120\n"
     ]
    }
   ],
   "source": [
    "#todo\n",
    "numbers=input('Enter the numbers: ')\n",
    "list1=numbers.split(',')\n",
    "\n",
    "product=1\n",
    "for i in list1:\n",
    "    x=int(i)\n",
    "    product= product*x\n",
    "\n",
    "print(product)"
   ]
  },
  {
   "cell_type": "markdown",
   "id": "f85cb36f",
   "metadata": {},
   "source": [
    "**14.** Write a Python program that takes two lists from the user. Print both lists simultaneously such that\n",
    "list1 should display items in original order and list2 in reverse order.\n",
    "\n",
    "**Sample Input:**\n",
    "\n",
    "List1 = [10,20,30,40]\n",
    "\n",
    "List2 = [100,200,300,400]\n",
    "\n",
    "**Sample Output:**\n",
    "\n",
    "10 400\n",
    "\n",
    "20 300\n",
    "\n",
    "30 200\n",
    "\n",
    "40 100"
   ]
  },
  {
   "cell_type": "code",
   "execution_count": 13,
   "id": "6c36266f",
   "metadata": {},
   "outputs": [
    {
     "name": "stdout",
     "output_type": "stream",
     "text": [
      "Enter the numbers: 10,20,30,40\n",
      "Enter the numbers: 100,200,300,400\n",
      "10 400\n",
      "20 300\n",
      "30 200\n",
      "40 100\n"
     ]
    }
   ],
   "source": [
    "#todo\n",
    "numbers1=input('Enter the numbers: ')\n",
    "list1=numbers1.split(',')\n",
    "numbers2=input('Enter the numbers: ')\n",
    "list2=numbers2.split(',')\n",
    "list2.reverse()\n",
    "\n",
    "for i in range (0,len(list1)):\n",
    "    print(list1[i],list2[i])"
   ]
  },
  {
   "cell_type": "markdown",
   "id": "a4befc72",
   "metadata": {},
   "source": [
    "**15.** Write a Python program to reverse strings in a given list of string values.\n",
    "\n",
    "**Sample Input:**\n",
    "\n",
    "['Red','Green','Blue','White','Black']\n",
    "\n",
    "**Sample Output:**\n",
    "\n",
    "['deR', 'neerG', 'eulB', 'etihW', 'kcalB']"
   ]
  },
  {
   "cell_type": "code",
   "execution_count": 4,
   "id": "6064025a",
   "metadata": {},
   "outputs": [
    {
     "name": "stdout",
     "output_type": "stream",
     "text": [
      "Enter the numbers of colors: 5\n",
      "Enter the colors: red\n",
      "Enter the colors: white\n",
      "Enter the colors: black\n",
      "Enter the colors: blue\n",
      "Enter the colors: green\n",
      "['der', 'etihw', 'kcalb', 'eulb', 'neerg']\n"
     ]
    }
   ],
   "source": [
    "#todo\n",
    "list1=[]\n",
    "num=int(input('Enter the numbers of colors: '))\n",
    "for i in range(0,num):\n",
    "    x=input('Enter the colors: ')\n",
    "    list1.append(x)\n",
    "    \n",
    "list2=[]\n",
    "\n",
    "for i in list1:\n",
    "    ele = i[::-1]\n",
    "    list2.append(ele)\n",
    "\n",
    "print(list2)"
   ]
  },
  {
   "cell_type": "markdown",
   "id": "fe3582c0",
   "metadata": {},
   "source": [
    "**16.** Write a Python program that takes a list from the user .Then find the first even and first odd number in the list .\n",
    "\n",
    "**Sample Input:**\n",
    "\n",
    "[1, 3, 5, 7, 4, 1, 6, 8]\n",
    "\n",
    "**Sample Output:**\n",
    "\n",
    "First Even:4 and First Odd:1"
   ]
  },
  {
   "cell_type": "code",
   "execution_count": 9,
   "id": "58f94654",
   "metadata": {},
   "outputs": [
    {
     "name": "stdout",
     "output_type": "stream",
     "text": [
      "Enter the numbers: 4,6,78\n",
      "First Even:  4 and First Odd:  0\n"
     ]
    }
   ],
   "source": [
    "#todo\n",
    "numbers=input('Enter the numbers: ')\n",
    "list1=numbers.split(',')\n",
    "\n",
    "even=0\n",
    "odd=0\n",
    "for i in list1:\n",
    "    x=int(i)\n",
    "    if(x%2 == 0):\n",
    "        even=x\n",
    "    else:\n",
    "        odd=x\n",
    "    break\n",
    "\n",
    "print('First Even: ',even,'and First Odd: ',odd)"
   ]
  },
  {
   "cell_type": "markdown",
   "id": "5ee43a97",
   "metadata": {},
   "source": [
    "**17.** Write a Python program that takes a list A and a number as input from the user .Create a list by\n",
    "concatenating the input list which range goes from 1 to n.\n",
    "\n",
    "**Sample input:**\n",
    "\n",
    "A = ['p', 'q']\n",
    "\n",
    "N = 5\n",
    "\n",
    "**Sample Output:**\n",
    "\n",
    "['p1', 'q1', 'p2', 'q2', 'p3', 'q3', 'p4', 'q4', 'p5', 'q5']"
   ]
  },
  {
   "cell_type": "code",
   "execution_count": 14,
   "id": "5e34d320",
   "metadata": {},
   "outputs": [
    {
     "name": "stdout",
     "output_type": "stream",
     "text": [
      "Enter the element: p,q\n",
      "Enter the number: 5\n",
      "['p1', 'q1', 'p2', 'q2', 'p3', 'q3', 'p4', 'q4', 'p5', 'q5']\n"
     ]
    }
   ],
   "source": [
    "#todo\n",
    "numbers=input('Enter the element: ')\n",
    "list1=numbers.split(',')\n",
    "\n",
    "num=int(input('Enter the number: '))\n",
    "\n",
    "list2=[]\n",
    "for k in range(1,num+1):\n",
    "    for i in list1:\n",
    "        x = i + str(k)\n",
    "        list2.append(x)\n",
    "        \n",
    "print(list2)    "
   ]
  },
  {
   "cell_type": "markdown",
   "id": "f4f86849",
   "metadata": {},
   "source": [
    "# <font color= 'purple'>-----------------------------------------------------------------------------------------------</font>\n",
    "# <font color= 'purple'>-----------------------------------------------------------------------------------------------</font>\n",
    "#  "
   ]
  },
  {
   "cell_type": "markdown",
   "id": "ae4a5853",
   "metadata": {},
   "source": [
    "**PROBLEM 1.** Number Line\n",
    "\n",
    "**Sample input:**\n",
    "\n",
    "6\n",
    "\n",
    "**Sample output:**\n",
    "\n",
    "123456"
   ]
  },
  {
   "cell_type": "code",
   "execution_count": 16,
   "id": "1258792a",
   "metadata": {},
   "outputs": [],
   "source": [
    "#todo\n"
   ]
  },
  {
   "cell_type": "markdown",
   "id": "120ff232",
   "metadata": {},
   "source": [
    "**PROBLEM 2.** Star Line\n",
    "Print as many stars as given in input\n",
    "\n",
    "**Sample input:**\n",
    "\n",
    "6\n",
    "\n",
    "**Sample output:**\n",
    "\n",
    "    ******"
   ]
  },
  {
   "cell_type": "code",
   "execution_count": 17,
   "id": "07a6d9bf",
   "metadata": {},
   "outputs": [],
   "source": [
    "#todo\n",
    "\n"
   ]
  },
  {
   "cell_type": "markdown",
   "id": "962bc57b",
   "metadata": {},
   "source": [
    "**PROBLEM 3.** Rectangle\n",
    "\n",
    "**Sample input:**\n",
    "\n",
    "4\n",
    "\n",
    "6\n",
    "\n",
    "**Sample output:**\n",
    "    \n",
    "    ******\n",
    "    ******\n",
    "    ******\n",
    "    ******\n",
    "#### Hint: 4 and 6 means 4 lines of stars having 6 stars in each line."
   ]
  },
  {
   "cell_type": "code",
   "execution_count": 18,
   "id": "99c66fae",
   "metadata": {},
   "outputs": [],
   "source": [
    "#todo\n"
   ]
  },
  {
   "cell_type": "markdown",
   "id": "5bb0d112",
   "metadata": {},
   "source": [
    "**PROBLEM 4.** Rectangle\n",
    "\n",
    "**Sample input:**\n",
    "\n",
    "4\n",
    "\n",
    "6\n",
    "\n",
    "**Sample output:**\n",
    "\n",
    "123456\\\n",
    "123456\\\n",
    "123456\\\n",
    "123456\n",
    "\n",
    "#### Hint: 4 and 6 means 4 lines of numbers having 1..6 in each line."
   ]
  },
  {
   "cell_type": "code",
   "execution_count": 19,
   "id": "493011c5",
   "metadata": {},
   "outputs": [],
   "source": [
    "#todo\n"
   ]
  },
  {
   "cell_type": "markdown",
   "id": "a5d9f5ff",
   "metadata": {},
   "source": [
    "**PROBLEM 5.** \\\n",
    "Triangle - Left Justified\\\n",
    "Draw right angled triangle of given height\n",
    "\n",
    "**Sample input:**\n",
    "\n",
    "4\n",
    "\n",
    "**Sample output:**\n",
    "       \n",
    "    *\n",
    "    **\n",
    "    ***\n",
    "    ****\n",
    "\n",
    "#### Hint: One loop for lines, another loop for printing i number of starts when it is line i."
   ]
  },
  {
   "cell_type": "code",
   "execution_count": 20,
   "id": "890853aa",
   "metadata": {},
   "outputs": [],
   "source": [
    "#todo\n"
   ]
  },
  {
   "cell_type": "markdown",
   "id": "101d1020",
   "metadata": {},
   "source": [
    "**PROBLEM 6.** \\\n",
    "Triangle - Left Justified\\\n",
    "Draw right angled triangle of given height\n",
    "\n",
    "**Sample input:**\n",
    "\n",
    "4\n",
    "\n",
    "**Sample output:**\n",
    "\n",
    "1\\\n",
    "12\\\n",
    "123\\\n",
    "1234"
   ]
  },
  {
   "cell_type": "code",
   "execution_count": 21,
   "id": "76fd3063",
   "metadata": {},
   "outputs": [],
   "source": [
    "#todo\n"
   ]
  },
  {
   "cell_type": "markdown",
   "id": "9eb10507",
   "metadata": {},
   "source": [
    "**PROBLEM 7.**\\\n",
    "Triangle - Right Justified\\\n",
    "Draw right angled triangle of given height\n",
    "\n",
    "**Sample input:**\n",
    "\n",
    "4\n",
    "\n",
    "**Sample output:**\n",
    "\n",
    "       *\n",
    "      **\n",
    "     ***\n",
    "    ****\n",
    "\n",
    "\n",
    "#### Hint: Count and print appropriate number of spaces in front of stars. Notice that there is one less space and one more star in each line."
   ]
  },
  {
   "cell_type": "code",
   "execution_count": 22,
   "id": "cffcdee1",
   "metadata": {},
   "outputs": [],
   "source": [
    "#todo\n"
   ]
  },
  {
   "cell_type": "markdown",
   "id": "31d3a196",
   "metadata": {},
   "source": [
    "**PROBLEM 8.**\\\n",
    "Triangle - Right Justified\\\n",
    "Draw right angled triangle of given height\n",
    "\n",
    "**Sample input:**\n",
    "\n",
    "4\n",
    "\n",
    "**Sample output:**\n",
    "\n",
    "       1\n",
    "      12\n",
    "     123\n",
    "    1234"
   ]
  },
  {
   "cell_type": "code",
   "execution_count": 23,
   "id": "b43597fa",
   "metadata": {},
   "outputs": [],
   "source": [
    "#todo\n"
   ]
  },
  {
   "cell_type": "markdown",
   "id": "11eae173",
   "metadata": {},
   "source": [
    "**PROBLEM 9.**\\\n",
    "Triangle - Isosceles\\\n",
    "Draw triangle of given height\n",
    "\n",
    "**Sample input 1:**\n",
    "\n",
    "3\n",
    "\n",
    "**Sample output 1:**\n",
    "\n",
    "      *\n",
    "     ***\n",
    "    *****\n",
    "\n",
    "**Sample input 2:**\n",
    "\n",
    "4\n",
    "\n",
    "**Sample output 2:**\n",
    "\n",
    "       *\n",
    "      ***\n",
    "     *****\n",
    "    *******"
   ]
  },
  {
   "cell_type": "code",
   "execution_count": 24,
   "id": "86488099",
   "metadata": {},
   "outputs": [],
   "source": [
    "#todo\n"
   ]
  },
  {
   "cell_type": "markdown",
   "id": "e97126a6",
   "metadata": {},
   "source": [
    "**PROBLEM 10.**\\\n",
    "Triangle - Isosceles\\\n",
    "Draw triangle of given height\n",
    "\n",
    "**Sample input 1:**\n",
    "\n",
    "3\n",
    "\n",
    "**Sample output 1:**\n",
    "\n",
    "      1\n",
    "     123\n",
    "    12345\n",
    "\n",
    "**Sample input 2:**\n",
    "\n",
    "4\n",
    "\n",
    "**Sample output 2:**\n",
    "\n",
    "       1\n",
    "      123\n",
    "     12345\n",
    "    1234567"
   ]
  },
  {
   "cell_type": "code",
   "execution_count": 25,
   "id": "9120fbd2",
   "metadata": {},
   "outputs": [],
   "source": [
    "#todo\n"
   ]
  },
  {
   "cell_type": "markdown",
   "id": "7b07730f",
   "metadata": {},
   "source": [
    "**PROBLEM 11.** \\\n",
    "Triangle - Right Justified\\\n",
    "Draw right angled triangle of given height\n",
    "\n",
    "**Sample input:**\n",
    "\n",
    "4\n",
    "\n",
    "**Sample output:**\n",
    "\n",
    "       4\n",
    "      34\n",
    "     234\n",
    "    1234"
   ]
  },
  {
   "cell_type": "code",
   "execution_count": 26,
   "id": "663b4dc1",
   "metadata": {},
   "outputs": [],
   "source": [
    "#todo\n"
   ]
  },
  {
   "cell_type": "markdown",
   "id": "8d1e194f",
   "metadata": {},
   "source": [
    "**PROBLEM 12.**  \n",
    "Rhombus\\\n",
    "Just draw the image of the above triangle once. And then, the opposite, once.\n",
    "\n",
    "**Sample input:**\n",
    "\n",
    "3\n",
    "\n",
    "**Sample output:**\n",
    "\n",
    "      *\n",
    "     ***\n",
    "    *****\n",
    "     ***\n",
    "      *"
   ]
  },
  {
   "cell_type": "code",
   "execution_count": 27,
   "id": "619dee39",
   "metadata": {},
   "outputs": [],
   "source": [
    "#todo\n"
   ]
  },
  {
   "cell_type": "markdown",
   "id": "350490ec",
   "metadata": {},
   "source": [
    "**PROBLEM 13.**\n",
    "\n",
    "Rhombus\\\n",
    "Just draw the image of the above triangle once. And then, the opposite, once.\n",
    "\n",
    "**Sample input:**\n",
    "\n",
    "3\n",
    "\n",
    "**Sample output:**\n",
    "\n",
    "      1\n",
    "     123\n",
    "    12345\n",
    "     123\n",
    "      1"
   ]
  },
  {
   "cell_type": "code",
   "execution_count": 28,
   "id": "3d357715",
   "metadata": {},
   "outputs": [],
   "source": [
    "#todo\n",
    "\n"
   ]
  },
  {
   "cell_type": "markdown",
   "id": "0c6bdab0",
   "metadata": {},
   "source": [
    "**PROBLEM 14.** \\\n",
    "Hollow Rectangle\\\n",
    "Display a rectangle of given length and width.\n",
    "\n",
    "**Sample input:**\n",
    "\n",
    "4\n",
    "\n",
    "5\n",
    "\n",
    "**Sample output:**\n",
    "\n",
    "    *****\n",
    "    *   *\n",
    "    *   *\n",
    "    *****\n",
    "\n",
    "#### Hint 1: Print the character space (‘ ‘) in the middle.\n",
    "\n",
    "#### Hint 2: You can re-use your solution to PROBLEM 2 and use if condition to selectively print first and last star of \n",
    "#### each line and all stars of first and last line."
   ]
  },
  {
   "cell_type": "code",
   "execution_count": 29,
   "id": "6570ef63",
   "metadata": {},
   "outputs": [],
   "source": [
    "#todo\n"
   ]
  },
  {
   "cell_type": "markdown",
   "id": "a1222292",
   "metadata": {},
   "source": [
    "**PROBLEM 15.**\\\n",
    "Hollow Rectangle\\\n",
    "Display a rectangle of given length and width.\n",
    "\n",
    "**Sample input:**\n",
    "\n",
    "4\n",
    "\n",
    "5\n",
    "\n",
    "**Sample output:**\n",
    "\n",
    "    12345\n",
    "    1   5\n",
    "    1   5\n",
    "    12345"
   ]
  },
  {
   "cell_type": "code",
   "execution_count": 30,
   "id": "a5e3fa95",
   "metadata": {},
   "outputs": [],
   "source": [
    "#todo\n"
   ]
  },
  {
   "cell_type": "markdown",
   "id": "611a70d1",
   "metadata": {},
   "source": [
    "**PROBLEM 16.** \\\n",
    "Hollow Triangle - Left Justified\\\n",
    "Draw right angled triangle of given height\n",
    "\n",
    "**Sample input:**\n",
    "\n",
    "5\n",
    "\n",
    "**Sample output:**\n",
    "\n",
    "    *\n",
    "    **\n",
    "    * *\n",
    "    *  *\n",
    "    *****"
   ]
  },
  {
   "cell_type": "code",
   "execution_count": 31,
   "id": "9428a0c3",
   "metadata": {},
   "outputs": [],
   "source": [
    "#todo\n"
   ]
  },
  {
   "cell_type": "markdown",
   "id": "d928fc4b",
   "metadata": {},
   "source": [
    "**PROBLEM 17.**\\\n",
    "Hollow Triangle - Left Justified\\\n",
    "Draw right angled triangle of given height\n",
    "\n",
    "**Sample input:**\n",
    "\n",
    "5\n",
    "\n",
    "**Sample output:**\n",
    "\n",
    "    1\n",
    "    12\n",
    "    1 3\n",
    "    1  4\n",
    "    12345"
   ]
  },
  {
   "cell_type": "code",
   "execution_count": 32,
   "id": "f5fed4b6",
   "metadata": {},
   "outputs": [],
   "source": [
    "#todo\n"
   ]
  },
  {
   "cell_type": "markdown",
   "id": "3332ae1d",
   "metadata": {},
   "source": [
    "**PROBLEM 18.** \n",
    "\n",
    "Hollow Triangle\\\n",
    "Draw right angled triangle of given height\n",
    "\n",
    "**Sample input:**\n",
    "\n",
    "5\n",
    "\n",
    "**Sample output:**\n",
    "\n",
    "        *\n",
    "       **\n",
    "      * *\n",
    "     *  *\n",
    "    *****"
   ]
  },
  {
   "cell_type": "code",
   "execution_count": 33,
   "id": "92c2c118",
   "metadata": {},
   "outputs": [],
   "source": [
    "#todo\n"
   ]
  },
  {
   "cell_type": "markdown",
   "id": "0d53af78",
   "metadata": {},
   "source": [
    "**PROBLEM 19.**\\\n",
    "Hollow Triangle - Right Justified\\\n",
    "Draw right angled triangle of given height\n",
    "\n",
    "**Sample input:**\n",
    "\n",
    "5\n",
    "\n",
    "**Sample output:**\n",
    "\n",
    "        5\n",
    "       45\n",
    "      3 5\n",
    "     2  5\n",
    "    12345"
   ]
  },
  {
   "cell_type": "code",
   "execution_count": 34,
   "id": "5089130a",
   "metadata": {},
   "outputs": [],
   "source": [
    "#todo\n"
   ]
  },
  {
   "cell_type": "markdown",
   "id": "5af8d1a6",
   "metadata": {},
   "source": [
    "**PROBLEM 20.** \\\n",
    "Hollow Triangle\\\n",
    "Draw triangle of given height\n",
    "\n",
    "**Sample input 1:**\n",
    "\n",
    "3\n",
    "\n",
    "**Sample output 1:**\n",
    "\n",
    "      *\n",
    "     * *\n",
    "    *****\n",
    "\n",
    "**Sample input 2:**\n",
    "\n",
    "4\n",
    "\n",
    "**Sample output 2:**\n",
    "\n",
    "       *\n",
    "      * *\n",
    "     *   *\n",
    "    *******"
   ]
  },
  {
   "cell_type": "code",
   "execution_count": 35,
   "id": "06b5439f",
   "metadata": {},
   "outputs": [],
   "source": [
    "#todo\n"
   ]
  },
  {
   "cell_type": "markdown",
   "id": "9fb12c2b",
   "metadata": {},
   "source": [
    "**PROBLEM 21.**\\\n",
    "Hollow Triangle – Isosceles\\\n",
    "Draw triangle of given height\n",
    "\n",
    "**Sample input 1:**\n",
    "\n",
    "3\n",
    "\n",
    "**Sample output 1:**\n",
    "\n",
    "      1\n",
    "     1 3\n",
    "    12345\n",
    "\n",
    "**Sample input 2:**\n",
    "\n",
    "4\n",
    "\n",
    "**Sample output 2:**\n",
    "\n",
    "       1\n",
    "      1 3\n",
    "     1   5\n",
    "    1234567"
   ]
  },
  {
   "cell_type": "code",
   "execution_count": 36,
   "id": "099db12b",
   "metadata": {},
   "outputs": [],
   "source": [
    "#todo\n"
   ]
  },
  {
   "cell_type": "markdown",
   "id": "a324c7c6",
   "metadata": {},
   "source": [
    "**PROBLEM 22.** \n",
    "\n",
    "Hollow Rhombus\\\n",
    "Just draw the image of the above triangle once. And then, the opposite, once.\n",
    "\n",
    "**Sample input:**\n",
    "\n",
    "3\n",
    "\n",
    "**Sample output:**\n",
    "\n",
    "      *\n",
    "     * *\n",
    "    *   *\n",
    "     * *\n",
    "      *"
   ]
  },
  {
   "cell_type": "code",
   "execution_count": 37,
   "id": "a01e7b65",
   "metadata": {},
   "outputs": [],
   "source": [
    "#todo\n"
   ]
  },
  {
   "cell_type": "markdown",
   "id": "aefb947f",
   "metadata": {},
   "source": [
    "**PROBLEM 23.** \\\n",
    "Hollow Rhombus\\\n",
    "Just draw the image of the above triangle once. And then, the opposite, once.\n",
    "\n",
    "**Sample input:**\n",
    "\n",
    "3\n",
    "\n",
    "**Sample output:**\n",
    "\n",
    "      1\n",
    "     1 3\n",
    "    1   5\n",
    "     1 3\n",
    "      1"
   ]
  },
  {
   "cell_type": "code",
   "execution_count": 38,
   "id": "e240ff74",
   "metadata": {},
   "outputs": [],
   "source": [
    "#todo\n"
   ]
  },
  {
   "cell_type": "markdown",
   "id": "2714d9dc",
   "metadata": {},
   "source": [
    "**PROBLEM 24.**\\\n",
    "Palindrome\n",
    "\n",
    "**Sample input:**\n",
    "\n",
    "5\n",
    "\n",
    "**Sample output:**\n",
    "    \n",
    "123454321"
   ]
  },
  {
   "cell_type": "code",
   "execution_count": null,
   "id": "739050bd",
   "metadata": {},
   "outputs": [],
   "source": [
    "#todo\n",
    "\n"
   ]
  },
  {
   "cell_type": "markdown",
   "id": "d69196b2",
   "metadata": {},
   "source": [
    "**PROBLEM 25.**\\\n",
    "Palindromic Triangle\n",
    "\n",
    "**Sample input:**\n",
    "\n",
    "5\n",
    "\n",
    "**Sample output:**\n",
    "\n",
    "        1\n",
    "       121\n",
    "      12321\n",
    "     1234321\n",
    "    123454321"
   ]
  },
  {
   "cell_type": "code",
   "execution_count": 39,
   "id": "e197db85",
   "metadata": {},
   "outputs": [],
   "source": [
    "#todo\n"
   ]
  }
 ],
 "metadata": {
  "kernelspec": {
   "display_name": "Python 3",
   "language": "python",
   "name": "python3"
  },
  "language_info": {
   "codemirror_mode": {
    "name": "ipython",
    "version": 3
   },
   "file_extension": ".py",
   "mimetype": "text/x-python",
   "name": "python",
   "nbconvert_exporter": "python",
   "pygments_lexer": "ipython3",
   "version": "3.8.8"
  }
 },
 "nbformat": 4,
 "nbformat_minor": 5
}
