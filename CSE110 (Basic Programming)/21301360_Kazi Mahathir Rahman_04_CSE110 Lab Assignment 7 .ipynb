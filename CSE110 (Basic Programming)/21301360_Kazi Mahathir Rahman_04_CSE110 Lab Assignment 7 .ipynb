{
 "cells": [
  {
   "cell_type": "markdown",
   "metadata": {
    "id": "oMYzsTcnHEll"
   },
   "source": [
    "# CSE110 Lab Assignment 7 on Sorting and Searching\n",
    "\n",
    "Write your name, student id and CSE110 section below:\n"
   ]
  },
  {
   "cell_type": "code",
   "execution_count": null,
   "metadata": {
    "id": "ljd7OxU2gvWb"
   },
   "outputs": [],
   "source": [
    "#STUDENT NAME: KAZI MAHATHIR RAHMAN\n",
    "#STUDENT ID: 21301360\n",
    "#CSE110 SECTION: 04"
   ]
  },
  {
   "cell_type": "markdown",
   "metadata": {
    "id": "jT-t2zlnHEll"
   },
   "source": [
    "## Write the Python code for the following problems:\n",
    "**<font color='red'>[MUST MAINTAIN VARIABLE NAMING CONVENTIONS FOR ALL THE TASKS]</font>**\n",
    "\n",
    "### Task 1\n",
    "\n",
    "Suppose you have a list named my_list as given below. <br/>\n",
    "my_list = [10,1,20,3,6,2,5,11,15,2,12,14,17,18,29] <br/>\n",
    "Now use bubble sort to sort my_list into ascending order.\n",
    "\n",
    "**Output**<br/>\n",
    "[1, 2, 2, 3, 5, 6, 10, 11, 12, 14, 15, 17, 18, 20, 29]"
   ]
  },
  {
   "cell_type": "code",
   "execution_count": 8,
   "metadata": {
    "id": "7qXVakLgHElm"
   },
   "outputs": [
    {
     "name": "stdout",
     "output_type": "stream",
     "text": [
      "[1, 2, 2, 3, 5, 6, 10, 11, 12, 14, 15, 17, 18, 20, 29]\n"
     ]
    }
   ],
   "source": [
    "#todo - Bubble sort starts arranging the elements from the top\n",
    "\n",
    "my_list = [10,1,20,3,6,2,5,11,15,2,12,14,17,18,29]\n",
    "\n",
    "for i in range(0,len(my_list)-1):\n",
    "    for k in range(0,len(my_list)-i-1):\n",
    "        if(my_list[k] > my_list[k+1]):\n",
    "            num= my_list[k]\n",
    "            my_list[k]= my_list[k+1]\n",
    "            my_list[k+1]= num\n",
    "            \n",
    "print(my_list)\n"
   ]
  },
  {
   "cell_type": "markdown",
   "metadata": {
    "id": "w1QgeWd2HElp"
   },
   "source": [
    "### Task 2\n",
    "\n",
    "Suppose you have a list named my_list as given below. <br/>\n",
    "my_list = [10,1,20,3,6,2,5,11,15,2,12,14,17,18,29] <br/>\n",
    "Now use selection sort to sort my_list into ascending order.\n",
    "\n",
    "**Output**<br/>\n",
    "[1, 2, 2, 3, 5, 6, 10, 11, 12, 14, 15, 17, 18, 20, 29]\n",
    "\n"
   ]
  },
  {
   "cell_type": "code",
   "execution_count": 10,
   "metadata": {
    "id": "am0B_8ICHElq"
   },
   "outputs": [
    {
     "name": "stdout",
     "output_type": "stream",
     "text": [
      "[1, 2, 2, 3, 5, 6, 10, 11, 12, 14, 15, 17, 18, 20, 29]\n"
     ]
    }
   ],
   "source": [
    "#todo Selection sort starts arranging the elements from the bottom\n",
    "\n",
    "my_list = [10,1,20,3,6,2,5,11,15,2,12,14,17,18,29]\n",
    "\n",
    "for i in range(len(my_list)):\n",
    "    min_idx= i\n",
    "    \n",
    "    for k in range(i+1, len(my_list)):\n",
    "        if(my_list[k] < my_list[min_idx]):\n",
    "            min_idx= k\n",
    "            \n",
    "    num= my_list[min_idx]\n",
    "    my_list[min_idx] = my_list[i]\n",
    "    my_list[i] = num\n",
    "    \n",
    "print(my_list)\n"
   ]
  },
  {
   "cell_type": "markdown",
   "metadata": {
    "id": "j4ffr2CAHElt"
   },
   "source": [
    "### Task  3\n",
    "\n",
    "Suppose you have a list named my_list as given below <br/>\n",
    "my_list=[10,1,20,3,6,2,5,11,15,2,12,14,17,18,29] <br/>\n",
    "Now use any of the two sorting techniques you have used above to sort the list in descending order.\n",
    "\n",
    "**Output**<br/>\n",
    "[29, 20, 18, 17, 15, 14, 12, 11, 10, 6, 5, 3, 2, 2, 1]\n"
   ]
  },
  {
   "cell_type": "code",
   "execution_count": 1,
   "metadata": {
    "id": "n2X3YR-_HElt"
   },
   "outputs": [
    {
     "name": "stdout",
     "output_type": "stream",
     "text": [
      "[29, 20, 18, 17, 15, 14, 12, 11, 10, 6, 5, 3, 2, 2, 1]\n"
     ]
    }
   ],
   "source": [
    "#todo\n",
    "my_list=[10,1,20,3,6,2,5,11,15,2,12,14,17,18,29]\n",
    "\n",
    "for i in range(0,len(my_list)-1):\n",
    "    for k in range(0,len(my_list)-i-1):\n",
    "        if(my_list[k] < my_list[k+1]):\n",
    "            num= my_list[k]\n",
    "            my_list[k]= my_list[k+1]\n",
    "            my_list[k+1]= num\n",
    "            \n",
    "print(my_list)"
   ]
  },
  {
   "cell_type": "markdown",
   "metadata": {
    "id": "9iYiiTWWHElw"
   },
   "source": [
    "### Task 4\n",
    "\n",
    "Suppose you have a sitting arrangement of the students who will give the final exam in a list. The list contains the last two digits of their student ID as given below.<br/>\n",
    "\n",
    "sitting_list = [10,30,20,70,11,15,22,16,58,100,12,56,70,80] <br/>\n",
    "\n",
    "Now you want to organize the sitting arrangement of the students in your own way. You decide to sort all the students in the even indices of the list in ascending order and all the students in the odd indices of the list in descending order.  <br/>\n",
    "\n",
    "So, write a python program that organizes the list for you in this way.<br/>\n",
    "\n",
    "\n",
    "**Sample Output**<br/>\n",
    "[10, 100, 11, 80, 12, 70, 20, 56, 22, 30, 58, 16, 70, 15]"
   ]
  },
  {
   "cell_type": "code",
   "execution_count": 29,
   "metadata": {
    "id": "nPdUAKDJHElw"
   },
   "outputs": [
    {
     "name": "stdout",
     "output_type": "stream",
     "text": [
      "[10, 100, 11, 80, 12, 70, 20, 56, 22, 30, 58, 16, 70, 15]\n"
     ]
    }
   ],
   "source": [
    "#todo\n",
    "\n",
    "sitting_list = [10,30,20,70,11,15,22,16,58,100,12,56,70,80]\n",
    "\n",
    "for i in range(0,len(sitting_list),2):\n",
    "    min_idx=i\n",
    "    \n",
    "    for j in range(i,len(sitting_list),2):\n",
    "        if(sitting_list[j] < sitting_list[min_idx]):\n",
    "                min_idx = j\n",
    "                \n",
    "    sitting_list[i], sitting_list[min_idx] = sitting_list[min_idx], sitting_list[i]\n",
    "\n",
    "for i in range(1,len(sitting_list),2):\n",
    "    max_idx= i\n",
    "    \n",
    "    for j in range(i,len(sitting_list),2):\n",
    "        if(sitting_list[j] > sitting_list[max_idx]):\n",
    "                max_idx = j\n",
    "                \n",
    "    sitting_list[i], sitting_list[max_idx] = sitting_list[max_idx], sitting_list[i]\n",
    "        \n",
    "print(sitting_list)"
   ]
  },
  {
   "cell_type": "markdown",
   "metadata": {
    "id": "oVR1Tsa0HElz"
   },
   "source": [
    "### Task 5\n",
    "\n",
    "Suppose a list contains marks earned in the courses CSE110, PHY111, and MAT110 of each student consecutively in a nested list form. Your task is to take a course name as input from the user and sort the list based on the marks obtained in that course in order to finally print the names of the students in descending order of marks obtained i.e. from the student who earned the highest marks to the student who earned the lowest. <br/>\n",
    "\n",
    "For example, the list may look like <br/>\n",
    "lst = [ [\"Alan\", 95, 87, 91], [\"Turing\", 92, 90, 83], [\"Elon\", 87, 92, 80], [\"Musk\", 85, 94, 90] ] <br/>\n",
    "where for each nested list, 1st index holds the name of the student, 2nd index is total marks earned in the CSE110 course, 3rd index is PHY111 marks and 4th index is MAT110 marks. \n",
    "\n",
    "=====================================================\n",
    "\n",
    "**Hint:**<br/>\n",
    "You may create a function for sorting, then call it every time when needed instead of rewriting the code.\n",
    "\n",
    "You may get the data in the individual lists from the given nested list.\n",
    "\n",
    "=====================================================\n",
    "\n",
    "**Sample Input 1**<br/>\n",
    "MAT110\n",
    "\n",
    "**Sample Output 1**<br/>\n",
    "Alan <br/>\n",
    "Musk <br/>\n",
    "Turing <br/>\n",
    "Elon\n",
    "\n",
    "**Explanation:**<br/>\n",
    "Here the user gives us \"MAT110\" as the course name. Now, the students Alan, Turing, Elon and Musk earned 91, 83, 80 and 90 marks respectively in this course. If we sort it, Alan got the highest marks of 91 followed by Musk with 90 marks and Turing with 83 marks. Among these 4 students, Elon obtained the lowest marks in the MAT110 course with 80 marks. All of these has been illustrated in our sample output.\n",
    "\n",
    "=====================================================\n",
    "\n",
    "**Sample Input 2**<br/>\n",
    "PHY111\n",
    "\n",
    "**Sample Output 2**<br/>\n",
    "Musk <br/>\n",
    "Elon <br/>\n",
    "Turing <br/>\n",
    "Alan"
   ]
  },
  {
   "cell_type": "code",
   "execution_count": 3,
   "metadata": {
    "id": "539b2P1NHElz"
   },
   "outputs": [
    {
     "name": "stdout",
     "output_type": "stream",
     "text": [
      "Enter the course name:CSE110\n",
      "Musk\n",
      "Elon\n",
      "Turing\n",
      "Alan\n"
     ]
    }
   ],
   "source": [
    "#todo\n",
    "ist = [[\"Alan\", 95, 87, 91],[\"Turing\", 92, 90, 83],[\"Elon\", 87, 92, 80],[\"Musk\", 85, 94, 90]]\n",
    "course=input('Enter the course name:')\n",
    "mark_list=[]\n",
    "student_list=[]\n",
    "\n",
    "if(course == \"CSE110\"):\n",
    "    index=1\n",
    "elif(course == 'PHY111'):\n",
    "    index=2\n",
    "elif(course == 'MAT110'):\n",
    "    index=3\n",
    "\n",
    "for i in ist:\n",
    "    student_list.append(i[0])\n",
    "    mark_list.append(i[index])\n",
    "    \n",
    "for i in range(0,len(mark_list)-1):\n",
    "    for k in range(0,len(mark_list)-i-1):\n",
    "        if(mark_list[k] > mark_list[k+1]):\n",
    "            num= mark_list[k]\n",
    "            mark_list[k]= mark_list[k+1]\n",
    "            mark_list[k+1]= num\n",
    "            \n",
    "            num= student_list[k]\n",
    "            student_list[k]= student_list[k+1]\n",
    "            student_list[k+1]= num\n",
    "            \n",
    "for i in student_list:           \n",
    "    print(i)"
   ]
  },
  {
   "cell_type": "markdown",
   "metadata": {
    "id": "B0Rqbyi4HEl2"
   },
   "source": [
    "### Task 6\n",
    "\n",
    "Suppose you have a list named my_list as given below. Your task is to sort the list in ascending order and print the count of numbers that have changed their positions in the process of sorting. <br/>\n",
    "\n",
    "my_list = [4, 2, 3, 1, 6, 5] <br/>\n",
    "\n",
    "Sorted list would be [1, 2, 3, 4, 5, 6] where 4 numbers (4, 1, 6 and 5) have changed their positions. Therefore our sample output here would be 4. Please check if your code is working correctly by changing the above list and using the knowledge given here to verify whether your code gives correct output for all different lists.\n",
    "\n",
    "\n",
    "**Sample Output for the above list**<br/>\n",
    "4"
   ]
  },
  {
   "cell_type": "code",
   "execution_count": 80,
   "metadata": {
    "id": "AMc8jAa7HEl2"
   },
   "outputs": [
    {
     "name": "stdout",
     "output_type": "stream",
     "text": [
      "4\n"
     ]
    }
   ],
   "source": [
    "#todo\n",
    "my_list = [4, 2, 3, 1, 6, 5]\n",
    "list1=my_list.copy()\n",
    "count=0\n",
    "\n",
    "for i in range(len(my_list)):\n",
    "    min_idx= i\n",
    "    \n",
    "    for j in range(i+1,len(my_list)):\n",
    "        if(my_list[j] < my_list[min_idx]):\n",
    "            min_idx = j\n",
    "            \n",
    "    my_list[i], my_list[min_idx] = my_list[min_idx], my_list[i]\n",
    "\n",
    "for i in range(0,len(my_list)):\n",
    "    if(list1[i] != my_list[i]):\n",
    "        count+=1\n",
    "        \n",
    "print(count)"
   ]
  },
  {
   "cell_type": "markdown",
   "metadata": {
    "id": "iIH5n0sJHEl5"
   },
   "source": [
    "### Task 7\n",
    "\n",
    "Write a python program that takes two lists from the user, merges the two lists, sorts the resulting list, and then finds the median of the elements in the two lists.\n",
    "\n",
    "=====================================================\n",
    "\n",
    "\n",
    "**Sample Input 1**<br/>\n",
    "list_one = [1, 2, 1, 4] <br/>\n",
    "list_two = [5, 4, 1]\n",
    "\n",
    "\n",
    "**Sample Output 1**<br/>\n",
    "Sorted list = [1, 1, 1, 2, 4, 4, 5] <br/>\n",
    "Median = 2\n",
    "\n",
    "=====================================================\n",
    "\n",
    "\n",
    "**Sample Input 2**<br/>\n",
    "list_one = [1, 7, 9, 10] <br/>\n",
    "list_two = [2, 7, 6, 5]\n",
    "\n",
    "\n",
    "**Sample Output 2**<br/>\n",
    "Sorted list = [1, 2, 5, 6, 7, 7, 9, 10] <br/>\n",
    "Median = 6.5\n",
    "\n"
   ]
  },
  {
   "cell_type": "code",
   "execution_count": 76,
   "metadata": {
    "id": "KsFxC7XbHEl6",
    "scrolled": false
   },
   "outputs": [
    {
     "name": "stdout",
     "output_type": "stream",
     "text": [
      "Enter the 1st list elemnent number:4\n",
      "Enter the element:1\n",
      "Enter the element:7\n",
      "Enter the element:9\n",
      "Enter the element:10\n",
      "Enter the 2nd list elemnent number:4\n",
      "Enter the element:2\n",
      "Enter the element:7\n",
      "Enter the element:6\n",
      "Enter the element:5\n",
      "Sorted list= [1, 2, 5, 6, 7, 7, 9, 10]\n",
      "Median= 6.5\n"
     ]
    }
   ],
   "source": [
    "#todo\n",
    "#1st list as input\n",
    "n1=int(input('Enter the 1st list elemnent number:'))\n",
    "list1=[]\n",
    "for i in range(0,n1):\n",
    "    x1=int(input('Enter the element:'))\n",
    "    list1.append(x1)                  #1st list as input\n",
    "\n",
    "#2nd list as input\n",
    "n2=int(input('Enter the 2nd list elemnent number:'))\n",
    "list2=[]\n",
    "for i in range(0,n2):\n",
    "    x2=int(input('Enter the element:'))\n",
    "    list2.append(x2)\n",
    "    \n",
    "sorted_list= list1+list2\n",
    "\n",
    "for i in range(len(sorted_list)):\n",
    "    min_idx= i\n",
    "    \n",
    "    for j in range(i+1,len(sorted_list)):\n",
    "        if(sorted_list[j] < sorted_list[min_idx]):\n",
    "            min_idx = j\n",
    "            \n",
    "    sorted_list[i], sorted_list[min_idx] = sorted_list[min_idx], sorted_list[i]\n",
    "\n",
    "if(len(sorted_list)%2==1):\n",
    "    index=(len(sorted_list)+1)//2\n",
    "    median=sorted_list[index-1]\n",
    "else:\n",
    "    index1=len(sorted_list)//2\n",
    "    index2=(len(sorted_list)//2)+1\n",
    "    median=(sorted_list[index1-1] + sorted_list[index2-1])/2\n",
    "\n",
    "print('Sorted list=',sorted_list)\n",
    "print('Median=',median)"
   ]
  },
  {
   "cell_type": "markdown",
   "metadata": {
    "id": "-XKiwBR1HEl8"
   },
   "source": [
    "# Task 8\n",
    "\n",
    "\n",
    "Write a python program that takes a list from user containing both positive and negative numbers. The program then finds two pairs of values whose summation is closest to zero.\n",
    "\n",
    "=====================================================\n",
    "\n",
    "**Sample Input 1**<br/>\n",
    "list_one = [-10, 15, 2, 4, -4, 7, -8] \n",
    "\n",
    "\n",
    "**Sample Output 1**<br/>\n",
    "Two pairs which have the smallest sum = 4 and -4\n",
    "\n",
    "=====================================================\n",
    "\n",
    "\n",
    "**Sample Input 2**<br/>\n",
    "list_one = [1, -8, 4, -7, -20, 26, 70, -85]\n",
    "\n",
    "\n",
    "**Sample Output 2**<br/>\n",
    "Two pairs which have the smallest sum = 4 and -7"
   ]
  },
  {
   "cell_type": "code",
   "execution_count": 4,
   "metadata": {
    "id": "5ORSGa5GHEl9"
   },
   "outputs": [
    {
     "name": "stdout",
     "output_type": "stream",
     "text": [
      "Enter the list elemnent number:8\n",
      "Enter the element:1\n",
      "Enter the element:-8\n",
      "Enter the element:4\n",
      "Enter the element:-7\n",
      "Enter the element:-20\n",
      "Enter the element:26\n",
      "Enter the element:70\n",
      "Enter the element:-85\n",
      "Two pairs which have the smallest sum = 4 and -7\n"
     ]
    }
   ],
   "source": [
    "#todo\n",
    "\n",
    "#1st list as input\n",
    "n1=int(input('Enter the list elemnent number:'))\n",
    "list_one=[]\n",
    "for i in range(0,n1):\n",
    "    x1=int(input('Enter the element:'))\n",
    "    list_one.append(x1)                     #1st list as input\n",
    "\n",
    "min_sum = 9999\n",
    "\n",
    "for i in range(0,n1):\n",
    "    for j in range(0,n1):\n",
    "        sum1=0\n",
    "        if(i != j):\n",
    "            sum1= list_one[i]+ list_one[j]\n",
    "            if(abs(sum1) < min_sum):\n",
    "                min_sum= abs(sum1)\n",
    "                x= list_one[i]\n",
    "                y= list_one[j]\n",
    "\n",
    "print('Two pairs which have the smallest sum =',x,'and',y)"
   ]
  }
 ],
 "metadata": {
  "colab": {
   "collapsed_sections": [],
   "name": "CSE110 Lab Assignment 7 (Sorting and Searching).ipynb",
   "provenance": []
  },
  "kernelspec": {
   "display_name": "Python 3",
   "language": "python",
   "name": "python3"
  },
  "language_info": {
   "codemirror_mode": {
    "name": "ipython",
    "version": 3
   },
   "file_extension": ".py",
   "mimetype": "text/x-python",
   "name": "python",
   "nbconvert_exporter": "python",
   "pygments_lexer": "ipython3",
   "version": "3.8.8"
  }
 },
 "nbformat": 4,
 "nbformat_minor": 1
}
