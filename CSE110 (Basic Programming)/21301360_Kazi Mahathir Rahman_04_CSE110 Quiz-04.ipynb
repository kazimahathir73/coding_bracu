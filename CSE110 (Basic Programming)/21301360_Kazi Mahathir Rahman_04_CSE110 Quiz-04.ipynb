{
 "cells": [
  {
   "cell_type": "markdown",
   "id": "7ffae64a",
   "metadata": {},
   "source": [
    "# Problem-01"
   ]
  },
  {
   "cell_type": "code",
   "execution_count": 7,
   "id": "4678955d",
   "metadata": {},
   "outputs": [
    {
     "name": "stdout",
     "output_type": "stream",
     "text": [
      "Enter the numbers with comma: 3,1,5,4,6,7,8\n",
      "{0: 3, 1: 4, 2: 9, 3: 13, 4: 19, 5: 26, 6: 34}\n"
     ]
    }
   ],
   "source": [
    "#Starts\n",
    "#taking input\n",
    "number=input('Enter the numbers with comma: ')    \n",
    "\n",
    "#declaring the function\n",
    "def the_numbers(num):\n",
    "    list1=num.split(',')       #spliting the input into a list    \n",
    "    dict1={}                   #the dictionary for output\n",
    "    sum1=0                     \n",
    "    \n",
    "    for i in range(0,len(list1)):      #loop works in list1\n",
    "        x=int(list1[i])                #x = converting the list1 element to integer\n",
    "        sum1 += x     \n",
    "        dict1[i]= sum1                 #at last importing the index as key and sum1 as value\n",
    "        \n",
    "    return dict1                       #returning the value\n",
    "\n",
    "output=the_numbers(number)\n",
    "print(output)"
   ]
  },
  {
   "cell_type": "code",
   "execution_count": null,
   "id": "40d8af65",
   "metadata": {},
   "outputs": [],
   "source": []
  }
 ],
 "metadata": {
  "kernelspec": {
   "display_name": "Python 3",
   "language": "python",
   "name": "python3"
  },
  "language_info": {
   "codemirror_mode": {
    "name": "ipython",
    "version": 3
   },
   "file_extension": ".py",
   "mimetype": "text/x-python",
   "name": "python",
   "nbconvert_exporter": "python",
   "pygments_lexer": "ipython3",
   "version": "3.8.8"
  }
 },
 "nbformat": 4,
 "nbformat_minor": 5
}
