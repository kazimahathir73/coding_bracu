{
 "cells": [
  {
   "cell_type": "code",
   "execution_count": 13,
   "id": "5e8ac1c0",
   "metadata": {
    "scrolled": false
   },
   "outputs": [
    {
     "name": "stdout",
     "output_type": "stream",
     "text": [
      "Take an input:5\n",
      "     \n",
      "    *\n",
      "   **\n",
      "  ***\n",
      " ****\n",
      "*****\n"
     ]
    }
   ],
   "source": [
    "num = int(input(\"Take an input:\"))\n",
    "\n",
    "for i in range(0,num+1):\n",
    "    \n",
    "    for j in range(0,num-i):\n",
    "        print(\" \",end=\"\")\n",
    "    for k in range(1,i+1):\n",
    "        print('*',end=\"\")\n",
    "        \n",
    "    print()"
   ]
  },
  {
   "cell_type": "code",
   "execution_count": 3,
   "id": "65ecd318",
   "metadata": {
    "scrolled": true
   },
   "outputs": [
    {
     "name": "stdout",
     "output_type": "stream",
     "text": [
      "Enter the number:5\n",
      "*\n",
      "**\n",
      "***\n",
      "****\n",
      "*****\n"
     ]
    }
   ],
   "source": [
    "num=int(input('Enter the number:'))\n",
    "\n",
    "for i in range(1,num+1):\n",
    "    print('*'*i)"
   ]
  },
  {
   "cell_type": "code",
   "execution_count": 14,
   "id": "35969308",
   "metadata": {},
   "outputs": [
    {
     "name": "stdout",
     "output_type": "stream",
     "text": [
      "Enter the number:6\n",
      "     *\n",
      "    **\n",
      "   ***\n",
      "  ****\n",
      " *****\n",
      "******\n"
     ]
    }
   ],
   "source": [
    "num=int(input('Enter the number:'))\n",
    "\n",
    "for i in range(1,num+1):\n",
    "    print(' '*(num-i) + '*'*i)"
   ]
  },
  {
   "cell_type": "code",
   "execution_count": 19,
   "id": "c532cd11",
   "metadata": {},
   "outputs": [
    {
     "name": "stdout",
     "output_type": "stream",
     "text": [
      "Enter the number:5\n",
      "     *\n",
      "    * *\n",
      "   * * *\n",
      "  * * * *\n",
      " * * * * *\n"
     ]
    }
   ],
   "source": [
    "num=int(input('Enter the number:'))\n",
    "\n",
    "for i in range(1,num+1):\n",
    "    print(' '*(num-i) + ' *'*i)    # space before star is must \n",
    "                                   # num=i shows how many time it will print gaps"
   ]
  },
  {
   "cell_type": "code",
   "execution_count": 41,
   "id": "10663b03",
   "metadata": {},
   "outputs": [
    {
     "name": "stdout",
     "output_type": "stream",
     "text": [
      "Enter the number:4\n",
      "0123\n",
      "0  3\n",
      "0  3\n",
      "0123\n"
     ]
    }
   ],
   "source": [
    "num=int(input('Enter the number:'))\n",
    "\n",
    "for i in range(0,num):\n",
    "    for k in range(0,num):\n",
    "        if(i==0 or i==num-1 or k==0 or k==num-1):\n",
    "            print(k ,end='')\n",
    "        else:\n",
    "            print(' ',end='')\n",
    "    print()    "
   ]
  },
  {
   "cell_type": "code",
   "execution_count": 3,
   "id": "ef8c54cb",
   "metadata": {
    "scrolled": true
   },
   "outputs": [
    {
     "name": "stdout",
     "output_type": "stream",
     "text": [
      "Enter the value of x:7\n",
      "Enter the value of y:5\n",
      "Enter the value of z:10\n",
      "53.88877434122991\n"
     ]
    }
   ],
   "source": [
    "x=int(input('Enter the value of x:'))\n",
    "y=int(input('Enter the value of y:'))\n",
    "z=int(input('Enter the value of z:'))\n",
    "\n",
    "s=(x+y+z)/2\n",
    "area=s*((s-x)*(s-y)*(s-z))**0.5\n",
    "\n",
    "print(area)"
   ]
  },
  {
   "cell_type": "code",
   "execution_count": 6,
   "id": "04394129",
   "metadata": {},
   "outputs": [
    {
     "name": "stdout",
     "output_type": "stream",
     "text": [
      "Enter the value of x:7\n",
      "Enter the value of y:10\n",
      "Enter the value of z:5\n",
      "Valid Triabgle\n"
     ]
    }
   ],
   "source": [
    "x=int(input('Enter the value of x:'))\n",
    "y=int(input('Enter the value of y:'))\n",
    "z=int(input('Enter the value of z:'))\n",
    "\n",
    "maximum_value= max(x,y,z)\n",
    "last_two_value_total=(x+y+z)-maximum_value\n",
    "\n",
    "if(last_two_value_total > maximum_value):\n",
    "    print('Valid Triabgle')\n",
    "else:\n",
    "    print('Not Valid Triangle')"
   ]
  },
  {
   "cell_type": "code",
   "execution_count": 12,
   "id": "1f335342",
   "metadata": {},
   "outputs": [
    {
     "name": "stdout",
     "output_type": "stream",
     "text": [
      "Enter the year:2000\n",
      "The year is a leap year\n"
     ]
    }
   ],
   "source": [
    "year=int(input('Enter the year:'))\n",
    "\n",
    "if(year%4==0 or year%400==0 or year%100==0):\n",
    "    print('The year is a leap year')\n",
    "else:\n",
    "    print('The year is not leap year')"
   ]
  },
  {
   "cell_type": "code",
   "execution_count": 1,
   "id": "c5d62a7c",
   "metadata": {},
   "outputs": [
    {
     "name": "stdout",
     "output_type": "stream",
     "text": [
      "Enter the number:5\n",
      "12345\n",
      "12345\n",
      "12345\n",
      "12345\n",
      "12345\n"
     ]
    }
   ],
   "source": [
    "num=int(input('Enter the number:'))\n",
    "\n",
    "for j in range(1,num+1,1):      \n",
    "    for k in range(1,num+1,1):  \n",
    "        print(k,end='')\n",
    "    print()"
   ]
  },
  {
   "cell_type": "code",
   "execution_count": 18,
   "id": "30da43d2",
   "metadata": {},
   "outputs": [
    {
     "name": "stdout",
     "output_type": "stream",
     "text": [
      "Enter the number:15\n",
      "15 * 1 = 15\n",
      "15 * 2 = 30\n",
      "15 * 3 = 45\n",
      "15 * 4 = 60\n",
      "15 * 5 = 75\n",
      "15 * 6 = 90\n",
      "15 * 7 = 105\n",
      "15 * 8 = 120\n",
      "15 * 9 = 135\n",
      "15 * 10 = 150\n"
     ]
    }
   ],
   "source": [
    "#no.5\n",
    "num=int(input('Enter the number:'))\n",
    "\n",
    "for i in range(1,11):\n",
    "    mult=num*i\n",
    "    print(num,'*',i,'=',mult)"
   ]
  },
  {
   "cell_type": "code",
   "execution_count": 22,
   "id": "b3bfa16f",
   "metadata": {},
   "outputs": [
    {
     "name": "stdout",
     "output_type": "stream",
     "text": [
      "Enter the number:8\n",
      "4.5\n"
     ]
    }
   ],
   "source": [
    "num=int(input('Enter the number:'))\n",
    "sum1=0\n",
    "\n",
    "for i in range(1,num+1):\n",
    "    sum1=sum1+i\n",
    "    avg=sum1/i\n",
    "    \n",
    "print(avg)"
   ]
  },
  {
   "cell_type": "code",
   "execution_count": 2,
   "id": "207ed227",
   "metadata": {},
   "outputs": [
    {
     "name": "stdout",
     "output_type": "stream",
     "text": [
      "Enter the word:i love you 12\n",
      "the number of alphabat: 10 the number of sp: 3 the number of number 0\n"
     ]
    }
   ],
   "source": [
    "word=input('Enter the word:')\n",
    "count_spa_chr=0\n",
    "count_alp=0\n",
    "count_num=0\n",
    "list(word)\n",
    "\n",
    "for i in word:\n",
    "    if(i == ' '):\n",
    "        count_spa_chr= count_spa_chr + 1\n",
    "    elif(ord(i) >= 65 or ord(i) <= 122 ):\n",
    "        count_alp= count_alp +1\n",
    "    elif(ord(i) >= 48 or ord(i)<=57):\n",
    "        count_num=count_num+1\n",
    "        \n",
    "print('the number of alphabat:',count_alp,'the number of sp:',count_spa_chr,'the number of number',count_num)"
   ]
  },
  {
   "cell_type": "code",
   "execution_count": 5,
   "id": "d35b5a9f",
   "metadata": {},
   "outputs": [
    {
     "name": "stdout",
     "output_type": "stream",
     "text": [
      "Enter the sentence:i love you\n",
      "i  \n"
     ]
    }
   ],
   "source": [
    "sentence=input('Enter the sentence:')\n",
    "list1=list(sentence)\n",
    "\n",
    "maxima=list1[0]\n",
    "minima=list1[0]\n",
    "\n",
    "for i in list1:\n",
    "    if(len(i) > len(maxima)):\n",
    "        maxima=i\n",
    "for k in list1:\n",
    "    if(len(k) < len(minima)):\n",
    "        minima=k\n",
    "        \n",
    "print(maxima,minima)"
   ]
  },
  {
   "cell_type": "code",
   "execution_count": 2,
   "id": "96033754",
   "metadata": {
    "scrolled": false
   },
   "outputs": [
    {
     "name": "stdout",
     "output_type": "stream",
     "text": [
      "Enter the 1st list elemnent number:3\n",
      "Enter the element:10\n",
      "Enter the element:20\n",
      "Enter the element:30\n",
      "Enter the 2nd list elemnent number:3\n",
      "Enter the element:10\n",
      "Enter the element:20\n",
      "Enter the element:30\n",
      "10 30\n",
      "20 20\n",
      "30 10\n"
     ]
    }
   ],
   "source": [
    "#to do\n",
    "\n",
    "#1st list as input\n",
    "n1=int(input('Enter the 1st list elemnent number:'))\n",
    "list_one=[]\n",
    "for i in range(0,n1):\n",
    "    x1=int(input('Enter the element:'))\n",
    "    list_one.append(x1)                  #1st list as input\n",
    "\n",
    "#2nd list as input\n",
    "n2=int(input('Enter the 2nd list elemnent number:'))\n",
    "list_two=[]\n",
    "for i in range(0,n2):\n",
    "    x2=int(input('Enter the element:'))\n",
    "    list_two.append(x2)                    #2nd list as input ends\n",
    "\n",
    "list_two.reverse()\n",
    "\n",
    "for i in range(n1):\n",
    "    print(list_one[i],list_two[i])"
   ]
  },
  {
   "cell_type": "code",
   "execution_count": null,
   "id": "ab45617d",
   "metadata": {},
   "outputs": [],
   "source": [
    "list1=['red','black','cat','dog']\n",
    "list3=[]\n",
    "\n",
    "for i in range(0,len(list1)):\n",
    "    k=list1[i][::-1]\n",
    "    list3.append(k)\n",
    "    \n",
    "print(list3)"
   ]
  },
  {
   "cell_type": "code",
   "execution_count": 5,
   "id": "27829cef",
   "metadata": {},
   "outputs": [
    {
     "name": "stdout",
     "output_type": "stream",
     "text": [
      "First even number is 4\n",
      "First odd number 1\n"
     ]
    }
   ],
   "source": [
    "list1=[1,3,4,5,7,8]\n",
    "\n",
    "for i in list1:\n",
    "    if(i%2==0):\n",
    "        print('First even number is',i)\n",
    "        break\n",
    "        \n",
    "for i in list1:\n",
    "    if(i%2==1):\n",
    "        print('First odd number',i)\n",
    "        break"
   ]
  },
  {
   "cell_type": "code",
   "execution_count": 1,
   "id": "2766e2ba",
   "metadata": {},
   "outputs": [
    {
     "name": "stdout",
     "output_type": "stream",
     "text": [
      "3\n",
      "5\n",
      "5\n",
      "6\n"
     ]
    }
   ],
   "source": [
    "list1=['Red','balck','white','purple']\n",
    "\n",
    "for i in list1:\n",
    "    print(len(i))"
   ]
  },
  {
   "cell_type": "code",
   "execution_count": 1,
   "id": "b883f86c",
   "metadata": {},
   "outputs": [
    {
     "name": "stdout",
     "output_type": "stream",
     "text": [
      "['I', ' ', 'l', 'o', 'v', 'e', ' ', ' ', 'y', 'o', 'u']\n"
     ]
    }
   ],
   "source": [
    "s='I love  you'\n",
    "p=list(s)\n",
    "\n",
    "print(p)"
   ]
  },
  {
   "cell_type": "code",
   "execution_count": null,
   "id": "992acbd8",
   "metadata": {},
   "outputs": [],
   "source": []
  }
 ],
 "metadata": {
  "kernelspec": {
   "display_name": "Python 3",
   "language": "python",
   "name": "python3"
  },
  "language_info": {
   "codemirror_mode": {
    "name": "ipython",
    "version": 3
   },
   "file_extension": ".py",
   "mimetype": "text/x-python",
   "name": "python",
   "nbconvert_exporter": "python",
   "pygments_lexer": "ipython3",
   "version": "3.8.8"
  }
 },
 "nbformat": 4,
 "nbformat_minor": 5
}
