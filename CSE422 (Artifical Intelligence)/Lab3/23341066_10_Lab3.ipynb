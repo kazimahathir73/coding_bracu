{
 "cells": [
  {
   "cell_type": "code",
   "execution_count": 17,
   "metadata": {},
   "outputs": [],
   "source": [
    "import random"
   ]
  },
  {
   "cell_type": "code",
   "execution_count": 18,
   "metadata": {},
   "outputs": [
    {
     "name": "stdout",
     "output_type": "stream",
     "text": [
      "[55, 47, 48, 50, 31, 83, 58, 51]\n"
     ]
    }
   ],
   "source": [
    "inp_id = '25485465'\n",
    "\n",
    "id = ''\n",
    "for i in inp_id:\n",
    "    if i == str(0):\n",
    "        id += '8'\n",
    "    else:\n",
    "        id += i\n",
    "\n",
    "min_num = int(id[4])\n",
    "goal = int(id[-1] + id[-2])\n",
    "max_num = int(goal*1.5)\n",
    "suffle_num = int(id[3])\n",
    "\n",
    "limit = []\n",
    "for i in range(8):\n",
    "    limit.append(random.randint(min_num, max_num))\n",
    "\n",
    "print(limit)"
   ]
  },
  {
   "cell_type": "code",
   "execution_count": 19,
   "metadata": {},
   "outputs": [],
   "source": [
    "def min_max(points, depth, node, alpha, beta, flag):\n",
    "    if depth == 0:\n",
    "        return points[node]\n",
    "    \n",
    "    if flag == True:\n",
    "        max_ = -99999\n",
    "        for i in range(2):\n",
    "            var = min_max(points, depth-1,(node*2)+i, alpha, beta, False)\n",
    "            max_ = max(max_, var)\n",
    "            alpha = max(alpha, var)\n",
    "            if beta <= alpha:\n",
    "                break\n",
    "        return max_\n",
    "    \n",
    "    else:\n",
    "        min_ = 99999\n",
    "        for i in range(2):\n",
    "            var = min_max(points, depth-1, (node*2)+i, alpha, beta, True)\n",
    "            min_ = min(min_, var)\n",
    "            alpha = min(alpha, var)\n",
    "            if beta <= alpha:\n",
    "                break\n",
    "        return min_"
   ]
  },
  {
   "cell_type": "code",
   "execution_count": 20,
   "metadata": {},
   "outputs": [
    {
     "name": "stdout",
     "output_type": "stream",
     "text": [
      "Generated 8 random points between the minimum and maximum point limits: [55, 47, 48, 50, 31, 83, 58, 51]\n",
      "Total points to win: 56\n",
      "Achieved point by applying alpha-beta pruning = 58\n",
      "The winner is Optimus Prime\n"
     ]
    }
   ],
   "source": [
    "prime_point = min_max(limit, 3, 0, -99999, 99999, True)\n",
    "\n",
    "print(f\"Generated 8 random points between the minimum and maximum point limits: {limit}\")\n",
    "print(f\"Total points to win: {goal}\")\n",
    "print(f\"Achieved point by applying alpha-beta pruning = {prime_point}\")\n",
    "if prime_point >= goal:\n",
    "    print(\"The winner is Optimus Prime\")\n",
    "else:\n",
    "    print(\"The Winner is Megatron\")"
   ]
  },
  {
   "cell_type": "code",
   "execution_count": 21,
   "metadata": {},
   "outputs": [
    {
     "name": "stdout",
     "output_type": "stream",
     "text": [
      "After the shuffle:\n",
      "List of all points values from each shuffle: [67, 54, 81, 76, 79, 46, 68, 32]\n",
      "The maximum value of all shuffles: 81\n",
      "Won 5 times out of 8 number of shuffles\n"
     ]
    }
   ],
   "source": [
    "prime_list_point = []\n",
    "for i in range(suffle_num):\n",
    "    limit = []\n",
    "    for j in range(len(id)):\n",
    "        limit.append(random.randint(min_num, max_num))\n",
    "    prime_point = min_max(limit, 3, 0, -99999, 99999, True)\n",
    "    prime_list_point.append(prime_point)\n",
    "\n",
    "count = 0\n",
    "for k in range(len(prime_list_point)):\n",
    "    if prime_list_point[k] > goal:\n",
    "        count+=1\n",
    "\n",
    "print(f\"After the shuffle:\")\n",
    "print(f\"List of all points values from each shuffle: {prime_list_point}\")\n",
    "print(f\"The maximum value of all shuffles: {max(prime_list_point)}\")\n",
    "print(f\"Won {count} times out of {len(prime_list_point)} number of shuffles\")"
   ]
  }
 ],
 "metadata": {
  "kernelspec": {
   "display_name": "Python 3",
   "language": "python",
   "name": "python3"
  },
  "language_info": {
   "codemirror_mode": {
    "name": "ipython",
    "version": 3
   },
   "file_extension": ".py",
   "mimetype": "text/x-python",
   "name": "python",
   "nbconvert_exporter": "python",
   "pygments_lexer": "ipython3",
   "version": "3.11.5"
  }
 },
 "nbformat": 4,
 "nbformat_minor": 2
}
