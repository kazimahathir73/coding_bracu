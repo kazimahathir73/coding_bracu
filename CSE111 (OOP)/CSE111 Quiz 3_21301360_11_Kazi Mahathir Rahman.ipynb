{
 "cells": [
  {
   "cell_type": "markdown",
   "id": "b54a3cc9",
   "metadata": {},
   "source": [
    "# Problem- 01"
   ]
  },
  {
   "cell_type": "code",
   "execution_count": 1,
   "id": "f14328c3",
   "metadata": {},
   "outputs": [
    {
     "name": "stdout",
     "output_type": "stream",
     "text": [
      "No. of Trees = 0\n",
      "###########################\n",
      "Pine do not shed their leaves in autumn\n",
      "Oak shed their leaves in autumn\n",
      "Maple shed their leaves in autumn\n",
      "=========================\n",
      "Name- Pine\n",
      "Benefits:\n",
      "Ornamental\n",
      "=========================\n",
      "Name- Oak\n",
      "Benefits:\n",
      "Hard-wood, Shading\n",
      "=========================\n",
      "Name- Maple\n",
      "Benefits:\n",
      "Hard-wood, Fruit\n",
      "=========================\n",
      "No. of Trees = 3\n"
     ]
    }
   ],
   "source": [
    "class Tree:\n",
    "    count=0\n",
    "    \n",
    "    def __init__(self,name,statement=False):\n",
    "        self.name=name\n",
    "        self.shed=statement\n",
    "        Tree.count+=1\n",
    "        \n",
    "    def autumnEffect(self):\n",
    "        if self.shed == True:\n",
    "            print(self.name,'shed their leaves in autumn')\n",
    "        else:\n",
    "            print(self.name,'do not shed their leaves in autumn')\n",
    "    \n",
    "    def add_Benefit(self,*info):\n",
    "        self.list=info\n",
    "        \n",
    "    def printDetail(self):\n",
    "        print('Name-',self.name)\n",
    "        print('Benefits:')\n",
    "        for i in self.list:\n",
    "            if self.list.index(i)!= len(self.list)-1:\n",
    "                print(i,end=', ')\n",
    "            else:\n",
    "                print(i)\n",
    "            \n",
    "\n",
    "print(\"No. of Trees =\", Tree.count)\n",
    "pine = Tree('Pine')\n",
    "oak = Tree('Oak', True)\n",
    "maple = Tree('Maple', True)\n",
    "print('###########################')\n",
    "pine.autumnEffect()\n",
    "oak.autumnEffect()\n",
    "maple.autumnEffect()\n",
    "pine.add_Benefit('Ornamental')\n",
    "maple.add_Benefit('Hard-wood', 'Fruit')\n",
    "oak.add_Benefit('Hard-wood', 'Shading')\n",
    "print(\"=========================\")\n",
    "pine.printDetail()\n",
    "print(\"=========================\")\n",
    "oak.printDetail()\n",
    "print(\"=========================\")\n",
    "maple.printDetail()\n",
    "print(\"=========================\")\n",
    "print('No. of Trees =', Tree.count)"
   ]
  },
  {
   "cell_type": "code",
   "execution_count": null,
   "id": "fdd85c73",
   "metadata": {},
   "outputs": [],
   "source": []
  }
 ],
 "metadata": {
  "kernelspec": {
   "display_name": "Python 3",
   "language": "python",
   "name": "python3"
  },
  "language_info": {
   "codemirror_mode": {
    "name": "ipython",
    "version": 3
   },
   "file_extension": ".py",
   "mimetype": "text/x-python",
   "name": "python",
   "nbconvert_exporter": "python",
   "pygments_lexer": "ipython3",
   "version": "3.8.8"
  }
 },
 "nbformat": 4,
 "nbformat_minor": 5
}
