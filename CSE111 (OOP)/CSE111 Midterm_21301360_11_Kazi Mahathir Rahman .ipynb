{
 "cells": [
  {
   "cell_type": "markdown",
   "id": "b3d49d01",
   "metadata": {},
   "source": [
    "# Problem 01"
   ]
  },
  {
   "cell_type": "code",
   "execution_count": 4,
   "id": "d74522da",
   "metadata": {
    "scrolled": true
   },
   "outputs": [
    {
     "name": "stdout",
     "output_type": "stream",
     "text": [
      "Enter the number of list: 5\n",
      "Enter the address: Mirpur 1216 5A 103 1800sqft 33000\n",
      "Enter the address: Gulshan 1212 7C 102 2000sqft 60000\n",
      "Enter the address: Dhanmondi 1209 4A 43 1616sqft 40000\n",
      "Enter the address: Mirpur 1216 6B 10 1350sqft 23000\n",
      "Enter the address: Dhanmondi 1209 9A 128 1700sqft 45000\n",
      "{'Mirpur': {'165A103': ['1800sqft', '33000'], '166B10': ['1350sqft', '23000']}, 'Gulshan': {'127C102': ['2000sqft', '60000']}, 'Dhanmondi': {'094A43': ['1616sqft', '40000'], '099A128': ['1700sqft', '45000']}}\n"
     ]
    }
   ],
   "source": [
    "num=int(input('Enter the number of list: '))\n",
    "list1=[]\n",
    "\n",
    "for i in range(0,num):\n",
    "    add=input('Enter the address: ')\n",
    "    list1.append(add)\n",
    "    \n",
    "dict1={}\n",
    "for i in list1:\n",
    "    k=i.split()\n",
    "    if k[0] not in dict1:\n",
    "        dict1[k[0]]={}\n",
    "        sp=k[1][2:4]+k[2]+k[3]\n",
    "        if sp not in dict1[k[0]]:\n",
    "            dict1[k[0]][sp]=[k[4],k[5]]\n",
    "    else:\n",
    "        sp=k[1][2:4]+k[2]+k[3]\n",
    "        dict1[k[0]][sp]=[k[4],k[5]]\n",
    "        \n",
    "print(dict1)"
   ]
  },
  {
   "cell_type": "markdown",
   "id": "fe06c9ed",
   "metadata": {},
   "source": [
    "# Problem-02"
   ]
  },
  {
   "cell_type": "code",
   "execution_count": 16,
   "id": "63b45f31",
   "metadata": {},
   "outputs": [
    {
     "name": "stdout",
     "output_type": "stream",
     "text": [
      "Domino’s. The Pizza Delivery Experts.\n",
      "1.=================================\n"
     ]
    },
    {
     "ename": "AttributeError",
     "evalue": "'NoneType' object has no attribute 'topping'",
     "output_type": "error",
     "traceback": [
      "\u001b[1;31m---------------------------------------------------------------------------\u001b[0m",
      "\u001b[1;31mAttributeError\u001b[0m                            Traceback (most recent call last)",
      "\u001b[1;32m<ipython-input-16-4d6d49d0e681>\u001b[0m in \u001b[0;36m<module>\u001b[1;34m\u001b[0m\n\u001b[0;32m     34\u001b[0m \u001b[0mprint\u001b[0m\u001b[1;33m(\u001b[0m\u001b[1;34m\"1.=================================\"\u001b[0m\u001b[1;33m)\u001b[0m\u001b[1;33m\u001b[0m\u001b[1;33m\u001b[0m\u001b[0m\n\u001b[0;32m     35\u001b[0m \u001b[0mp1\u001b[0m \u001b[1;33m=\u001b[0m \u001b[0mPizza\u001b[0m\u001b[1;33m(\u001b[0m\u001b[1;34m\"Spicy Chicken\"\u001b[0m\u001b[1;33m,\u001b[0m\u001b[1;34m\"Spicy Chicken\"\u001b[0m\u001b[1;33m,\u001b[0m\u001b[1;34m\"Onion\"\u001b[0m\u001b[1;33m,\u001b[0m\u001b[1;34m\"Capsicum\"\u001b[0m\u001b[1;33m)\u001b[0m\u001b[1;33m\u001b[0m\u001b[1;33m\u001b[0m\u001b[0m\n\u001b[1;32m---> 36\u001b[1;33m \u001b[0mdom\u001b[0m\u001b[1;33m.\u001b[0m\u001b[0maddPizza\u001b[0m\u001b[1;33m(\u001b[0m\u001b[0mp1\u001b[0m\u001b[1;33m)\u001b[0m\u001b[1;33m\u001b[0m\u001b[1;33m\u001b[0m\u001b[0m\n\u001b[0m\u001b[0;32m     37\u001b[0m \u001b[0mp2\u001b[0m \u001b[1;33m=\u001b[0m \u001b[0mPizza\u001b[0m\u001b[1;33m(\u001b[0m\u001b[1;34m\"Margherita\"\u001b[0m\u001b[1;33m,\u001b[0m\u001b[1;34m\"Mozzarella Cheese\"\u001b[0m\u001b[1;33m)\u001b[0m\u001b[1;33m\u001b[0m\u001b[1;33m\u001b[0m\u001b[0m\n\u001b[0;32m     38\u001b[0m \u001b[0mprint\u001b[0m\u001b[1;33m(\u001b[0m\u001b[1;34m\"2.=================================\"\u001b[0m\u001b[1;33m)\u001b[0m\u001b[1;33m\u001b[0m\u001b[1;33m\u001b[0m\u001b[0m\n",
      "\u001b[1;32m<ipython-input-16-4d6d49d0e681>\u001b[0m in \u001b[0;36maddPizza\u001b[1;34m(self, dom1, dom2)\u001b[0m\n\u001b[0;32m     10\u001b[0m         \u001b[1;32melse\u001b[0m\u001b[1;33m:\u001b[0m\u001b[1;33m\u001b[0m\u001b[1;33m\u001b[0m\u001b[0m\n\u001b[0;32m     11\u001b[0m             \u001b[0mself\u001b[0m\u001b[1;33m.\u001b[0m\u001b[0mdict\u001b[0m\u001b[1;33m[\u001b[0m\u001b[0mdom1\u001b[0m\u001b[1;33m.\u001b[0m\u001b[0mname\u001b[0m\u001b[1;33m]\u001b[0m\u001b[1;33m=\u001b[0m\u001b[0mdom1\u001b[0m\u001b[1;33m.\u001b[0m\u001b[0mtopping\u001b[0m\u001b[1;33m\u001b[0m\u001b[1;33m\u001b[0m\u001b[0m\n\u001b[1;32m---> 12\u001b[1;33m             \u001b[0mself\u001b[0m\u001b[1;33m.\u001b[0m\u001b[0mdict\u001b[0m\u001b[1;33m[\u001b[0m\u001b[0mdom2\u001b[0m\u001b[1;33m.\u001b[0m\u001b[0mname\u001b[0m\u001b[1;33m]\u001b[0m\u001b[1;33m=\u001b[0m\u001b[0mdom2\u001b[0m\u001b[1;33m.\u001b[0m\u001b[0mtopping\u001b[0m\u001b[1;33m\u001b[0m\u001b[1;33m\u001b[0m\u001b[0m\n\u001b[0m\u001b[0;32m     13\u001b[0m \u001b[1;33m\u001b[0m\u001b[0m\n\u001b[0;32m     14\u001b[0m     \u001b[1;32mdef\u001b[0m \u001b[0mshowMenu\u001b[0m\u001b[1;33m(\u001b[0m\u001b[0mself\u001b[0m\u001b[1;33m)\u001b[0m\u001b[1;33m:\u001b[0m\u001b[1;33m\u001b[0m\u001b[1;33m\u001b[0m\u001b[0m\n",
      "\u001b[1;31mAttributeError\u001b[0m: 'NoneType' object has no attribute 'topping'"
     ]
    }
   ],
   "source": [
    "class Dominos:\n",
    "    def __init__(self,name):\n",
    "        self.place=name\n",
    "        self.dict={}\n",
    "        print('Domino’s. The Pizza Delivery Experts.')\n",
    "        \n",
    "    def addPizza(self,dom1,dom2=None):\n",
    "        if dom2 != None:\n",
    "            self.dict[dom1.name]=dom1.topping\n",
    "        else:\n",
    "            self.dict[dom1.name]=dom1.topping\n",
    "            self.dict[dom2.name]=dom2.topping\n",
    "    \n",
    "    def showMenu(self):\n",
    "        print('Total number of pizzas: ',len(self.dict))\n",
    "        for i,k in self.dict:\n",
    "            print(self.dict.count(i))\n",
    "            print(i,':',k)\n",
    "    \n",
    "class Pizza:\n",
    "    def __init__(self,cata,cata2,ex=None,ex2=None):\n",
    "        self.name=cata\n",
    "        self.topping=[]\n",
    "        if ex != None and ex2 != None:\n",
    "            self.topping=[cata2,ex,ex2]\n",
    "        else:\n",
    "            print('A pizza without toppings cannot be created.')\n",
    "            \n",
    "    def setTopping(self,name1,top,ex3,ex4):\n",
    "        self.name=name1\n",
    "        self.topping=[top,ex3,ex4]\n",
    "\n",
    "dom = Dominos(\"Domino's Pizza\")\n",
    "print(\"1.=================================\")\n",
    "p1 = Pizza(\"Spicy Chicken\",\"Spicy Chicken\",\"Onion\",\"Capsicum\")\n",
    "dom.addPizza(p1)\n",
    "p2 = Pizza(\"Margherita\",\"Mozzarella Cheese\")\n",
    "print(\"2.=================================\")\n",
    "p3 = Pizza(\"Beef Kala Bhuna\")\n",
    "print(\"3.=================================\")\n",
    "p3.setToppings(\"Curried Beef\",\"Capsicum\",\"Paprika\",\"Onion\")\n",
    "print(\"4.=================================\")\n",
    "dom.addPizza(p2,p3)\n",
    "p4 = Pizza(\"Chicken Dominator\",\"Barbecue Chicken,Spicy Chicken,Grilled Chicken\")\n",
    "p5 = Pizza(\"Beefzza\",\"Minced Beef\",\"Beef Pepperoni\",\"Onion\",\"Jalapeno\")\n",
    "dom.addPizza(p4,p5)\n",
    "print(\"5.=================================\")\n",
    "dom.showMenu()\n",
    "print(\"6.=================================\")"
   ]
  },
  {
   "cell_type": "code",
   "execution_count": null,
   "id": "98e1b2be",
   "metadata": {},
   "outputs": [],
   "source": [
    "\n",
    "Domino’s. The Pizza Delivery Experts.\n",
    "1.======================================\n",
    "2.======================================\n",
    "A pizza without toppings cannot be created.\n",
    "3.======================================\n",
    "Toppings added to Beef Kala Bhuna pizza.\n",
    "4.======================================\n",
    "5.======================================\n",
    "Total number of pizzas: 5\n",
    "Chicken Pizza:2\n",
    "Name:Spicy Chicken, Toppings: ['Spicy Chicken', 'Onion', 'Capsicum']\n",
    "Name:Chicken Dominator, Toppings: ['Barbecue Chicken,Spicy Chicken,Grilled Chicken']\n",
    "\n",
    "Beef Pizza:2\n",
    "Name:Beef Kala Bhuna, Toppings: ['Curried Beef', 'Capsicum', 'Paprika', 'Onion']\n",
    "Name:Beefzza, Toppings: ['Minced Beef', 'Beef Pepperoni', 'Onion', 'Jalapeno']\n",
    "\n",
    "Cheese Pizza: 1\n",
    "Name:Margherita, Toppings: ['Mozzarella Cheese']\n",
    "6.======================================"
   ]
  },
  {
   "cell_type": "code",
   "execution_count": 4,
   "id": "3f678b25",
   "metadata": {
    "scrolled": true
   },
   "outputs": [
    {
     "name": "stdout",
     "output_type": "stream",
     "text": [
      "Film Count: 0\n",
      "=======================\n",
      "Film---> 2001: The Fast and the Furious.\n",
      "=======================\n",
      "Film---> 2003: 2 Fast 2 Furious.\n",
      "=======================\n",
      "Film---> 2006: The Fast and the Furious: Tokyo Drift.\n",
      "=======================\n",
      "Film---> 2009: Fast & Furious.\n",
      "=======================\n",
      "Film Count: 4\n"
     ]
    }
   ],
   "source": [
    "class Fast_and_Furious:\n",
    "    film_series_count = 0\n",
    "\n",
    "    def __init__(self, name, year=None):\n",
    "        self.name = name\n",
    "        self.year = year\n",
    "        Fast_and_Furious.film_series_count += 1\n",
    "\n",
    "    def display_film_info(self):\n",
    "        return f'Film---> {self.year}: {self.name}'\n",
    "\n",
    "    def set_film_year(self, year):\n",
    "        self.year = year\n",
    "\n",
    "    def set_film_name(self, name):\n",
    "        self.name = name\n",
    "\n",
    "\n",
    "\n",
    "print(\"Film Count:\", Fast_and_Furious.film_series_count)\n",
    "print(\"=======================\")\n",
    "f1 = Fast_and_Furious(\"The Fast and the Furious.\", 2001)\n",
    "print(f1.display_film_info())\n",
    "print(\"=======================\")\n",
    "f2 = Fast_and_Furious(\"2 Fast 2 Furious.\", 0)\n",
    "f2.set_film_year(2003)\n",
    "print(f2.display_film_info())\n",
    "print(\"=======================\")\n",
    "f3 = Fast_and_Furious(\"The Fast and the Furious: Tokyo Drift.\", 2006)\n",
    "print(f3.display_film_info())\n",
    "print(\"=======================\")\n",
    "f4 = Fast_and_Furious(\"Default\", 0)\n",
    "f4.set_film_name(\"Fast & Furious.\")\n",
    "f4.set_film_year(2009)\n",
    "print(f4.display_film_info())\n",
    "print(\"=======================\")\n",
    "print(\"Film Count:\", Fast_and_Furious.film_series_count)"
   ]
  },
  {
   "cell_type": "code",
   "execution_count": 6,
   "id": "188fdd6c",
   "metadata": {},
   "outputs": [
    {
     "name": "stdout",
     "output_type": "stream",
     "text": [
      "No. of Motorcycle = 0\n",
      "=========================\n",
      "Name- Yamaha MT-15\n",
      "Year of manufacture: 2019\n",
      "Services:\n",
      "Oil change, Replace coolant\n",
      "=========================\n",
      "Name- Suzuki V-Strom 650\n",
      "Year of manufacture: 2020\n",
      "Services:\n",
      "Rear suspension check, New air filter, Oil change\n",
      "=========================\n",
      "Name- Honda Gold Wing\n",
      "Year of manufacture: 2017\n",
      "Services:\n",
      "Adjustment of throttle and clutch, New oil filter\n",
      "=========================\n",
      "No. of Motorcycle = 3\n"
     ]
    }
   ],
   "source": [
    "class Motorcycle:\n",
    "    count=0\n",
    "    \n",
    "    def __init__(self,name,year):\n",
    "        self.name=name\n",
    "        self.year=year\n",
    "        Motorcycle.count+=1\n",
    "        \n",
    "    def add_Services(self,*info):\n",
    "        self.list=info\n",
    "        \n",
    "    def printMotorcycleDetail(self):\n",
    "        print('Name-',self.name)\n",
    "        print('Year of manufacture:',self.year)\n",
    "        print('Services:')\n",
    "        for i in self.list:\n",
    "            if self.list.index(i)!= len(self.list)-1:\n",
    "                print(i,end=', ')\n",
    "            else:\n",
    "                print(i)\n",
    "                \n",
    "        for k in self.list:\n",
    "            if self.list.index(k)!= len(self.list)-1:\n",
    "                print(k,end=', ')\n",
    "            else:\n",
    "                print(k)\n",
    "\n",
    "\n",
    "print('No. of Motorcycle =', Motorcycle.count)\n",
    "m1 = Motorcycle('Yamaha MT-15', 2019)\n",
    "m1.add_Services('Oil change', 'Replace coolant')\n",
    "m2 = Motorcycle('Suzuki V-Strom 650', 2020)\n",
    "m2.add_Services('Rear suspension check', 'New air filter', 'Oil change')\n",
    "m3 = Motorcycle('Honda Gold Wing', 2017)\n",
    "m3.add_Services('Adjustment of throttle and clutch', 'New oil filter')\n",
    "print(\"=========================\")\n",
    "m1.printMotorcycleDetail()\n",
    "print(\"=========================\")\n",
    "m2.printMotorcycleDetail()\n",
    "print(\"=========================\")\n",
    "m3.printMotorcycleDetail()\n",
    "print(\"=========================\")\n",
    "print('No. of Motorcycle =', Motorcycle.count)"
   ]
  },
  {
   "cell_type": "code",
   "execution_count": 10,
   "id": "e329526a",
   "metadata": {},
   "outputs": [
    {
     "name": "stdout",
     "output_type": "stream",
     "text": [
      "Total Traveller: 0\n",
      "=========================\n",
      "Name- Naruto\n",
      "Tickets:\n",
      "Mist Village, Rain Village\n",
      "Cost: 15000\n",
      "=========================\n",
      "Name- Minato\n",
      "Tickets:\n",
      "Cloud Village, Sand Village, Stone Village\n",
      "Cost: 21200\n",
      "=========================\n",
      "Name- Kushina\n",
      "Tickets:\n",
      "Leaves Village\n",
      "Cost: 3000\n",
      "=========================\n",
      "Total Traveller: 3\n"
     ]
    }
   ],
   "source": [
    "class Traveller:\n",
    "    count=0\n",
    "    \n",
    "    def __init__(self,name):\n",
    "        self.name=name\n",
    "        Traveller.count+=1\n",
    "        \n",
    "    def printDetail(self):\n",
    "        list_facality=[]\n",
    "        list_cost=[]\n",
    "        cost=0\n",
    "        for i in range(0,len(self.facality)):\n",
    "            if i%2==0:\n",
    "                list_facality.append(self.facality[i])\n",
    "            else:\n",
    "                list_cost.append(self.facality[i])\n",
    "                \n",
    "        for f in list_cost:\n",
    "            cost+=f\n",
    "            \n",
    "        print('Name-',self.name)\n",
    "        print('Tickets:')\n",
    "        for p in list_facality:\n",
    "            if list_facality.index(p)!= len(list_facality)-1:\n",
    "                print(p,end=', ')\n",
    "            else:\n",
    "                print(p)\n",
    "                \n",
    "        print('Cost:',cost)\n",
    "        \n",
    "        \n",
    "    def buyTickets(self,*facality):\n",
    "        self.facality=facality\n",
    "        \n",
    "\n",
    "print(\"Total Traveller:\", Traveller.count)\n",
    "t1 = Traveller(\"Naruto\")\n",
    "t1.buyTickets(\"Mist Village\",5000,\"Rain Village\", 10000)\n",
    "t2 = Traveller(\"Minato\")\n",
    "t2.buyTickets(\"Cloud Village\",15000,\"Sand Village\",1200,\"Stone Village\",  5000)\n",
    "t3 = Traveller(\"Kushina\")\n",
    "t3.buyTickets(\"Leaves Village\", 3000)\n",
    "print(\"=========================\")\n",
    "t1.printDetail()\n",
    "print(\"=========================\")\n",
    "t2.printDetail()\n",
    "print(\"=========================\")\n",
    "t3.printDetail()\n",
    "print(\"=========================\")\n",
    "print(\"Total Traveller:\", Traveller.count)"
   ]
  },
  {
   "cell_type": "code",
   "execution_count": null,
   "id": "c4035151",
   "metadata": {},
   "outputs": [],
   "source": [
    "Output:\n",
    "Total Traveller: 0\n",
    "=========================\n",
    "Name: Naruto\n",
    "Tickets: Mist Village, Rain Village\n",
    "Cost: 15000\n",
    "=========================\n",
    "Name: Minato\n",
    "Tickets: Cloud Village, Sand Village, Stone Village\n",
    "Cost: 21200\n",
    "=========================\n",
    "Name: Kushina\n",
    "Tickets: Leaves Village\n",
    "Cost: 3000\n",
    "=========================\n",
    "Total Traveller: 3"
   ]
  },
  {
   "cell_type": "code",
   "execution_count": 4,
   "id": "7397c9bd",
   "metadata": {},
   "outputs": [
    {
     "name": "stdout",
     "output_type": "stream",
     "text": [
      "near an ear a nearer ear a nearly eerie ear\n",
      "NEARANEARANEAREREARANEARLYEERIEEAR\n",
      "{'N': [20], 'E': [31], 'A': [32], 'R': [33], 'L': [24], 'Y': [25], 'I': [29]}\n"
     ]
    }
   ],
   "source": [
    "str1=input()\n",
    "\n",
    "def the_string(string):\n",
    "    str2=string.upper()\n",
    "    str3=''\n",
    "    for i in str2:\n",
    "        if i!= ' ':\n",
    "            str3+=i\n",
    "    print(str3)\n",
    "    dict1={}        \n",
    "    for i in range(0,len(str3)):\n",
    "        if i not in dict1:\n",
    "            dict1[str3[i]]=[i]\n",
    "        else:\n",
    "            dict1[str3[i]].append(i)\n",
    "            \n",
    "    return dict1\n",
    "\n",
    "output=the_string(str1)\n",
    "print(output)"
   ]
  },
  {
   "cell_type": "code",
   "execution_count": null,
   "id": "c5bc13e0",
   "metadata": {},
   "outputs": [],
   "source": []
  }
 ],
 "metadata": {
  "kernelspec": {
   "display_name": "Python 3",
   "language": "python",
   "name": "python3"
  },
  "language_info": {
   "codemirror_mode": {
    "name": "ipython",
    "version": 3
   },
   "file_extension": ".py",
   "mimetype": "text/x-python",
   "name": "python",
   "nbconvert_exporter": "python",
   "pygments_lexer": "ipython3",
   "version": "3.8.8"
  }
 },
 "nbformat": 4,
 "nbformat_minor": 5
}
