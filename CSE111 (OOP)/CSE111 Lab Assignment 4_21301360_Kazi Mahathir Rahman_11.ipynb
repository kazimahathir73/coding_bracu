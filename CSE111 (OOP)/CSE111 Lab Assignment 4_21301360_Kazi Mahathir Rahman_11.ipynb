{
 "cells": [
  {
   "cell_type": "markdown",
   "id": "ef34be81",
   "metadata": {},
   "source": [
    "# Problem-01"
   ]
  },
  {
   "cell_type": "code",
   "execution_count": 13,
   "id": "0e4fb03c",
   "metadata": {},
   "outputs": [
    {
     "name": "stdout",
     "output_type": "stream",
     "text": [
      "Enter the number1- 4\n",
      "Enter the operator- +\n",
      "Enter the number2- 10\n",
      "Let’s Calculate!\n",
      "Value 1: 4\n",
      "Operator: +\n",
      "Value 2: 10\n",
      "Result: 14\n"
     ]
    }
   ],
   "source": [
    "class Calculator:\n",
    "    def __init__(self,num1,op,num2):\n",
    "        self.num1 = num1\n",
    "        self.num2= num2\n",
    "        self.operator = op\n",
    "        \n",
    "    def add(self):\n",
    "        return self.num1+self.num2\n",
    "    def subtract(self):\n",
    "        return self.num1-self.num2\n",
    "    def multiply(self):\n",
    "        return self.num1*self.num2\n",
    "    def divide(self):\n",
    "        return self.num1/self.num2\n",
    "\n",
    "input1=int(input('Enter the number1- '))\n",
    "input3=input('Enter the operator- ')\n",
    "input2=int(input('Enter the number2- '))\n",
    "\n",
    "ob1 = Calculator(input1,input3,input2)\n",
    "print('Let’s Calculate!')\n",
    "print('Value 1:',input1)\n",
    "print('Operator:',input3)\n",
    "print('Value 2:',input2)\n",
    "\n",
    "if(input3 == '+'):\n",
    "    print('Result:',ob1.add())\n",
    "if(input3 == '-'):\n",
    "    print('Result:',ob1.subtract()) \n",
    "if(input3 == '*'):\n",
    "    print('Result:',ob1.multiply())\n",
    "if(input3 =='/'):\n",
    "    print('Result:',ob1.divide())"
   ]
  },
  {
   "cell_type": "markdown",
   "id": "a10af19c",
   "metadata": {},
   "source": [
    "# Problem-02"
   ]
  },
  {
   "cell_type": "code",
   "execution_count": 20,
   "id": "2f35b8e9",
   "metadata": {},
   "outputs": [
    {
     "name": "stdout",
     "output_type": "stream",
     "text": [
      "Hello!\n",
      "Sam you purchased 3 item(s):\n",
      "chips\n",
      "chocolate\n",
      "orange juice\n",
      "-----------------------------\n",
      "Hello David!\n",
      "David you purchased 1 item(s):\n",
      "orange juice\n"
     ]
    }
   ],
   "source": [
    "class Customer:\n",
    "    def __init__(self,name):\n",
    "        self.name=name\n",
    "        \n",
    "    def greet(self,name1=None):\n",
    "        if name1 == None:\n",
    "            print('Hello!')\n",
    "        else:\n",
    "            print('Hello',name1+'!')\n",
    "                \n",
    "    def purchase(self,*product):\n",
    "        print(self.name,'you purchased',len(product),'item(s):')\n",
    "        \n",
    "        for i in product:\n",
    "            print(i)\n",
    "\n",
    "customer_1 = Customer(\"Sam\")\n",
    "customer_1.greet()\n",
    "customer_1.purchase(\"chips\", \"chocolate\", \"orange juice\")\n",
    "print(\"-----------------------------\")\n",
    "customer_2 = Customer(\"David\")\n",
    "customer_2.greet(\"David\")\n",
    "customer_2.purchase(\"orange juice\")"
   ]
  },
  {
   "cell_type": "markdown",
   "id": "d7dc6b2b",
   "metadata": {},
   "source": [
    "# Problem-03"
   ]
  },
  {
   "cell_type": "code",
   "execution_count": 21,
   "id": "1e1dfe7c",
   "metadata": {
    "scrolled": true
   },
   "outputs": [
    {
     "name": "stdout",
     "output_type": "stream",
     "text": [
      "Kunfu is a Male Panda Bear who is 5 years old\n",
      "Pan Pan is a Female Panda Bear who is 3 years old\n",
      "Ming Ming is a Female Panda Bear who is 8 years old\n",
      "===========================\n",
      "Pan Pan sleeps 10 hours daily and should have Broccoli Chicken\n",
      "None\n",
      "Kunfu sleeps 4 hours daily and should have Mixed Veggies\n",
      "None\n",
      "Ming Ming's duration is unknown thus should have only bamboo leaves\n",
      "None\n"
     ]
    }
   ],
   "source": [
    "class Panda:\n",
    "    def __init__(self,name,gender,age):\n",
    "        self.name=name\n",
    "        self.gender= gender\n",
    "        self.age= age\n",
    "        \n",
    "    def sleep(self,hour=None):\n",
    "        if hour!=None and hour>=3 and hour<=5:\n",
    "            print(self.name,'sleeps',hour,'hours daily and should have Mixed Veggies')\n",
    "        if hour!=None and hour>=6 and hour<=8:\n",
    "            print(self.name,'sleeps',hour,'hours daily and should have Eggplant & Tofu')\n",
    "        if hour!=None and hour>=9 and hour<=11:\n",
    "            print(self.name,'sleeps',hour,'hours daily and should have Broccoli Chicken')\n",
    "        if hour ==None:\n",
    "            print(self.name+\"'s\",'duration is unknown thus should have only bamboo leaves')\n",
    "\n",
    "panda1 = Panda(\"Kunfu\",\"Male\", 5)\n",
    "panda2=Panda(\"Pan Pan\",\"Female\",3)\n",
    "panda3=Panda(\"Ming Ming\",\"Female\",8)\n",
    "print(\"{} is a {} Panda Bear who is {} years old\".format(panda1.name,panda1.gender,panda1.age))\n",
    "print(\"{} is a {} Panda Bear who is {} years old\".format(panda2.name,panda2.gender,panda2.age))\n",
    "print(\"{} is a {} Panda Bear who is {} years old\".format(panda3.name,panda3.gender,panda3.age))\n",
    "print(\"===========================\")\n",
    "print(panda2.sleep(10))\n",
    "print(panda1.sleep(4))\n",
    "print(panda3.sleep())"
   ]
  },
  {
   "cell_type": "markdown",
   "id": "d56e14ad",
   "metadata": {},
   "source": [
    "# Problem-04"
   ]
  },
  {
   "cell_type": "code",
   "execution_count": 25,
   "id": "36e3e26f",
   "metadata": {},
   "outputs": [
    {
     "name": "stdout",
     "output_type": "stream",
     "text": [
      "White Cat is sitting\n",
      "Black Cat is sitting\n",
      "Brown Cat is jumping\n",
      "Red Cat is purring\n",
      "Blue Cat is sitting\n",
      "Purple Cat is jumping\n"
     ]
    }
   ],
   "source": [
    "class Cat:\n",
    "    def __init__(self,color='White',action='sitting'):\n",
    "        self.color=color\n",
    "        self.action=action\n",
    "\n",
    "    def printCat(self):\n",
    "        print(self.color,'Cat is',self.action)\n",
    "        \n",
    "    def changeColor(self,color):\n",
    "        self.color=color\n",
    "\n",
    "c1 = Cat()\n",
    "c2 = Cat(\"Black\")\n",
    "c3 = Cat(\"Brown\", \"jumping\")\n",
    "c4 = Cat(\"Red\", \"purring\")\n",
    "c1.printCat()\n",
    "c2.printCat()\n",
    "c3.printCat()\n",
    "c4.printCat()\n",
    "c1.changeColor(\"Blue\")\n",
    "c3.changeColor(\"Purple\")\n",
    "c1.printCat()\n",
    "c3.printCat()"
   ]
  },
  {
   "cell_type": "markdown",
   "id": "e27bf19e",
   "metadata": {},
   "source": [
    "# Problem-05"
   ]
  },
  {
   "cell_type": "code",
   "execution_count": 30,
   "id": "91a463c0",
   "metadata": {
    "scrolled": true
   },
   "outputs": [
    {
     "name": "stdout",
     "output_type": "stream",
     "text": [
      "--------------------------------\n",
      "Hello default student\n",
      "Your average quiz score 3.3333333333333335\n",
      "--------------------------------\n",
      "Hello Harry\n",
      "Your average quiz score 6.0\n",
      "--------------------------------\n",
      "Hello Hermione\n",
      "Your average quiz score 9.666666666666666\n"
     ]
    }
   ],
   "source": [
    "class Student:\n",
    "    def __init__(self,name='default student'):\n",
    "        self.name = name\n",
    "        \n",
    "    def quizcalc(self,*num):\n",
    "        sum1=0\n",
    "        for i in num:\n",
    "            sum1+=i\n",
    "        avg=sum1/3\n",
    "        self.avg=avg\n",
    "        \n",
    "    def printdetail(self):\n",
    "        print('Hello',self.name)\n",
    "        print('Your average quiz score',self.avg)\n",
    "\n",
    "s1 = Student()\n",
    "s1.quizcalc(10)\n",
    "print('--------------------------------')\n",
    "s1.printdetail()\n",
    "s2 = Student('Harry')\n",
    "s2.quizcalc(10,8)\n",
    "print('--------------------------------')\n",
    "s2.printdetail()\n",
    "s3 = Student('Hermione')\n",
    "s3.quizcalc(10,9,10)\n",
    "print('--------------------------------')\n",
    "s3.printdetail()"
   ]
  },
  {
   "cell_type": "markdown",
   "id": "8b1a2db5",
   "metadata": {},
   "source": [
    "# Problem-06"
   ]
  },
  {
   "cell_type": "code",
   "execution_count": 34,
   "id": "dd8073df",
   "metadata": {},
   "outputs": [
    {
     "name": "stdout",
     "output_type": "stream",
     "text": [
      "(0,0)\n",
      "(0,1)\n",
      "(-1,1)\n",
      "(-1,0)\n"
     ]
    }
   ],
   "source": [
    "class Vehicle:\n",
    "    def __init__(self):\n",
    "        self.x=0\n",
    "        self.y=0\n",
    "    def print_position(self):\n",
    "        print('('+str(self.x)+','+str(self.y)+')')\n",
    "    def moveUp(self):\n",
    "        self.y+=1\n",
    "    def moveDown(self):\n",
    "        self.y-=1\n",
    "    def moveRight(self):\n",
    "        self.x+=1\n",
    "    def moveLeft(self):\n",
    "        self.x-=1\n",
    "\n",
    "car = Vehicle()\n",
    "car.print_position()\n",
    "car.moveUp()\n",
    "car.print_position()\n",
    "car.moveLeft()\n",
    "car.print_position()\n",
    "car.moveDown()\n",
    "car.print_position()\n",
    "car.moveRight()"
   ]
  },
  {
   "cell_type": "markdown",
   "id": "345de5ff",
   "metadata": {},
   "source": [
    "# Problem-07"
   ]
  },
  {
   "cell_type": "code",
   "execution_count": 37,
   "id": "87165832",
   "metadata": {},
   "outputs": [
    {
     "name": "stdout",
     "output_type": "stream",
     "text": [
      "Horray! A new programmer is born\n",
      "Name: Ethen Hunt\n",
      "Language: Java\n",
      "Experience: 10 years\n",
      "--------------------------\n",
      "Horray! A new programmer is born\n",
      "Name: James Bond\n",
      "Language: C++\n",
      "Experience: 7 years\n",
      "--------------------------\n",
      "Horray! A new programmer is born\n",
      "Name: Jon Snow\n",
      "Language: Python\n",
      "Experience: 4 years\n",
      "Updating experience of Jon Snow\n",
      "Name: Jon Snow\n",
      "Language: Python\n",
      "Experience: 9 years\n"
     ]
    }
   ],
   "source": [
    "class Programmer:\n",
    "    def __init__(self,name,lang,year):\n",
    "        print('Horray! A new programmer is born')\n",
    "        self.name=name\n",
    "        self.lang=lang\n",
    "        self.year=year\n",
    "        \n",
    "    def printDetails(self):\n",
    "        print('Name:',self.name)\n",
    "        print('Language:',self.lang)\n",
    "        print('Experience:',self.year,'years')\n",
    "        \n",
    "    def addExp(self,num):\n",
    "        print('Updating experience of',self.name)\n",
    "        self.year+=num\n",
    "\n",
    "p1 = Programmer(\"Ethen Hunt\", \"Java\", 10)\n",
    "p1.printDetails()\n",
    "print('--------------------------')\n",
    "p2 = Programmer(\"James Bond\", \"C++\", 7)\n",
    "p2.printDetails()\n",
    "print('--------------------------')\n",
    "p3 = Programmer(\"Jon Snow\", \"Python\", 4)\n",
    "p3.printDetails()\n",
    "p3.addExp(5)\n",
    "p3.printDetails()"
   ]
  },
  {
   "cell_type": "markdown",
   "id": "ee524ee7",
   "metadata": {},
   "source": [
    "# Problem-08"
   ]
  },
  {
   "cell_type": "code",
   "execution_count": 42,
   "id": "58f6feb4",
   "metadata": {
    "scrolled": true
   },
   "outputs": [
    {
     "name": "stdout",
     "output_type": "stream",
     "text": [
      "Name: Harry Potter\n",
      "ID: 123\n",
      "Department: CSE\n",
      "Daily Effort: 3 hour(s)\n",
      "Suggestion: Keep up the good work!\n",
      "========================\n",
      "Name: John Wick\n",
      "ID: 456\n",
      "Department: BBA\n",
      "Daily Effort: 2 hour(s)\n",
      "Suggestion: Should give more effort!\n",
      "========================\n",
      "Name: Naruto Uzumaki\n",
      "ID: 777\n",
      "Department: Ninja\n",
      "Daily Effort: 6 hour(s)\n",
      "Suggestion: Excellent! Now motivate others.\n"
     ]
    }
   ],
   "source": [
    "class Student:\n",
    "    def __init__(self,name=None,ids=None,department='CSE'):\n",
    "        self.name=name\n",
    "        self.id=ids\n",
    "        self.dep=department\n",
    "        \n",
    "    def dailyEffort(self,num):\n",
    "        self.num=num\n",
    "        print('Name:',self.name)\n",
    "        print('ID:',self.id)\n",
    "        print('Department:',self.dep)\n",
    "        \n",
    "    def printDetails(self):\n",
    "        if self.num <= 2:\n",
    "            print('Daily Effort:',self.num,'hour(s)')\n",
    "            print('Suggestion: Should give more effort!')\n",
    "        if self.num > 2 and self.num <= 4:\n",
    "            print('Daily Effort:',self.num,'hour(s)')\n",
    "            print('Suggestion: Keep up the good work!')\n",
    "        if self.num > 5:\n",
    "            print('Daily Effort:',self.num,'hour(s)')\n",
    "            print('Suggestion: Excellent! Now motivate others.')   \n",
    "\n",
    "harry = Student('Harry Potter', 123)\n",
    "harry.dailyEffort(3)\n",
    "harry.printDetails()\n",
    "print('========================')\n",
    "john = Student(\"John Wick\", 456, \"BBA\")\n",
    "john.dailyEffort(2)\n",
    "john.printDetails()\n",
    "print('========================')\n",
    "naruto = Student(\"Naruto Uzumaki\", 777, \"Ninja\")\n",
    "naruto.dailyEffort(6)\n",
    "naruto.printDetails()"
   ]
  },
  {
   "cell_type": "markdown",
   "id": "88699ef3",
   "metadata": {},
   "source": [
    "# Problem-09"
   ]
  },
  {
   "cell_type": "code",
   "execution_count": 30,
   "id": "ad229d52",
   "metadata": {},
   "outputs": [
    {
     "name": "stdout",
     "output_type": "stream",
     "text": [
      "=========================\n",
      "Name: Thomas\n",
      "Age: 23\n",
      "Symtoms:\n",
      "Headache\n",
      "=========================\n",
      "Name: Carol\n",
      "Age: 20\n",
      "Symtoms:\n",
      "Vomiting, Coughing\n",
      "=========================\n",
      "Name: Mike\n",
      "Age: 25\n",
      "Symtoms:\n",
      "Fever, Headache, Coughing\n",
      "=========================\n"
     ]
    }
   ],
   "source": [
    "class Patient:\n",
    "    def __init__(self,name,age):\n",
    "        self.name=name\n",
    "        self.age=age\n",
    "        \n",
    "    def add_Symptom(self,*stmp):\n",
    "        self.list= stmp\n",
    "        \n",
    "    def printPatientDetail(self):\n",
    "        print('Name:',self.name)\n",
    "        print('Age:',self.age)\n",
    "        print('Symtoms:')\n",
    "        for i in self.list:\n",
    "            if self.list.index(i)!= len(self.list)-1:\n",
    "                print(i,end=', ')\n",
    "            else:\n",
    "                print(i)\n",
    "\n",
    "p1 = Patient('Thomas', 23)\n",
    "p1.add_Symptom('Headache')\n",
    "p2 = Patient('Carol', 20)\n",
    "p2.add_Symptom('Vomiting', 'Coughing')\n",
    "p3 = Patient('Mike', 25)\n",
    "p3.add_Symptom('Fever', 'Headache', 'Coughing')\n",
    "print(\"=========================\")\n",
    "p1.printPatientDetail()\n",
    "print(\"=========================\")\n",
    "p2.printPatientDetail()\n",
    "print(\"=========================\")\n",
    "p3.printPatientDetail()\n",
    "print(\"=========================\")"
   ]
  },
  {
   "cell_type": "markdown",
   "id": "7b16feb1",
   "metadata": {},
   "source": [
    "# Problem-10"
   ]
  },
  {
   "cell_type": "code",
   "execution_count": 29,
   "id": "293bb537",
   "metadata": {},
   "outputs": [
    {
     "name": "stdout",
     "output_type": "stream",
     "text": [
      "=========================\n",
      "Name: Captain America\n",
      "Partner: Bucky Barnes\n",
      "Super Powers:\n",
      "Stamina, Slowed ageing\n",
      "=========================\n",
      "Name: Doctor Strange\n",
      "Partner: Ancient One\n",
      "Super Powers:\n",
      "Mastery of magic\n",
      "=========================\n",
      "Name: Iron Man\n",
      "Partner: War Machine\n",
      "Super Powers:\n",
      "Genius level intellect, Scientist \n",
      "=========================\n"
     ]
    }
   ],
   "source": [
    "class Avengers:\n",
    "    def __init__(self,name,partner):\n",
    "        self.name=name\n",
    "        self.pt=partner\n",
    "        \n",
    "    def super_powers(self,*power):\n",
    "        self.list= power\n",
    "        \n",
    "    def printAvengersDetail(self):\n",
    "        print('Name:',self.name)\n",
    "        print('Partner:',self.pt)\n",
    "        print('Super Powers:')\n",
    "        for i in self.list:\n",
    "            if self.list.index(i) != len(self.list)-1:\n",
    "                print(i,end=', ')\n",
    "            else:\n",
    "                print(i)\n",
    "\n",
    "a1 = Avengers('Captain America', 'Bucky Barnes')\n",
    "a1.super_powers('Stamina', 'Slowed ageing')\n",
    "a2 = Avengers('Doctor Strange', 'Ancient One')\n",
    "a2.super_powers('Mastery of magic')\n",
    "a3 = Avengers('Iron Man', 'War Machine')\n",
    "a3.super_powers('Genius level intellect', 'Scientist ')\n",
    "print(\"=========================\")\n",
    "a1.printAvengersDetail()\n",
    "print(\"=========================\")\n",
    "a2.printAvengersDetail()\n",
    "print(\"=========================\")\n",
    "a3.printAvengersDetail()\n",
    "print(\"=========================\")"
   ]
  },
  {
   "cell_type": "markdown",
   "id": "f04b10bc",
   "metadata": {},
   "source": [
    "# Problem-11"
   ]
  },
  {
   "cell_type": "code",
   "execution_count": 64,
   "id": "beb7a596",
   "metadata": {},
   "outputs": [
    {
     "name": "stdout",
     "output_type": "stream",
     "text": [
      "Name: Naruto\n",
      "Rank: Genin\n",
      "Numebr of mission: 5\n",
      "Salary: 2500\n",
      "====================\n",
      "Name: Shikamaru\n",
      "Rank: Genin\n",
      "Numebr of mission: 0\n",
      "Salary: 0\n",
      "Name: Shikamaru\n",
      "Rank: Chunin\n",
      "Numebr of mission: 10\n",
      "Salary: 1000\n",
      "====================\n",
      "Name: Neiji\n",
      "Rank: Jonin\n",
      "Numebr of mission: 5\n",
      "Salary: 2500\n"
     ]
    }
   ],
   "source": [
    "class Shinobi:\n",
    "    def __init__(self,name,rank,salary=0,num=0):\n",
    "        self.name=name\n",
    "        self.rank=rank\n",
    "        self.salary=salary\n",
    "        self.mission=num\n",
    "        \n",
    "    def calSalary(self,num1):\n",
    "        self.mission=num1\n",
    "        if self.rank=='Genin':\n",
    "            self.salary= self.mission*50\n",
    "        if self.rank=='Chunin':\n",
    "            self.salary= self.mission*100\n",
    "        else:\n",
    "            self.salary= self.mission*500\n",
    "            \n",
    "    def changeRank(self,up_rank):\n",
    "        self.rank = up_rank\n",
    "        \n",
    "    def printInfo(self):\n",
    "        print('Name:',self.name)\n",
    "        print('Rank:',self.rank)\n",
    "        print('Numebr of mission:',self.num)\n",
    "        print('Salary:',self.salary)\n",
    "\n",
    "\n",
    "naruto = Shinobi(\"Naruto\", \"Genin\")\n",
    "naruto.calSalary(5)\n",
    "naruto.printInfo()\n",
    "print('====================')\n",
    "shikamaru = Shinobi('Shikamaru', \"Genin\")\n",
    "shikamaru.printInfo()\n",
    "shikamaru.changeRank(\"Chunin\")\n",
    "shikamaru.calSalary(10)\n",
    "shikamaru.printInfo()\n",
    "print('====================')\n",
    "neiji = Shinobi(\"Neiji\", \"Jonin\")\n",
    "neiji.calSalary(5)\n",
    "neiji.printInfo()"
   ]
  },
  {
   "cell_type": "markdown",
   "id": "21920c84",
   "metadata": {},
   "source": [
    "# Problem-12"
   ]
  },
  {
   "cell_type": "code",
   "execution_count": 4,
   "id": "ad1fda86",
   "metadata": {},
   "outputs": [
    {
     "name": "stdout",
     "output_type": "stream",
     "text": [
      "**********************\n",
      "Customer name: No name set\n",
      "Product Weight: 0\n",
      "Total fee: 0\n",
      "**********************\n",
      "Customer name: Bob The Builder\n",
      "Product Weight: 0\n",
      "Total fee: 0\n",
      "----------------------------\n",
      "Customer name: Bob The Builder\n",
      "Product Weight: 15\n",
      "Total fee: 350\n",
      "**********************\n",
      "Customer name: Dora The Explorer\n",
      "Product Weight: 10\n",
      "Total fee: 300\n"
     ]
    }
   ],
   "source": [
    "class ParcelKoro:\n",
    "    def __init__(self,name='No name set',pro_wei=0):\n",
    "        self.name=name\n",
    "        self.product_weight=pro_wei\n",
    "        self.fee=0\n",
    "         \n",
    "    def calculateFee(self,location=None):\n",
    "        if self.product_weight !=0:\n",
    "            if location != None:\n",
    "                self.fee=(self.product_weight*20)+100\n",
    "            else:\n",
    "                self.fee=(self.product_weight*20)+50\n",
    "        else:\n",
    "            self.fee=0\n",
    "     \n",
    "\n",
    "    def printDetails(self):\n",
    "        print('Customer name:',self.name)\n",
    "        print('Product Weight:',self.product_weight)\n",
    "        print('Total fee:',self.fee)\n",
    "\n",
    "print(\"**********************\")\n",
    "p1 = ParcelKoro()\n",
    "p1.calculateFee()\n",
    "p1.printDetails()\n",
    "print(\"**********************\")\n",
    "p2 = ParcelKoro('Bob The Builder')\n",
    "p2.calculateFee()\n",
    "p2.printDetails()\n",
    "print(\"----------------------------\")\n",
    "p2.product_weight = 15\n",
    "p2.calculateFee()\n",
    "p2.printDetails()\n",
    "print(\"**********************\")\n",
    "p3 = ParcelKoro('Dora The Explorer', 10)\n",
    "p3.calculateFee('Dhanmondi')\n",
    "p3.printDetails()"
   ]
  },
  {
   "cell_type": "markdown",
   "id": "3919fc5e",
   "metadata": {},
   "source": [
    "# Problem-13"
   ]
  },
  {
   "cell_type": "code",
   "execution_count": 10,
   "id": "373bd468",
   "metadata": {},
   "outputs": [
    {
     "name": "stdout",
     "output_type": "stream",
     "text": [
      "Name: New Batsman\n",
      "Runs Scored: 6101 , Balls Faced: 7380\n",
      "============================\n",
      "Name: Liton Das\n",
      "Runs Scored: 678 , Balls Faced: 773\n",
      "----------------------------\n",
      "87.71021992238033\n",
      "============================\n",
      "Name: Shakib Al Hasan\n",
      "Runs Scored: 6101 , Balls Faced: 7380\n",
      "----------------------------\n",
      "82.66937669376694\n"
     ]
    }
   ],
   "source": [
    "class Batsman:\n",
    "    def __init__(self,*info):\n",
    "        if str(type(info[0])) == \"<class 'str'>\":\n",
    "            self.name=info[0]\n",
    "            self.run=info[1]\n",
    "            self.ball=info[2]\n",
    "        else:\n",
    "            self.name='New Batsman'\n",
    "            self.run=info[0]\n",
    "            self.ball=info[1]\n",
    "        \n",
    "    def printCareerStatistics(self):\n",
    "        print('Name:',self.name)\n",
    "        print('Runs Scored:',self.run,',','Balls Faced:',self.ball)\n",
    "        \n",
    "    def battingStrikeRate(self):\n",
    "        sr=(self.run/self.ball)*100\n",
    "        return sr\n",
    "        \n",
    "    def setName(self,name1):\n",
    "        self.name=name1\n",
    "\n",
    "b1 = Batsman(6101, 7380)\n",
    "b1.printCareerStatistics()\n",
    "print(\"============================\")\n",
    "b2 = Batsman(\"Liton Das\", 678, 773)\n",
    "b2.printCareerStatistics()\n",
    "print(\"----------------------------\")\n",
    "print(b2.battingStrikeRate())\n",
    "print(\"============================\")\n",
    "b1.setName(\"Shakib Al Hasan\")\n",
    "b1.printCareerStatistics()\n",
    "print(\"----------------------------\")\n",
    "print(b1.battingStrikeRate())"
   ]
  },
  {
   "cell_type": "markdown",
   "id": "38bf043c",
   "metadata": {},
   "source": [
    "# Problem-14"
   ]
  },
  {
   "cell_type": "code",
   "execution_count": 33,
   "id": "c3a046f4",
   "metadata": {
    "scrolled": true
   },
   "outputs": [
    {
     "name": "stdout",
     "output_type": "stream",
     "text": [
      "===================\n",
      "Name: Manchester United\n",
      "Song: Glory Glory Man United\n",
      "Title No of title: 0\n",
      "##################\n",
      "Name: Manchester United\n",
      "Song: Glory Glory Man United\n",
      "Title No of title: 1\n",
      "===================\n",
      "Name: Chelsea\n",
      "Song: No Slogan\n",
      "Title No of title: 0\n",
      "Name: Chelsea\n",
      "Song: Keep the blue flag flying high\n",
      "Title No of title: 0\n"
     ]
    }
   ],
   "source": [
    "class EPL_Team:\n",
    "    def __init__(self,name=None,song='No Slogan',num_song=0):\n",
    "        self.name=name\n",
    "        self.song=song\n",
    "        self.num_song=num_song\n",
    "    \n",
    "    def showClubInfo(self):\n",
    "        name0='Name: '+self.name\n",
    "        song0='Song: '+self.song\n",
    "        title0='Title No of title: '+str(self.num_song)\n",
    "        return name0+'\\n'+song0+'\\n'+title0\n",
    "    \n",
    "    def increaseTitle(self):\n",
    "        self.num_song+=1\n",
    "        \n",
    "    def changeSong(self,song_name):\n",
    "        self.song=song_name\n",
    "\n",
    "\n",
    "manu = EPL_Team('Manchester United', 'Glory Glory Man United')\n",
    "chelsea = EPL_Team('Chelsea')\n",
    "print('===================')\n",
    "print(manu.showClubInfo())\n",
    "print('##################')\n",
    "manu.increaseTitle()\n",
    "print(manu.showClubInfo())\n",
    "print('===================')\n",
    "print(chelsea.showClubInfo())\n",
    "chelsea.changeSong('Keep the blue flag flying high')\n",
    "print(chelsea.showClubInfo())"
   ]
  },
  {
   "cell_type": "markdown",
   "id": "c4e47274",
   "metadata": {},
   "source": [
    "# Problem-15"
   ]
  },
  {
   "cell_type": "code",
   "execution_count": 15,
   "id": "55a33a94",
   "metadata": {
    "scrolled": false
   },
   "outputs": [
    {
     "name": "stdout",
     "output_type": "stream",
     "text": [
      "Default Account\n",
      "0.0\n",
      "------------------------\n",
      "Oliver\n",
      "10000.0\n",
      "------------------------\n",
      "Liam\n",
      "0.0\n",
      "------------------------\n",
      "Noah\n",
      "400\n",
      "------------------------\n",
      "Sorry, Withdraw unsuccessful! The account balance after deducting withdraw amount is equal to or less than minimum.\n",
      "------------------------\n",
      "Sorry, Withdraw unsuccessful! The account balance after deducting withdraw amount is equal to or less than minimum.\n",
      "------------------------\n",
      "Withdraw successful! New balance is: 3071.0\n"
     ]
    }
   ],
   "source": [
    "class Account:\n",
    "    def __init__(self,name='Default Account',balance=0.00):\n",
    "        self.name=name\n",
    "        self.balance=balance\n",
    "        \n",
    "    def details(self):\n",
    "        return f'{self.name}\\n{self.balance}'\n",
    "        \n",
    "    def withdraw(self,num):\n",
    "        cr_balance=self.balance-num\n",
    "        if cr_balance < 3071:\n",
    "            print('Sorry, Withdraw unsuccessful! The account balance after deducting withdraw amount is equal to or less than minimum.')\n",
    "        else:\n",
    "            print('Withdraw successful! New balance is:',cr_balance)\n",
    "\n",
    "a1 = Account()\n",
    "print(a1.details())\n",
    "print(\"------------------------\")\n",
    "a1.name = \"Oliver\"\n",
    "a1.balance = 10000.0\n",
    "print(a1.details())\n",
    "print(\"------------------------\")\n",
    "a2 = Account(\"Liam\")\n",
    "print(a2.details())\n",
    "print(\"------------------------\")\n",
    "a3 = Account(\"Noah\",400)\n",
    "print(a3.details())\n",
    "print(\"------------------------\")\n",
    "a1.withdraw(6930);\n",
    "print(\"------------------------\")\n",
    "a2.withdraw(600);\n",
    "print(\"------------------------\")\n",
    "a1.withdraw(6929)"
   ]
  },
  {
   "cell_type": "markdown",
   "id": "463238ab",
   "metadata": {},
   "source": [
    "# Problem-16"
   ]
  },
  {
   "cell_type": "code",
   "execution_count": 55,
   "id": "eef8f17d",
   "metadata": {},
   "outputs": [
    {
     "name": "stdout",
     "output_type": "stream",
     "text": [
      "Aurthor Name: Humayun Ahmed\n",
      "---------\n",
      "List of Books:\n",
      "Deyal\n",
      "Megher Opor Bari\n",
      "===================\n",
      "Default\n",
      "===================\n",
      "Aurthor Name: Mario Puzo\n",
      "---------\n",
      "List of Books:\n",
      "The Godfather\n",
      "Omerta\n",
      "The Sicilian\n",
      "===================\n",
      "Aurthor Name: Paolo Coelho\n",
      "---------\n",
      "List of Books:\n",
      "The Alchemist\n",
      "The Fifth Mountain\n"
     ]
    }
   ],
   "source": [
    "class Author:\n",
    "    def __init__(self,*name):\n",
    "        if len(name) == 0:\n",
    "            self.name='Default'\n",
    "            self.books=[]\n",
    "        if len(name) ==1:\n",
    "            self.name=name[0]\n",
    "            self.books=[]\n",
    "        if len(name) == 2:\n",
    "            self.name=name[0]\n",
    "            self.books=[]\n",
    "            self.books.append(name[1])\n",
    "        if len(name) == 3:\n",
    "            self.name=name[0]\n",
    "            self.books=[]\n",
    "            self.books.append(name[1])\n",
    "            self.books.append(name[2])\n",
    "        \n",
    "    def addBooks(self,*books):\n",
    "        self.books=books\n",
    "        \n",
    "    def printDetails(self):\n",
    "        print('Aurthor Name:',self.name)\n",
    "        print('---------')\n",
    "        if len(self.books) != 0:\n",
    "            print('List of Books:')\n",
    "            for i in self.books:\n",
    "                print(i)\n",
    "        else:\n",
    "            pass\n",
    "            \n",
    "    def changeName(self,name1):\n",
    "        self.name=name1\n",
    "\n",
    "auth1 = Author('Humayun Ahmed')\n",
    "auth1.addBooks('Deyal', 'Megher Opor Bari')\n",
    "auth1.printDetails()\n",
    "print('===================')\n",
    "auth2 = Author()\n",
    "print(auth2.name)\n",
    "auth2.changeName('Mario Puzo')\n",
    "auth2.addBooks('The Godfather', 'Omerta', 'The Sicilian')\n",
    "print('===================')\n",
    "auth2.printDetails()\n",
    "print('===================')\n",
    "auth3 = Author('Paolo Coelho', 'The Alchemist', 'The Fifth Mountain')\n",
    "auth3.printDetails()"
   ]
  }
 ],
 "metadata": {
  "kernelspec": {
   "display_name": "Python 3",
   "language": "python",
   "name": "python3"
  },
  "language_info": {
   "codemirror_mode": {
    "name": "ipython",
    "version": 3
   },
   "file_extension": ".py",
   "mimetype": "text/x-python",
   "name": "python",
   "nbconvert_exporter": "python",
   "pygments_lexer": "ipython3",
   "version": "3.8.8"
  }
 },
 "nbformat": 4,
 "nbformat_minor": 5
}
