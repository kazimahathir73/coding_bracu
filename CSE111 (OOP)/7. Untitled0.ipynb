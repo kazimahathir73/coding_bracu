{
 "cells": [
  {
   "cell_type": "code",
   "execution_count": 12,
   "metadata": {
    "colab": {
     "base_uri": "https://localhost:8080/"
    },
    "executionInfo": {
     "elapsed": 376,
     "status": "ok",
     "timestamp": 1638352002377,
     "user": {
      "displayName": "LABIB HASAN KHAN",
      "photoUrl": "https://lh3.googleusercontent.com/a/default-user=s64",
      "userId": "01298642310994315201"
     },
     "user_tz": -360
    },
    "id": "ErqVvUAdWqYw",
    "outputId": "02adb1f1-3bfe-45c6-c8bd-8aa516100abe"
   },
   "outputs": [
    {
     "name": "stdout",
     "output_type": "stream",
     "text": [
      "<__main__.Building object at 0x7f1b0a7d9110>\n",
      "30\n",
      "50\n"
     ]
    }
   ],
   "source": [
    "class Building():\n",
    "  \n",
    "   def __init__(self,floor):\n",
    "     self.floor = floor\n",
    "\n",
    "\n",
    "   def __add__(self,other):\n",
    "     val = self.floor + other.floor\n",
    "     return Building(val)\n",
    "\n",
    "   def changefloor(self,floornum):\n",
    "       return Building(floornum)\n",
    "\n",
    "  \n",
    "b1 = Building(10)\n",
    "b2 = Building(20)\n",
    "b3 = b1 + b2  #Building(30)\n",
    "print(b3)\n",
    "print(b3.floor)\n",
    "b4= b2 +b3\n",
    "print(b4.floor)\n",
    "print"
   ]
  }
 ],
 "metadata": {
  "colab": {
   "authorship_tag": "ABX9TyMFEAMkdYYJSQZ1WMr+ism9",
   "name": "Untitled0.ipynb",
   "provenance": []
  },
  "kernelspec": {
   "display_name": "Python 3",
   "name": "python3"
  },
  "language_info": {
   "name": "python"
  }
 },
 "nbformat": 4,
 "nbformat_minor": 0
}
