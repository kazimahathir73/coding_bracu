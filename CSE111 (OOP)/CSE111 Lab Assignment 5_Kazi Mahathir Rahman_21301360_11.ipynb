{
 "cells": [
  {
   "cell_type": "markdown",
   "id": "ef34be81",
   "metadata": {},
   "source": [
    "# Problem-01"
   ]
  },
  {
   "cell_type": "code",
   "execution_count": 4,
   "id": "f23ce735",
   "metadata": {},
   "outputs": [
    {
     "name": "stdout",
     "output_type": "stream",
     "text": [
      "Quiz 1 (out of 10): 10\n",
      "Quiz 2 (out of 10): 10\n",
      "Lab (out of 30): 30\n",
      "Mid (out of 20): 20\n",
      "Final (out of 30): 30\n",
      "Total marks: 100\n"
     ]
    }
   ],
   "source": [
    "class Marks:\n",
    "    def __init__(self,q1):\n",
    "        self.mark=q1\n",
    "    def __add__(self,other):\n",
    "        return Marks(self.mark+other.mark)\n",
    "    \n",
    "Q1 = Marks(int(input(\"Quiz 1 (out of 10): \")))\n",
    "Q2 = Marks(int(input(\"Quiz 2 (out of 10): \")))\n",
    "Lab = Marks(int(input(\"Lab (out of 30): \")))\n",
    "Mid = Marks(int(input(\"Mid (out of 20): \")))\n",
    "Final = Marks(int(input(\"Final (out of 30): \")))\n",
    "total = Q1 + Q2 + Lab + Mid + Final\n",
    "print(\"Total marks: {}\".format(total.mark))"
   ]
  },
  {
   "cell_type": "markdown",
   "id": "a10af19c",
   "metadata": {},
   "source": [
    "# Problem-02"
   ]
  },
  {
   "cell_type": "code",
   "execution_count": 9,
   "id": "fdbcbac0",
   "metadata": {},
   "outputs": [
    {
     "name": "stdout",
     "output_type": "stream",
     "text": [
      "====================================\n",
      "Name:  Saad Abdullah\n",
      "Department:  CSE\n",
      "List of courses\n",
      "====================================\n",
      "CSE 110 Programming Language I\n",
      "CSE 111 Programming Language-II\n",
      "====================================\n",
      "====================================\n",
      "Name:  Mumit Khan\n",
      "Department:  CSE\n",
      "List of courses\n",
      "====================================\n",
      "CSE 220 Data Structures\n",
      "CSE 221 Algorithms\n",
      "CCSE 230 Discrete Mathematics\n",
      "====================================\n",
      "====================================\n",
      "Name:  Sadia Kazi\n",
      "Department:  CSE\n",
      "List of courses\n",
      "====================================\n",
      "CSE 310 Object Oriented Programming\n",
      "CSE 320 Data Communications\n",
      "CSE 340 Computer Architecture\n",
      "====================================\n"
     ]
    }
   ],
   "source": [
    "class Teacher:\n",
    "    def __init__(self,name,dep):\n",
    "        self.__teacher=name\n",
    "        self.__department=dep \n",
    "        self.__list=[]\n",
    "        \n",
    "    def addCourse(self,obj):\n",
    "        self.__list.append(obj.sub)\n",
    "        \n",
    "    def printDetail(self):\n",
    "        print('====================================')\n",
    "        print('Name: ',self.__teacher)\n",
    "        print('Department: ',self.__department)\n",
    "        print('List of courses')\n",
    "        print('====================================')\n",
    "        for i in self.__list:\n",
    "            print(i)\n",
    "        print('====================================')   \n",
    "    \n",
    "class Course:\n",
    "    def __init__(self,sub):\n",
    "        self.sub=sub\n",
    "\n",
    "\n",
    "t1 = Teacher(\"Saad Abdullah\", \"CSE\")\n",
    "t2 = Teacher(\"Mumit Khan\", \"CSE\")\n",
    "t3 = Teacher(\"Sadia Kazi\", \"CSE\")\n",
    "c1 = Course(\"CSE 110 Programming Language I\")\n",
    "c2 = Course(\"CSE 111 Programming Language-II\")\n",
    "c3 = Course(\"CSE 220 Data Structures\")\n",
    "c4 = Course(\"CSE 221 Algorithms\")\n",
    "c5 = Course(\"CCSE 230 Discrete Mathematics\")\n",
    "c6 = Course(\"CSE 310 Object Oriented Programming\")\n",
    "c7 = Course(\"CSE 320 Data Communications\")\n",
    "c8 = Course(\"CSE 340 Computer Architecture\")\n",
    "t1.addCourse(c1)\n",
    "t1.addCourse(c2)\n",
    "t2.addCourse(c3)\n",
    "t2.addCourse(c4)\n",
    "t2.addCourse(c5)\n",
    "t3.addCourse(c6)\n",
    "t3.addCourse(c7)\n",
    "t3.addCourse(c8)\n",
    "t1.printDetail()\n",
    "t2.printDetail()\n",
    "t3.printDetail()"
   ]
  },
  {
   "cell_type": "markdown",
   "id": "d7dc6b2b",
   "metadata": {},
   "source": [
    "# Problem-03"
   ]
  },
  {
   "cell_type": "code",
   "execution_count": 11,
   "id": "1e1dfe7c",
   "metadata": {},
   "outputs": [
    {
     "name": "stdout",
     "output_type": "stream",
     "text": [
      "====================================\n",
      "Name:  Bangladesh\n",
      "List of Players:\n",
      "['Mashrafi', 'Tamim']\n",
      "====================================\n",
      "====================================\n",
      "Name:  Australia\n",
      "List of Players:\n",
      "['Ponting', 'Lee']\n",
      "====================================\n"
     ]
    }
   ],
   "source": [
    "class Team:\n",
    "    def __init__(self,team=None):\n",
    "        self.__team=team\n",
    "        self.__list=[]\n",
    "    \n",
    "    def setName(self,tname):\n",
    "        self.__team=tname\n",
    "    \n",
    "    def addPlayer(self,player):\n",
    "        self.__list.append(player.name)\n",
    "        \n",
    "    def printDetail(self):\n",
    "        print('====================================')\n",
    "        print('Name: ',self.__team)\n",
    "        print('List of Players:')\n",
    "        print(self.__list)\n",
    "        print('====================================')\n",
    "        \n",
    "class Player:\n",
    "    def __init__(self,name):\n",
    "        self.name=name\n",
    "\n",
    "b = Team()\n",
    "b.setName('Bangladesh')\n",
    "mashrafi = Player(\"Mashrafi\")\n",
    "b.addPlayer(mashrafi)\n",
    "tamim = Player(\"Tamim\")\n",
    "b.addPlayer(tamim)\n",
    "b.printDetail()\n",
    "a = Team(\"Australia\")\n",
    "ponting = Player(\"Ponting\")\n",
    "a.addPlayer(ponting)\n",
    "lee = Player(\"Lee\")\n",
    "a.addPlayer(lee)\n",
    "a.printDetail()"
   ]
  },
  {
   "cell_type": "markdown",
   "id": "d56e14ad",
   "metadata": {},
   "source": [
    "# Problem-04"
   ]
  },
  {
   "cell_type": "code",
   "execution_count": 16,
   "id": "36e3e26f",
   "metadata": {},
   "outputs": [
    {
     "name": "stdout",
     "output_type": "stream",
     "text": [
      "First Color: red\n",
      "Second Color: yellow\n",
      "Color formed: Orange\n"
     ]
    }
   ],
   "source": [
    "class Color:\n",
    "    def __init__(self,c1):\n",
    "        self.clr=c1\n",
    "        \n",
    "    def __add__(self,c2):\n",
    "        if self.clr == 'red' and c2.clr== 'yellow':\n",
    "            self.clr = 'Orange'\n",
    "        if self.clr == 'red' and c2.clr == 'blue':\n",
    "            self.clr = 'Violet'\n",
    "        if self.clr == 'blue' and c2.clr == 'yellow':\n",
    "            self.clr = 'Green'\n",
    "        C3= Color(self.clr)\n",
    "        return C3 \n",
    "\n",
    "\n",
    "C1 = Color(input(\"First Color: \").lower())\n",
    "C2 = Color(input(\"Second Color: \").lower())\n",
    "C3 = C1 + C2\n",
    "print(\"Color formed:\", C3.clr)"
   ]
  },
  {
   "cell_type": "markdown",
   "id": "e27bf19e",
   "metadata": {},
   "source": [
    "# Problem-05"
   ]
  },
  {
   "cell_type": "code",
   "execution_count": 4,
   "id": "91a463c0",
   "metadata": {},
   "outputs": [
    {
     "name": "stdout",
     "output_type": "stream",
     "text": [
      "First circle radius: 4\n",
      "First circle area: 50.26548245743669\n",
      "Second circle radius: 5\n",
      "Second circle area: 78.53981633974483\n",
      "Third circle radius: 9\n",
      "Third circle area: 254.46900494077323\n"
     ]
    }
   ],
   "source": [
    "class Circle:\n",
    "    def __init__(self,r):\n",
    "        if r > 0:\n",
    "            self.__radius=r\n",
    "        else:\n",
    "            print('Invalid Redius: ')\n",
    "            \n",
    "    def setRadius(self):\n",
    "        self.__radius=r\n",
    "    \n",
    "    def getRadius(self):\n",
    "        return self.__radius\n",
    "    \n",
    "    def area(self):\n",
    "        self.__area= 3.141592653589793238462643383279502884197*(self.__radius)**2\n",
    "        return self.__area\n",
    "    \n",
    "    def __add__(self,other):\n",
    "        var=self.__radius+other.__radius\n",
    "        return Circle(var)\n",
    "               \n",
    "c1 = Circle(4) \n",
    "print(\"First circle radius:\" , c1.getRadius())\n",
    "print(\"First circle area:\" ,c1.area())\n",
    "c2 = Circle(5)\n",
    "print(\"Second circle radius:\" ,c2.getRadius())\n",
    "print(\"Second circle area:\" ,c2.area())\n",
    "c3 = c1 + c2\n",
    "print(\"Third circle radius:\" ,c3.getRadius())\n",
    "print(\"Third circle area:\" ,c3.area())"
   ]
  },
  {
   "cell_type": "markdown",
   "id": "8b1a2db5",
   "metadata": {},
   "source": [
    "# Problem-06"
   ]
  },
  {
   "cell_type": "code",
   "execution_count": 23,
   "id": "dd8073df",
   "metadata": {},
   "outputs": [
    {
     "name": "stdout",
     "output_type": "stream",
     "text": [
      "First Triangle Base: 5\n",
      "First Triangle Height: 10\n",
      "First Triangle area: 25.0\n",
      "Second Triangle Base: 3\n",
      "Second Triangle Height: 5\n",
      "Second Triangle area: 7.5\n",
      "Third Triangle Base: 2\n",
      "Third Triangle Height: 5\n",
      "Third Triangle area: 5.0\n"
     ]
    }
   ],
   "source": [
    "class Triangle:\n",
    "    def __init__(self,h,b):\n",
    "        if h>0 and b>0:\n",
    "            self.__height=h\n",
    "            self.__base=b\n",
    "        else:\n",
    "            print('Enter the value again')\n",
    "            \n",
    "    def setBase(self):\n",
    "        self.__base=b\n",
    "    def setHeight(self):\n",
    "        self.__height=h\n",
    "    \n",
    "    def getBase(self):\n",
    "        return self.__base\n",
    "    def getHeight(self):\n",
    "        return self.__height\n",
    "    \n",
    "    def area(self):\n",
    "        return 0.5*self.__base*self.__height\n",
    "    \n",
    "    def __sub__(self,other):\n",
    "        var1= self.__base-other.__base\n",
    "        var2= self.__height-other.__height\n",
    "        return Triangle(var2,var1)\n",
    "\n",
    "\n",
    "t1 = Triangle(10, 5) \n",
    "print(\"First Triangle Base:\" , t1.getBase())\n",
    "print(\"First Triangle Height:\" , t1.getHeight())\n",
    "print(\"First Triangle area:\" ,t1.area())\n",
    "t2 = Triangle(5, 3)\n",
    "print(\"Second Triangle Base:\" , t2.getBase())\n",
    "print(\"Second Triangle Height:\" , t2.getHeight())\n",
    "print(\"Second Triangle area:\" ,t2.area())\n",
    "t3 = t1 - t2 \n",
    "print(\"Third Triangle Base:\" , t3.getBase())\n",
    "print(\"Third Triangle Height:\" , t3.getHeight()) \n",
    "print(\"Third Triangle area:\" ,t3.area())"
   ]
  },
  {
   "cell_type": "markdown",
   "id": "345de5ff",
   "metadata": {},
   "source": [
    "# Problem-07"
   ]
  },
  {
   "cell_type": "code",
   "execution_count": 36,
   "id": "87165832",
   "metadata": {
    "scrolled": true
   },
   "outputs": [
    {
     "name": "stdout",
     "output_type": "stream",
     "text": [
      "Doll: Tweety\n",
      "Price: 2500\n",
      "Thank you!\n",
      "=========================\n",
      "Doll: Daffy Duck\n",
      "Price: 1800\n",
      "Thank you!\n",
      "=========================\n",
      "Doll: Bugs Bunny\n",
      "Price: 3000\n",
      "Congratulations! You get the Tweety as a gift!\n",
      "=========================\n",
      "Doll: Porky Pig\n",
      "Price: 1500\n",
      "Thank you!\n",
      "=========================\n",
      "Doll: Daffy DuckBugs Bunny\n",
      "Price: 4800\n",
      "Congratulations! You get the Tweety as a gift!\n"
     ]
    }
   ],
   "source": [
    "class Dolls:\n",
    "    def __init__(self,name,price):\n",
    "        self.doll=name\n",
    "        self.price=price\n",
    "        \n",
    "    def detail(self):\n",
    "        return 'Doll: '+self.doll+'\\n'+'Price: '+str(self.price)\n",
    "    \n",
    "    def __gt__(self,other):\n",
    "        if self.price > other.price:\n",
    "            return True\n",
    "        else:\n",
    "            return False\n",
    "        \n",
    "    def __add__(self,other):\n",
    "        var1= self.doll+other.doll\n",
    "        var2= self.price+other.price\n",
    "        return Dolls(var1,var2)\n",
    "\n",
    "obj_1 = Dolls(\"Tweety\", 2500)\n",
    "print(obj_1.detail())\n",
    "if obj_1 > obj_1:\n",
    "    print(\"Congratulations! You get the Tweety as a gift!\")\n",
    "else:\n",
    "    print(\"Thank you!\")\n",
    "print(\"=========================\")\n",
    "obj_2 = Dolls(\"Daffy Duck\", 1800)\n",
    "print(obj_2.detail())\n",
    "if obj_2 > obj_1:\n",
    "    print(\"Congratulations! You get the Tweety as a gift!\")\n",
    "else:\n",
    "    print(\"Thank you!\")\n",
    "print(\"=========================\")\n",
    "obj_3 = Dolls(\"Bugs Bunny\", 3000)\n",
    "print(obj_3.detail())\n",
    "if obj_3 > obj_1:\n",
    "    print(\"Congratulations! You get the Tweety as a gift!\")\n",
    "else:\n",
    "    print(\"Thank you!\")\n",
    "print(\"=========================\")\n",
    "obj_4 = Dolls(\"Porky Pig\", 1500)\n",
    "print(obj_4.detail())\n",
    "if obj_4 > obj_1:\n",
    "    print(\"Congratulations! You get the Tweety as a gift!\")\n",
    "else:\n",
    "    print(\"Thank you!\")\n",
    "print(\"=========================\")\n",
    "obj_5 = obj_2 + obj_3\n",
    "print(obj_5.detail())\n",
    "if obj_5 > obj_1:\n",
    "    print(\"Congratulations! You get the Tweety as a gift!\")\n",
    "else:\n",
    "    print(\"Thank you!\")"
   ]
  },
  {
   "cell_type": "markdown",
   "id": "ee524ee7",
   "metadata": {},
   "source": [
    "# Problem-08"
   ]
  },
  {
   "cell_type": "code",
   "execution_count": 28,
   "id": "0d3592bd",
   "metadata": {
    "scrolled": true
   },
   "outputs": [
    {
     "name": "stdout",
     "output_type": "stream",
     "text": [
      "1\n",
      "2\n",
      "3\n",
      "4\n",
      "(-2,-2)\n",
      "(3,8)\n",
      "The calculated coordinates are NOT the same.\n"
     ]
    }
   ],
   "source": [
    "class Coordinates:\n",
    "    def __init__(self,x,y):\n",
    "        self.x=x\n",
    "        self.y=y\n",
    "        \n",
    "    def __sub__(self,other):\n",
    "        var1=self.x-other.x\n",
    "        var2=self.y-other.y\n",
    "        return Coordinates(var1,var2)\n",
    "        \n",
    "    def __mul__(self,other):\n",
    "        var1=self.x*other.x\n",
    "        var2=self.y*other.y\n",
    "        return Coordinates(var1,var2)\n",
    "        \n",
    "    def detail(self):\n",
    "        return '('+str(self.x)+','+str(self.y)+')'\n",
    "    \n",
    "    def __eq__(self,other):\n",
    "        if self.x == other.x and self.y == other.y:\n",
    "            return 'The calculated coordinates are the same.'\n",
    "        else:\n",
    "            return 'The calculated coordinates are NOT the same.'\n",
    "\n",
    "p1 = Coordinates(int(input()),int(input()))\n",
    "p2 = Coordinates(int(input()),int(input()))\n",
    "p4 = p1 - p2\n",
    "print(p4.detail())\n",
    "p5 = p1 * p2\n",
    "print(p5.detail())\n",
    "point_check = (p4 == p5)\n",
    "print(point_check)"
   ]
  },
  {
   "cell_type": "code",
   "execution_count": null,
   "id": "2883133b",
   "metadata": {},
   "outputs": [],
   "source": []
  }
 ],
 "metadata": {
  "kernelspec": {
   "display_name": "Python 3",
   "language": "python",
   "name": "python3"
  },
  "language_info": {
   "codemirror_mode": {
    "name": "ipython",
    "version": 3
   },
   "file_extension": ".py",
   "mimetype": "text/x-python",
   "name": "python",
   "nbconvert_exporter": "python",
   "pygments_lexer": "ipython3",
   "version": "3.8.8"
  }
 },
 "nbformat": 4,
 "nbformat_minor": 5
}
