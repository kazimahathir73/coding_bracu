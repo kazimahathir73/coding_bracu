{
 "cells": [
  {
   "cell_type": "markdown",
   "id": "55a16c47",
   "metadata": {},
   "source": [
    "# Problem-01"
   ]
  },
  {
   "cell_type": "code",
   "execution_count": 10,
   "id": "5e4f86ed",
   "metadata": {},
   "outputs": [
    {
     "name": "stdout",
     "output_type": "stream",
     "text": [
      "Enter the 1st number- 10\n",
      "Enter the 2nd number- 6\n",
      "0.6666666666666667\n"
     ]
    }
   ],
   "source": [
    "num1=float(input('Enter the 1st number- '))\n",
    "num2=float(input('Enter the 2nd number- '))\n",
    "\n",
    "def the_number(n1,n2):\n",
    "    try:\n",
    "        if n2 != 0:\n",
    "            int1=n1//n2\n",
    "            float1=n1/n2\n",
    "            answer=float1-int1\n",
    "            print(answer)\n",
    "        else:\n",
    "            raise Exception\n",
    "            \n",
    "    except Exception:\n",
    "        print(0)\n",
    "\n",
    "the_number(num1,num2)"
   ]
  },
  {
   "cell_type": "markdown",
   "id": "9be3866a",
   "metadata": {},
   "source": [
    "# Problem-02"
   ]
  },
  {
   "cell_type": "code",
   "execution_count": 11,
   "id": "43e0210b",
   "metadata": {},
   "outputs": [
    {
     "name": "stdout",
     "output_type": "stream",
     "text": [
      "Enter the weight in kg- 96\n",
      "Enter the Height in cm- 175\n",
      "Score is 31.346938775510203 .You are Obese\n"
     ]
    }
   ],
   "source": [
    "height=float(input('Enter the Height in cm- '))\n",
    "weight=float(input('Enter the weight in kg- '))\n",
    "\n",
    "def bmi(hei,wei):\n",
    "    hei1=hei/100\n",
    "    bmi=wei/(hei1**2)\n",
    "    \n",
    "    if bmi < 18.5 :\n",
    "        print('Score is',bmi,'.You are Underweight')\n",
    "    elif bmi > 18.5 and bmi <= 24.9:\n",
    "        print('Score is',bmi,'.You are Normal')\n",
    "    elif bmi >= 25 and bmi <= 30:\n",
    "        print('Score is',bmi,'.You are Overweight')\n",
    "    elif bmi > 30:\n",
    "        print('Score is',bmi,'.You are Obese')\n",
    "\n",
    "bmi(height,weight)"
   ]
  },
  {
   "cell_type": "markdown",
   "id": "e69d3166",
   "metadata": {},
   "source": [
    "# Problem-03"
   ]
  },
  {
   "cell_type": "code",
   "execution_count": 14,
   "id": "dcfaa45c",
   "metadata": {},
   "outputs": [
    {
     "name": "stdout",
     "output_type": "stream",
     "text": [
      "Enter the starting value- 3\n",
      "Enter the stopping value- 16\n",
      "Enter the Divisor- 3\n",
      "45\n"
     ]
    }
   ],
   "source": [
    "num1=int(input('Enter the starting value- '))\n",
    "num2=int(input('Enter the stopping value- '))\n",
    "num3=int(input('Enter the Divisor- '))\n",
    "\n",
    "def the_number(n1,n2,n3):\n",
    "    sum1=0\n",
    "    for i in range(n1,n2):\n",
    "        if i % n3 ==0:\n",
    "            sum1+=i\n",
    "    return sum1\n",
    "\n",
    "output=the_number(num1,num2,num3)\n",
    "print(output)"
   ]
  },
  {
   "cell_type": "markdown",
   "id": "ed37cb74",
   "metadata": {},
   "source": [
    "# Problem-04"
   ]
  },
  {
   "cell_type": "code",
   "execution_count": 9,
   "id": "495fd550",
   "metadata": {},
   "outputs": [
    {
     "name": "stdout",
     "output_type": "stream",
     "text": [
      "243.6\n"
     ]
    }
   ],
   "source": [
    "def the_price(bg,pl='Mohakhali'):\n",
    "    dict1={'BBQ Chicken Cheese Burger': 250,'Beef Burger':170,'Naga Drums': 200}\n",
    "    bill=0\n",
    "    \n",
    "    for i,k in dict1.items():\n",
    "        if(bg == i):\n",
    "            bill+= k\n",
    "            \n",
    "    bill+=bill*(8/100)\n",
    "    if pl== \"Mohakhali\":\n",
    "        bill+=40\n",
    "    else:\n",
    "        bill+=60\n",
    "    print(bill)\n",
    "\n",
    "the_price('Beef Burger','Dhanmondi')"
   ]
  },
  {
   "cell_type": "markdown",
   "id": "5a83b276",
   "metadata": {},
   "source": [
    "# Problem-05"
   ]
  },
  {
   "cell_type": "code",
   "execution_count": 15,
   "id": "f9c2c4be",
   "metadata": {},
   "outputs": [
    {
     "name": "stdout",
     "output_type": "stream",
     "text": [
      "Changed: alice@sheba.xyz\n"
     ]
    }
   ],
   "source": [
    "def replace_domain(email,n_domain,o_domain='sheba.xyz'):\n",
    "    list1=email.split('@')\n",
    "    \n",
    "    if n_domain == o_domain:\n",
    "        print('Unchanged:',email)\n",
    "    else:\n",
    "        final_email=list1[0]+'@'+n_domain\n",
    "        print('Changed:',final_email)\n",
    "    \n",
    "replace_domain('alice@kaaj.com','sheba.xyz','kaaj.com')"
   ]
  },
  {
   "cell_type": "markdown",
   "id": "57713675",
   "metadata": {},
   "source": [
    "# Problem-06"
   ]
  },
  {
   "cell_type": "code",
   "execution_count": 25,
   "id": "bcc56ded",
   "metadata": {},
   "outputs": [
    {
     "name": "stdout",
     "output_type": "stream",
     "text": [
      "Enter the Full Name- xyz\n",
      "No vowels in the name\n"
     ]
    }
   ],
   "source": [
    "full_name=input('Enter the Full Name- ')\n",
    "\n",
    "def the_name(name):\n",
    "    count=0\n",
    "    str1=''\n",
    "    \n",
    "    for i in name:\n",
    "        if(i=='a' or i=='e' or i=='i' or i=='o' or i=='u' or i=='A' or i=='E' or i=='I' or i=='O' or i=='U'):\n",
    "            count+=1\n",
    "            str1+= i+','\n",
    "            \n",
    "    if count != 0:\n",
    "        print('Vowels:',str1,'Total number of vowels:',count)\n",
    "    else:\n",
    "        print('No vowels in the name')\n",
    "\n",
    "the_name(full_name)"
   ]
  },
  {
   "cell_type": "markdown",
   "id": "d5ae115f",
   "metadata": {},
   "source": [
    "# Problem-07"
   ]
  },
  {
   "cell_type": "code",
   "execution_count": 4,
   "id": "d410a120",
   "metadata": {},
   "outputs": [
    {
     "name": "stdout",
     "output_type": "stream",
     "text": [
      "Enter the sentence- nurses run\n",
      "Palindrome\n"
     ]
    }
   ],
   "source": [
    "sentence=input('Enter the sentence- ')\n",
    "\n",
    "def the_sentence(sent):\n",
    "    str1=''\n",
    "    for i in sent:\n",
    "        if(i != ' '):\n",
    "            str1+=i\n",
    "    str2=''\n",
    "    \n",
    "    for i in range(len(str1)-1,-1,-1):\n",
    "        str2+=str1[i]\n",
    "        \n",
    "    if str1 == str2:\n",
    "        print('Palindrome')\n",
    "    else:\n",
    "        print('Not a palindrome')\n",
    "\n",
    "the_sentence(sentence)"
   ]
  },
  {
   "cell_type": "markdown",
   "id": "0b6ae93b",
   "metadata": {},
   "source": [
    "# Problem-08"
   ]
  },
  {
   "cell_type": "code",
   "execution_count": 10,
   "id": "e9ab2ed6",
   "metadata": {},
   "outputs": [
    {
     "name": "stdout",
     "output_type": "stream",
     "text": [
      "Enter the days:4320\n",
      "11 years 10 months and 5 days\n"
     ]
    }
   ],
   "source": [
    "days=int(input('Enter the days:'))\n",
    "\n",
    "def the_years(time):\n",
    "    \n",
    "    count_year= time// 365            \n",
    "    remaining_days=time% 365           \n",
    "    count_month= remaining_days// 30    \n",
    "    count_days=remaining_days% 30    \n",
    "    \n",
    "    print(count_year,'years',count_month,'months and',count_days,'days')\n",
    "\n",
    "the_years(days)"
   ]
  },
  {
   "cell_type": "markdown",
   "id": "eed47264",
   "metadata": {},
   "source": [
    "# Problem-09"
   ]
  },
  {
   "cell_type": "code",
   "execution_count": 21,
   "id": "a447b429",
   "metadata": {},
   "outputs": [
    {
     "name": "stdout",
     "output_type": "stream",
     "text": [
      "Enter the paragraph- my favourite animal is a dog. a dog has sharp teeth so that it can eat flesh very easily. do you know my pet dog’s name? i love my pet very much.\n",
      "My favourite animal is a dog. A dog has sharp teeth so that it can eat flesh very easily. Do you know my pet dog’s name? I love my pet very much.\n"
     ]
    }
   ],
   "source": [
    "paragraph=input('Enter the paragraph- ')\n",
    "\n",
    "def the_paragraph(para):\n",
    "    str1=''\n",
    "    n=0\n",
    "    \n",
    "    while n < len(para)-1:\n",
    "        if n==0:\n",
    "            str1+=para[n].upper()\n",
    "            n+=1\n",
    "        if para[n]=='.' or para[n]== '?' or para[n]== '!':\n",
    "            str1+=para[n]+' '+para[n+2].upper()\n",
    "            n+=3\n",
    "        else:\n",
    "            str1+=para[n]\n",
    "            n+=1\n",
    "            \n",
    "    str1+=para[len(str1)]\n",
    "    print(str1)\n",
    "    \n",
    "the_paragraph(paragraph)"
   ]
  },
  {
   "cell_type": "code",
   "execution_count": null,
   "id": "4f782271",
   "metadata": {},
   "outputs": [],
   "source": []
  }
 ],
 "metadata": {
  "kernelspec": {
   "display_name": "Python 3",
   "language": "python",
   "name": "python3"
  },
  "language_info": {
   "codemirror_mode": {
    "name": "ipython",
    "version": 3
   },
   "file_extension": ".py",
   "mimetype": "text/x-python",
   "name": "python",
   "nbconvert_exporter": "python",
   "pygments_lexer": "ipython3",
   "version": "3.8.8"
  }
 },
 "nbformat": 4,
 "nbformat_minor": 5
}
