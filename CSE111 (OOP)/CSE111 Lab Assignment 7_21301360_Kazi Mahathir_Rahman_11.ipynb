{
 "cells": [
  {
   "cell_type": "markdown",
   "id": "ef34be81",
   "metadata": {},
   "source": [
    "# Problem-01"
   ]
  },
  {
   "cell_type": "code",
   "execution_count": 1,
   "id": "db8b431e",
   "metadata": {},
   "outputs": [
    {
     "name": "stdout",
     "output_type": "stream",
     "text": [
      "Name: default Department: BBA\n",
      "Name: Humpty Dumpty Department: BBA\n",
      "Name: Little Bo Peep Department: BBA\n"
     ]
    }
   ],
   "source": [
    "class Student:\n",
    "    def __init__(self, name='Just a student', dept='nothing'):\n",
    "        self.__name = name\n",
    "        self.__department = dept\n",
    "    def set_department(self, dept):\n",
    "        self.__department = dept\n",
    "    def get_name(self):\n",
    "        return self.__name\n",
    "    def set_name(self,name):\n",
    "        self.__name = name\n",
    "    def __str__(self):\n",
    "        return 'Name: '+self.__name+' Department: '+self.__department\n",
    "\n",
    "class BBA_Student(Student):\n",
    "    def __init__(self,name='default',dept='BBA'):\n",
    "        self.set_department(dept)\n",
    "        self.set_name(name)\n",
    "        \n",
    "print(BBA_Student()) \n",
    "print(BBA_Student('Humpty Dumpty')) \n",
    "print(BBA_Student('Little Bo Peep'))"
   ]
  },
  {
   "cell_type": "markdown",
   "id": "a10af19c",
   "metadata": {},
   "source": [
    "# Problem-02"
   ]
  },
  {
   "cell_type": "code",
   "execution_count": 7,
   "id": "fdbcbac0",
   "metadata": {
    "scrolled": true
   },
   "outputs": [
    {
     "name": "stdout",
     "output_type": "stream",
     "text": [
      "Part 1\n",
      "------\n",
      "(0 , 0)\n",
      "(0 , 1)\n",
      "(-1 , 1)\n",
      "(-1 , 0)\n",
      "(0 , 0)\n",
      "------\n",
      "Part 2\n",
      "------\n",
      "(0 , 0)\n",
      "(-1 , -1)\n",
      "False\n",
      "True\n"
     ]
    }
   ],
   "source": [
    "class Vehicle:\n",
    "    def __init__(self):\n",
    "        self.x = 0\n",
    "        self.y = 0\n",
    "    def moveUp(self):\n",
    "        self.y+=1\n",
    "    def moveDown(self):\n",
    "        self.y-=1\n",
    "    def moveRight(self):\n",
    "        self.x+=1\n",
    "    def moveLeft(self):\n",
    "        self.x-=1\n",
    "    def __str__(self):\n",
    "        return '('+str(self.x)+' , '+str(self.y)+')'\n",
    "\n",
    "class Vehicle2010(Vehicle):\n",
    "    def moveLowerLeft(self):\n",
    "        self.moveLeft()\n",
    "        self.moveDown()\n",
    "    def moveUpperLeft(self):\n",
    "        self.moveUp()\n",
    "        self.moveLeft()\n",
    "    def moveLowerRight(self):\n",
    "        self.moveDown()\n",
    "        self.moveRight()\n",
    "    def moveUpperRight(Self):\n",
    "        self.moveUp()\n",
    "        self.moveRight()\n",
    "    def equals(self,other):\n",
    "        if self.x == other.x and self.y== other.y:\n",
    "            return True\n",
    "        else:\n",
    "            return False\n",
    "    \n",
    "print('Part 1')\n",
    "print('------')\n",
    "car = Vehicle()\n",
    "print(car)\n",
    "car.moveUp()\n",
    "print(car)\n",
    "car.moveLeft()\n",
    "print(car)\n",
    "car.moveDown() \n",
    "print(car)\n",
    "car.moveRight() \n",
    "print(car)\n",
    "print('------')\n",
    "print('Part 2')\n",
    "print('------')\n",
    "car1 = Vehicle2010()\n",
    "print(car1)\n",
    "car1.moveLowerLeft() \n",
    "print(car1)\n",
    "car2 = Vehicle2010() \n",
    "car2.moveLeft()\n",
    "print(car1.equals(car2))\n",
    "car2.moveDown()\n",
    "print(car1.equals(car2))"
   ]
  },
  {
   "cell_type": "markdown",
   "id": "7615302e",
   "metadata": {},
   "source": [
    "# Problem-03"
   ]
  },
  {
   "cell_type": "code",
   "execution_count": 13,
   "id": "1e1dfe7c",
   "metadata": {
    "scrolled": true
   },
   "outputs": [
    {
     "name": "stdout",
     "output_type": "stream",
     "text": [
      "Cricket Tournament Name: Default\n",
      "Number of Teams: 0\n",
      "Type: No type\n",
      "-----------------------\n",
      "Cricket Tournament Name: IPL\n",
      "Number of Teams: 10\n",
      "Type: t20\n",
      "-----------------------\n",
      "Tennis Tournament Name: Roland Garros\n",
      "Number of Teams: 128\n"
     ]
    }
   ],
   "source": [
    "class Tournament:\n",
    "    def __init__(self,name='Default'):\n",
    "        self.__name = name\n",
    "    def set_name(self,name):\n",
    "        self.__name = name\n",
    "    def get_name(self):\n",
    "        return self.__name\n",
    "    \n",
    "class Cricket_Tournament(Tournament):\n",
    "    def __init__(self,name='Default',num=0,type1='No type'):\n",
    "        self.set_name(name)\n",
    "        self.num=num\n",
    "        self.type= type1\n",
    "    def detail(self):\n",
    "        return 'Cricket Tournament Name: '+self.get_name()+'\\n'+'Number of Teams: '+str(self.num)+'\\n'+'Type: '+self.type\n",
    "    \n",
    "class Tennis_Tournament(Tournament):\n",
    "    def __init__(self,name='Default',num=0):\n",
    "        self.set_name(name)\n",
    "        self.num=num\n",
    "    def detail(self):\n",
    "        return 'Tennis Tournament Name: '+self.get_name()+'\\n'+'Number of Teams: '+str(self.num)\n",
    "\n",
    "ct1 = Cricket_Tournament()\n",
    "print(ct1.detail())\n",
    "print(\"-----------------------\")\n",
    "ct2 = Cricket_Tournament(\"IPL\",10,\"t20\")\n",
    "print(ct2.detail())\n",
    "print(\"-----------------------\")\n",
    "tt = Tennis_Tournament(\"Roland Garros\",128)\n",
    "print(tt.detail())"
   ]
  },
  {
   "cell_type": "markdown",
   "id": "d56e14ad",
   "metadata": {},
   "source": [
    "# Problem-04"
   ]
  },
  {
   "cell_type": "code",
   "execution_count": 14,
   "id": "36e3e26f",
   "metadata": {},
   "outputs": [
    {
     "name": "stdout",
     "output_type": "stream",
     "text": [
      "ID: 1 Title:The AlchemistPrice: 500\n",
      "ISBN: 97806 Publisher: HarperCollins\n",
      "-----------------------\n",
      "ID: 2 Title:ShottoPrice: 300\n",
      "Band: Warfaze Duration: 50minutes\n",
      "Genre:Hard Rock\n"
     ]
    }
   ],
   "source": [
    "class Product:\n",
    "    def __init__(self,id, title, price):\n",
    "        self.__id = id\n",
    "        self. __title = title\n",
    "        self. __price = price\n",
    "    def get_id_title_price(self):\n",
    "        return \"ID: \"+str(self.__id)+\" Title:\"+self.__title+ \"Price: \"+str(self.__price)\n",
    "    \n",
    "class Book(Product):\n",
    "    def __init__(self,id,title,price,isbn,publish):\n",
    "        super().__init__(id,title,price)\n",
    "        self.isbn=isbn\n",
    "        self.publish=publish\n",
    "    def printDetail(self):\n",
    "        return self.get_id_title_price()+'\\n'+'ISBN: '+self.isbn+' Publisher: '+self.publish\n",
    "    \n",
    "class CD(Product):\n",
    "    def __init__(self,id,title,price,band,dur,genre):\n",
    "        super().__init__(id,title,price)\n",
    "        self.band=band\n",
    "        self.duration=dur\n",
    "        self.genre=genre\n",
    "    def printDetail(self):\n",
    "        return self.get_id_title_price()+'\\n'+'Band: '+self.band+' Duration: '+str(self.duration)+'minutes'+'\\n'+'Genre:'+self.genre \n",
    "    \n",
    "book = Book(1,\"The Alchemist\",500,\"97806\",\"HarperCollins\")\n",
    "print(book.printDetail())\n",
    "print(\"-----------------------\")\n",
    "cd = CD(2,\"Shotto\",300,\"Warfaze\",50,\"Hard Rock\")\n",
    "print(cd.printDetail())"
   ]
  },
  {
   "cell_type": "markdown",
   "id": "e27bf19e",
   "metadata": {},
   "source": [
    "# Problem-05"
   ]
  },
  {
   "cell_type": "code",
   "execution_count": 36,
   "id": "91a463c0",
   "metadata": {},
   "outputs": [
    {
     "name": "stdout",
     "output_type": "stream",
     "text": [
      "Animal does not make sound\n",
      "meow\n",
      "bark\n"
     ]
    }
   ],
   "source": [
    "class Animal:\n",
    "    def __init__(self,sound):\n",
    "        self.__sound = sound\n",
    "    def makeSound(self):\n",
    "        return self.__sound\n",
    "class Printer:\n",
    "    def printSound(self, a):\n",
    "        print(a.makeSound())\n",
    "\n",
    "class Dog(Animal):\n",
    "    def __init__(self,sound):\n",
    "        super().__init__(sound)\n",
    "class Cat(Animal):\n",
    "    def __init__(self,sound):\n",
    "        super().__init__(sound)\n",
    "    \n",
    "d1 = Dog('bark')\n",
    "c1 = Cat('meow')\n",
    "a1 = Animal('Animal does not make sound') \n",
    "pr = Printer()\n",
    "pr.printSound(a1)\n",
    "pr.printSound(c1)\n",
    "pr.printSound(d1)"
   ]
  },
  {
   "cell_type": "markdown",
   "id": "8b1a2db5",
   "metadata": {},
   "source": [
    "# Problem-06"
   ]
  },
  {
   "cell_type": "code",
   "execution_count": 5,
   "id": "dd8073df",
   "metadata": {
    "scrolled": true
   },
   "outputs": [
    {
     "name": "stdout",
     "output_type": "stream",
     "text": [
      "Shape name: Default\n",
      "Height: 0, Base: 0\n",
      "Area: 0.0\n",
      "--------------------------\n",
      "Shape name: Triangle\n",
      "Height: 10, Base: 5\n",
      "Area: 25.0\n",
      "---------------------------\n",
      "Shape name: Trapezoid\n",
      "Height: 10, Base: 6, Side_A: 4\n",
      "Area: 50.0\n"
     ]
    }
   ],
   "source": [
    "class Shape:\n",
    "    def __init__(self, name='Default', height=0, base=0):\n",
    "        self.area = 0\n",
    "        self.name = name\n",
    "        self.height = height\n",
    "        self.base = base\n",
    "    def get_height_base(self):\n",
    "        return \"Height: \"+str(self.height)+\",Base: \"+str(self.base)\n",
    "\n",
    "class triangle(Shape):\n",
    "    def __init__(self,name='Default',h=0,b=0):\n",
    "        super().__init__(name,h,b)\n",
    "    def calcArea(self):\n",
    "        self.area= self.height*self.base*0.5\n",
    "    def printDetail(self):\n",
    "        return 'Shape name: '+self.name+'\\n'+'Height: '+str(self.height)+', Base: '+str(self.base)+'\\n'+'Area: '+str(self.area)\n",
    "            \n",
    "class trapezoid(Shape):\n",
    "    def __init__(self,name,h,b,a):\n",
    "        super().__init__(name,h,b)\n",
    "        self.a=a\n",
    "    def calcArea(self):\n",
    "        self.area= (self.a+self.base)/2*self.height\n",
    "    def printDetail(self):\n",
    "        return 'Shape name: '+self.name+'\\n'+'Height: '+str(self.height)+', Base: '+str(self.base)+', Side_A: '+str(self.a)+'\\n'+'Area: '+str(self.area)\n",
    "        \n",
    "    \n",
    "tri_default = triangle()\n",
    "tri_default.calcArea()\n",
    "print(tri_default.printDetail())\n",
    "print('--------------------------')\n",
    "tri = triangle('Triangle', 10, 5)\n",
    "tri.calcArea()\n",
    "print(tri.printDetail())\n",
    "print('---------------------------')\n",
    "trap = trapezoid('Trapezoid', 10, 6, 4)\n",
    "trap.calcArea()\n",
    "print(trap.printDetail()) "
   ]
  },
  {
   "cell_type": "markdown",
   "id": "345de5ff",
   "metadata": {},
   "source": [
    "# Problem-07"
   ]
  },
  {
   "cell_type": "code",
   "execution_count": 12,
   "id": "87165832",
   "metadata": {
    "scrolled": true
   },
   "outputs": [
    {
     "name": "stdout",
     "output_type": "stream",
     "text": [
      "Name: Ronaldo, Team Name: Juventus\n",
      "Team Role: Striker\n",
      "Total Goal: 25 , Total Played: 32\n",
      "Goal Ratio: 0.78125\n",
      "Match Earning: 25320k\n",
      "------------------------------------------\n",
      "Name: Zidane, Team Name: Real Madrid\n",
      "Team Role: Manager\n",
      "Total Win: 25\n",
      "Match Earning: 25000k\n"
     ]
    }
   ],
   "source": [
    "class Football: \n",
    "    def __init__(self, team_name, name, role):\n",
    "        self.__team = team_name\n",
    "        self.__name = name\n",
    "        self.role = role\n",
    "        self.earning_per_match = 0 \n",
    "    def get_name_team(self):\n",
    "        return 'Name: '+self.__name+', Team Name: ' +self.__team\n",
    "    \n",
    "class Player(Football):\n",
    "    def __init__(self,t_name,name,role,num1,num2):\n",
    "        super().__init__(t_name,name,role)\n",
    "        self.goal=num1\n",
    "        self.played=num2\n",
    "        print(self.get_name_team())\n",
    "        print('Team Role:',role)\n",
    "        print('Total Goal:',self.goal,', Total Played:',self.played)\n",
    "        \n",
    "    def calculate_ratio(self):\n",
    "        print('Goal Ratio:',self.goal/self.played)\n",
    "        \n",
    "    def print_details(self):\n",
    "        print('Match Earning:',str((self.goal * 1000) + (self.played * 10))+'K')\n",
    "        \n",
    "class Manager(Football):\n",
    "    def __init__(self,t_name,name,role,num):\n",
    "        super().__init__(t_name,name,role)\n",
    "        self.win=num\n",
    "        \n",
    "    def print_details(self):\n",
    "        print(self.get_name_team())\n",
    "        print('Team Role:',self.role)\n",
    "        print('Total Win:',self.win)\n",
    "        print('Match Earning:',str(self.win * 1000)+'K')\n",
    "    \n",
    "\n",
    "player_one = Player('Juventus', 'Ronaldo', 'Striker', 25, 32)\n",
    "player_one.calculate_ratio()\n",
    "player_one.print_details()\n",
    "print('------------------------------------------')\n",
    "manager_one = Manager('Real Madrid', 'Zidane', 'Manager',25)\n",
    "manager_one.print_details()"
   ]
  }
 ],
 "metadata": {
  "kernelspec": {
   "display_name": "Python 3",
   "language": "python",
   "name": "python3"
  },
  "language_info": {
   "codemirror_mode": {
    "name": "ipython",
    "version": 3
   },
   "file_extension": ".py",
   "mimetype": "text/x-python",
   "name": "python",
   "nbconvert_exporter": "python",
   "pygments_lexer": "ipython3",
   "version": "3.8.8"
  }
 },
 "nbformat": 4,
 "nbformat_minor": 5
}
