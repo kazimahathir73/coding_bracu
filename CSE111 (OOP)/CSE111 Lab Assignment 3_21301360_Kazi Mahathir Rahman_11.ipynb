{
 "cells": [
  {
   "cell_type": "markdown",
   "id": "ef34be81",
   "metadata": {},
   "source": [
    "# Problem-01"
   ]
  },
  {
   "cell_type": "code",
   "execution_count": 8,
   "id": "c1221bd2",
   "metadata": {
    "scrolled": true
   },
   "outputs": [
    {
     "name": "stdout",
     "output_type": "stream",
     "text": [
      "Integer\n",
      "1234\n",
      "=====================\n",
      "String\n",
      "Hello\n",
      "=====================\n",
      "Float\n",
      "4.0\n"
     ]
    }
   ],
   "source": [
    "class DataType:\n",
    "    def __init__(self,name,value):\n",
    "        self.name=name\n",
    "        self.value=value\n",
    "\n",
    "data_type1 = DataType('Integer', 1234)\n",
    "print(data_type1.name)\n",
    "print(data_type1.value) \n",
    "print('=====================')\n",
    "data_type2 = DataType('String', 'Hello')\n",
    "print(data_type2.name)\n",
    "print(data_type2.value) \n",
    "print('=====================')\n",
    "data_type3 = DataType('Float', 4.0)\n",
    "print(data_type3.name)\n",
    "print(data_type3.value)"
   ]
  },
  {
   "cell_type": "markdown",
   "id": "a10af19c",
   "metadata": {},
   "source": [
    "# Problem-02"
   ]
  },
  {
   "cell_type": "code",
   "execution_count": 11,
   "id": "fdbcbac0",
   "metadata": {},
   "outputs": [
    {
     "name": "stdout",
     "output_type": "stream",
     "text": [
      "Name of this flower: Rose\n",
      "Color of this flower: Red\n",
      "Number of petal: 6\n",
      "=====================\n",
      "Name of this flower: Orchid\n",
      "Color of this flower: Purple\n",
      "Number of petal: 4\n",
      "<__main__.Flower object at 0x00000196A7B4A7C0>\n",
      "<__main__.Flower object at 0x00000196A7B4A8B0>\n",
      "They are different\n"
     ]
    }
   ],
   "source": [
    "class Flower:\n",
    "    def __init__(self):  \n",
    "        self.name=''\n",
    "        self.color=''\n",
    "        self.num_of_petals=''\n",
    "        \n",
    "flower1 = Flower()\n",
    "flower1.name=\"Rose\" \n",
    "flower1.color=\"Red\" \n",
    "flower1.num_of_petal=6 \n",
    "print(\"Name of this flower:\", flower1.name) \n",
    "print(\"Color of this flower:\",flower1.color) \n",
    "print(\"Number of petal:\",flower1.num_of_petal)\n",
    "print('=====================') \n",
    "flower2 = Flower()\n",
    "flower2.name=\"Orchid\"\n",
    "flower2.color=\"Purple\" \n",
    "flower2.num_of_petal=4 \n",
    "print(\"Name of this flower:\",flower2.name) \n",
    "print(\"Color of this flower:\",flower2.color)\n",
    "print (\"Number of petal:\",flower2. num_of_petal)\n",
    "\n",
    "var1=flower1\n",
    "var2=flower2\n",
    "print(var1)\n",
    "print(var2)\n",
    "\n",
    "if var1==var2:\n",
    "    print('They are same')\n",
    "else:\n",
    "    print('They are different')"
   ]
  },
  {
   "cell_type": "markdown",
   "id": "d7dc6b2b",
   "metadata": {},
   "source": [
    "# Problem-03"
   ]
  },
  {
   "cell_type": "code",
   "execution_count": 17,
   "id": "1e1dfe7c",
   "metadata": {},
   "outputs": [
    {
     "name": "stdout",
     "output_type": "stream",
     "text": [
      "Part-01\n",
      "Name of the President Aladeen\n",
      "Designation President Prime Minister Admiral General\n",
      "Number of wifes- 100\n",
      "Is he/she a dictator: True\n",
      "Part-02\n",
      "Name of the President Donald Trump\n",
      "Designation President\n",
      "Number of wifes- 1\n",
      "Is he/she a dictator: False\n"
     ]
    }
   ],
   "source": [
    "class Wadiya():\n",
    "    def __init__(self):\n",
    "        self.name = 'Aladeen' \n",
    "        self.designation = 'President Prime Minister Admiral General'\n",
    "        self.num_of_wife = 100 \n",
    "        self.dictator = True\n",
    "        \n",
    "print('Part-01')\n",
    "wadiya = Wadiya()\n",
    "print('Name of the President',wadiya.name)\n",
    "print('Designation',wadiya.designation)\n",
    "print('Number of wifes-',wadiya.num_of_wife)\n",
    "print('Is he/she a dictator:',wadiya.dictator)\n",
    "\n",
    "print('Part-02')\n",
    "usa = Wadiya()\n",
    "usa.name ='Donald Trump'\n",
    "usa.designation= 'President'\n",
    "usa.num_of_wife= 1\n",
    "usa.dictator= False\n",
    "print('Name of the President',usa.name)\n",
    "print('Designation',usa.designation)\n",
    "print('Number of wifes-',usa.num_of_wife)\n",
    "print('Is he/she a dictator:',usa.dictator)"
   ]
  },
  {
   "cell_type": "markdown",
   "id": "d56e14ad",
   "metadata": {},
   "source": [
    "# Problem-04"
   ]
  },
  {
   "cell_type": "code",
   "execution_count": 21,
   "id": "36e3e26f",
   "metadata": {},
   "outputs": [
    {
     "name": "stdout",
     "output_type": "stream",
     "text": [
      "Heath Ledger\n",
      "Mind Game\n",
      "False\n",
      "=====================\n",
      "Joaquin Phoenix\n",
      "Laughing out Loud\n",
      "True\n",
      "=====================\n",
      "different\n",
      "same\n",
      "Task-02: In j1 and j2 object, the name,power and psycho peremeter was not same. Thats why, the condition gives different \n",
      "Task-03: In the 23 line, the name of the j2 was updated as \"Heath ledger\" which is the same name as j1. As a result, in the condition j1 and j2 name print same\n"
     ]
    }
   ],
   "source": [
    "class Joker:\n",
    "    def __init__(self,name,power,psycho):\n",
    "        self.name=name\n",
    "        self.power=power\n",
    "        self.is_he_psycho=psycho\n",
    "\n",
    "j1 = Joker('Heath Ledger', 'Mind Game', False) \n",
    "print(j1.name)\n",
    "print(j1.power)\n",
    "print(j1.is_he_psycho)\n",
    "print('=====================')\n",
    "j2 = Joker('Joaquin Phoenix', 'Laughing out Loud', True)\n",
    "print(j2.name)\n",
    "print(j2.power)\n",
    "print(j2.is_he_psycho)\n",
    "print('=====================')\n",
    "\n",
    "if j1 == j2:\n",
    "    print('same')\n",
    "else:\n",
    "    print('different')\n",
    "    \n",
    "j2.name = 'Heath Ledger'\n",
    "\n",
    "if j1.name == j2.name:\n",
    "    print('same')\n",
    "else:\n",
    "    print('different')\n",
    "    \n",
    "print('Task-02: In j1 and j2 object, the name,power and psycho peremeter was not same. Thats why, the condition gives different ')\n",
    "print('Task-03: In the 23 line, the name of the j2 was updated as \"Heath ledger\" which is the same name as j1. As a result, in the condition j1 and j2 name print same')\n"
   ]
  },
  {
   "cell_type": "markdown",
   "id": "e27bf19e",
   "metadata": {},
   "source": [
    "# Problem-05"
   ]
  },
  {
   "cell_type": "code",
   "execution_count": 25,
   "id": "91a463c0",
   "metadata": {},
   "outputs": [
    {
     "name": "stdout",
     "output_type": "stream",
     "text": [
      "=======Team 1=======\n",
      "Pokemon 1: pikachu 90\n",
      "Pokemon 2: charmander 60\n",
      "Combined Power: 1500\n",
      "=======Team 2=======\n",
      "Pokemon 1: bulbasaur 80\n",
      "Pokemon 2: squirtle 70\n",
      "Combined Power: 1350\n"
     ]
    }
   ],
   "source": [
    "class Pokemon:\n",
    "    def __init__(self,name1,name2,power1,power2,damage):\n",
    "        self.pokemon1_name= name1\n",
    "        self.pokemon2_name= name2\n",
    "        self.pokemon1_power= power1\n",
    "        self.pokemon2_power= power2\n",
    "        self.damage_rate= damage\n",
    "        \n",
    "team_pika = Pokemon('pikachu', 'charmander', 90, 60, 10)\n",
    "print('=======Team 1=======')\n",
    "print('Pokemon 1:',team_pika.pokemon1_name, team_pika.pokemon1_power)\n",
    "print('Pokemon 2:',team_pika.pokemon2_name, team_pika.pokemon2_power)\n",
    "pika_combined_power = (team_pika.pokemon1_power + team_pika.pokemon2_power)*team_pika.damage_rate \n",
    "print('Combined Power:', pika_combined_power)\n",
    "\n",
    "team_bulb = Pokemon('bulbasaur', 'squirtle', 80, 70, 9)\n",
    "print('=======Team 2=======')\n",
    "print('Pokemon 1:',team_bulb.pokemon1_name, team_bulb.pokemon1_power)\n",
    "print('Pokemon 2:',team_bulb.pokemon2_name, team_bulb.pokemon2_power)\n",
    "pika_combined_power1 = (team_bulb.pokemon1_power + team_bulb.pokemon2_power)*team_bulb.damage_rate \n",
    "print('Combined Power:', pika_combined_power1)"
   ]
  },
  {
   "cell_type": "markdown",
   "id": "8b1a2db5",
   "metadata": {},
   "source": [
    "# Problem-06"
   ]
  },
  {
   "cell_type": "code",
   "execution_count": 26,
   "id": "dd8073df",
   "metadata": {},
   "outputs": [
    {
     "name": "stdout",
     "output_type": "stream",
     "text": [
      "Name of the Player: Ronaldo\n",
      "Jersey Number of player: 9\n",
      "Position of player: Striker\n",
      "===========================\n",
      "Name of the player: Neuer\n",
      "Jersey Number of player: 1\n",
      "Position of player: Goal Keeper\n"
     ]
    }
   ],
   "source": [
    "class Player:\n",
    "    def __init__(self):\n",
    "        self.name=''\n",
    "        self.jersey_number=''\n",
    "        self.position=''\n",
    "\n",
    "\n",
    "player1 = Player()\n",
    "player1.name = \"Ronaldo\"\n",
    "player1.jersy_number = 9\n",
    "player1.position = \"Striker\"\n",
    "print(\"Name of the Player:\", player1.name)\n",
    "print(\"Jersey Number of player:\", player1.jersy_number)\n",
    "print(\"Position of player:\", player1.position)\n",
    "print('===========================')\n",
    "player2 = Player()\n",
    "player2.name = \"Neuer\"\n",
    "player2.jersy_number = 1\n",
    "player2.position = \"Goal Keeper\"\n",
    "print(\"Name of the player:\", player2.name)\n",
    "print(\"Jersey Number of player:\", player2.jersy_number)\n",
    "print(\"Position of player:\", player2.position)"
   ]
  },
  {
   "cell_type": "markdown",
   "id": "345de5ff",
   "metadata": {},
   "source": [
    "# Problem-07"
   ]
  },
  {
   "cell_type": "code",
   "execution_count": 29,
   "id": "87165832",
   "metadata": {
    "scrolled": false
   },
   "outputs": [
    {
     "name": "stdout",
     "output_type": "stream",
     "text": [
      "Name: Bangladesh\n",
      "Continent: Asia\n",
      "Capital: Dhaka\n",
      "Fifa Ranking: 187\n",
      "===================\n",
      "Name: Belgium\n",
      "Continent: Europe\n",
      "Capital: Brussels\n",
      "Fifa Ranking: 1\n"
     ]
    }
   ],
   "source": [
    "class Country:\n",
    "    def __init__(self):\n",
    "        self.name='Bangladesh'\n",
    "        self.continent='Asia'\n",
    "        self.capital='Dhaka'\n",
    "        self.fifa_ranking=187\n",
    "\n",
    "country = Country()\n",
    "print('Name:',country.name)\n",
    "print('Continent:',country.continent)\n",
    "print('Capital:',country.capital)\n",
    "print('Fifa Ranking:',country.fifa_ranking)\n",
    "print('===================')\n",
    "country.name = 'Belgium'\n",
    "country.continent = 'Europe'\n",
    "country.capital = 'Brussels'\n",
    "country.fifa_ranking = 1\n",
    "print('Name:',country.name)\n",
    "print('Continent:',country.continent)\n",
    "print('Capital:',country.capital)\n",
    "print('Fifa Ranking:',country.fifa_ranking)"
   ]
  },
  {
   "cell_type": "markdown",
   "id": "ee524ee7",
   "metadata": {},
   "source": [
    "# Problem-08"
   ]
  },
  {
   "cell_type": "code",
   "execution_count": 34,
   "id": "58f6feb4",
   "metadata": {
    "scrolled": true
   },
   "outputs": [
    {
     "name": "stdout",
     "output_type": "stream",
     "text": [
      "Name: Tanjiro\n",
      "Fighting Style: Water Breathing\n",
      "Knows 10 technique(s) and has killed 10 demon(s)\n",
      "===================\n",
      "Name: Zenitsu\n",
      "Fighting Style: Thunder Breathing\n",
      "Knows 1 technique(s) and has killed 4 demon(s)\n",
      "===================\n",
      "Name: Inosuke\n",
      "Fighting Style: Beast Breathing\n",
      "Knows 5 technique(s) and has killed 7 demon(s)\n",
      "===================\n",
      "Tanjiro, Zenitsu, Inosuke knows total 16 techniques\n",
      "They have killed total 21 demons\n"
     ]
    }
   ],
   "source": [
    "class DemonSlayer:\n",
    "    def __init__(self,name,style,number,kill):\n",
    "        self.name= name\n",
    "        self.style= style\n",
    "        self.number_of_technique= number\n",
    "        self.kill= kill\n",
    "\n",
    "tanjiro = DemonSlayer(\"Tanjiro\", \"Water Breathing\", 10, 10)\n",
    "print('Name:',tanjiro.name)\n",
    "print('Fighting Style:',tanjiro.style)\n",
    "print(f'Knows {tanjiro.number_of_technique} technique(s) and has killed {tanjiro.kill} demon(s)')\n",
    "print('===================')\n",
    "zenitsu = DemonSlayer(\"Zenitsu\", \"Thunder Breathing\", 1, 4)\n",
    "print('Name:',zenitsu.name)\n",
    "print('Fighting Style:',zenitsu.style)\n",
    "print(f'Knows {zenitsu.number_of_technique} technique(s) and has killed {zenitsu.kill} demon(s)')\n",
    "print('===================')\n",
    "inosuke = DemonSlayer(\"Inosuke\", \"Beast Breathing\", 5, 7)\n",
    "print('Name:',inosuke.name)\n",
    "print('Fighting Style:',inosuke.style)\n",
    "print(f'Knows {inosuke.number_of_technique} technique(s) and has killed {inosuke.kill} demon(s)')\n",
    "print('===================')\n",
    "print(f'{tanjiro.name}, {zenitsu.name}, {inosuke.name} knows total {tanjiro.number_of_technique + zenitsu.number_of_technique + inosuke.number_of_technique} techniques')\n",
    "print(f'They have killed total {tanjiro.kill + zenitsu.kill + inosuke.kill} demons')"
   ]
  },
  {
   "cell_type": "markdown",
   "id": "88699ef3",
   "metadata": {},
   "source": [
    "# Problem-09"
   ]
  },
  {
   "cell_type": "code",
   "execution_count": 33,
   "id": "ad229d52",
   "metadata": {
    "scrolled": true
   },
   "outputs": [
    {
     "name": "stdout",
     "output_type": "stream",
     "text": [
      "Box 1\n",
      "Creating a Box!\n",
      "Volume of the box is 1000 cubic units.\n",
      "=========================\n",
      "Height: 10\n",
      "Width: 10\n",
      "Breadth: 10\n",
      "-------------------------\n",
      "Box 2\n",
      "Creating a Box!\n",
      "Volume of the box is 3000 cubic units.\n",
      "=========================\n",
      "Height: 30\n",
      "Width: 10\n",
      "Breadth: 10\n",
      "Updating Box 2!\n",
      "Height: 300\n",
      "Width: 10\n",
      "Breadth: 10\n",
      "-------------------------\n",
      "Box 3\n",
      "Height: 300\n",
      "Width: 10\n",
      "Breadth: 10\n"
     ]
    }
   ],
   "source": [
    "class box:\n",
    "    def __init__(self,list1):\n",
    "        self.height= list1[0]\n",
    "        self.width=list1[1]\n",
    "        self.breadth=list1[2]\n",
    "        cube=(list1[0]*list1[1]*list1[2])\n",
    "        print('Creating a Box!')\n",
    "        print('Volume of the box is',cube,'cubic units.')\n",
    "\n",
    "print(\"Box 1\")\n",
    "b1 = box([10,10,10])\n",
    "print(\"=========================\")\n",
    "print(\"Height:\", b1.height)\n",
    "print(\"Width:\", b1.width)\n",
    "print(\"Breadth:\", b1.breadth)\n",
    "print(\"-------------------------\")\n",
    "print(\"Box 2\")\n",
    "b2 = box((30,10,10))\n",
    "print(\"=========================\")\n",
    "print(\"Height:\", b2.height)\n",
    "print(\"Width:\", b2.width)\n",
    "print(\"Breadth:\", b2.breadth)\n",
    "b2.height = 300 \n",
    "print(\"Updating Box 2!\")\n",
    "print(\"Height:\", b2.height)\n",
    "print(\"Width:\", b2.width)\n",
    "print(\"Breadth:\", b2.breadth)\n",
    "print(\"-------------------------\")\n",
    "print(\"Box 3\")\n",
    "b3 = b2 \n",
    "print(\"Height:\", b3.height)\n",
    "print(\"Width:\", b3.width)\n",
    "print(\"Breadth:\", b3.breadth)"
   ]
  },
  {
   "cell_type": "markdown",
   "id": "7b16feb1",
   "metadata": {},
   "source": [
    "# Problem-10"
   ]
  },
  {
   "cell_type": "code",
   "execution_count": 39,
   "id": "293bb537",
   "metadata": {},
   "outputs": [
    {
     "name": "stdout",
     "output_type": "stream",
     "text": [
      "CANCEL Button Specifications:\n",
      "Button name: CANCEL\n",
      "Number of the border characters for the top and the bottom: 28\n",
      "Number of spaces between the left side border and the first character of the button name: 10\n",
      "Number of spaces between the right side border and the last character of the button name: 10\n",
      "Characters representing the borders: x\n",
      "xxxxxxxxxxxxxxxxxxxxxxxxxxxx\n",
      "x          CANCEL          x\n",
      "xxxxxxxxxxxxxxxxxxxxxxxxxxxx\n",
      "=======================================================\n",
      "Notify Button Specifications:\n",
      "Button name: Notify\n",
      "Number of the border characters for the top and the bottom: 14\n",
      "Number of spaces between the left side border and the first character of the button name: 3\n",
      "Number of spaces between the right side border and the last character of the button name: 3\n",
      "Characters representing the borders: !\n",
      "!!!!!!!!!!!!!!\n",
      "!   Notify   !\n",
      "!!!!!!!!!!!!!!\n",
      "=======================================================\n",
      "SAVE PROGRESS Button Specifications:\n",
      "Button name: SAVE PROGRESS\n",
      "Number of the border characters for the top and the bottom: 25\n",
      "Number of spaces between the left side border and the first character of the button name: 5\n",
      "Number of spaces between the right side border and the last character of the button name: 5\n",
      "Characters representing the borders: $\n",
      "$$$$$$$$$$$$$$$$$$$$$$$$$\n",
      "$     SAVE PROGRESS     $\n",
      "$$$$$$$$$$$$$$$$$$$$$$$$$\n"
     ]
    }
   ],
   "source": [
    "class buttons:\n",
    "    def __init__(self,word1,space1,border1):\n",
    "        num_border= 2+(space1*2)+len(word1)\n",
    "        print(word1,'Button Specifications:')\n",
    "        print('Button name:',word1)\n",
    "        print('Number of the border characters for the top and the bottom:',num_border)\n",
    "        print('Number of spaces between the left side border and the first character of the button name:',space1)\n",
    "        print('Number of spaces between the right side border and the last character of the button name:',space1)\n",
    "        print('Characters representing the borders:',border1)\n",
    "        \n",
    "        for i in range(0,3):\n",
    "            if i==0 or i==2:\n",
    "                print(num_border*border1)\n",
    "            else:\n",
    "                print(border1+(' '*space1)+word1+(' '*space1)+border1)\n",
    "\n",
    "word = \"CANCEL\"\n",
    "spaces = 10\n",
    "border = 'x'\n",
    "b1 = buttons(word, spaces, border)\n",
    "print(\"=======================================================\")\n",
    "b2 = buttons(\"Notify\",3, '!')\n",
    "print(\"=======================================================\")\n",
    "b3 = buttons('SAVE PROGRESS', 5, '$')"
   ]
  }
 ],
 "metadata": {
  "kernelspec": {
   "display_name": "Python 3",
   "language": "python",
   "name": "python3"
  },
  "language_info": {
   "codemirror_mode": {
    "name": "ipython",
    "version": 3
   },
   "file_extension": ".py",
   "mimetype": "text/x-python",
   "name": "python",
   "nbconvert_exporter": "python",
   "pygments_lexer": "ipython3",
   "version": "3.8.8"
  }
 },
 "nbformat": 4,
 "nbformat_minor": 5
}
