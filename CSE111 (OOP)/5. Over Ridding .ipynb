{
 "cells": [
  {
   "cell_type": "code",
   "execution_count": 5,
   "metadata": {
    "colab": {
     "base_uri": "https://localhost:8080/"
    },
    "executionInfo": {
     "elapsed": 492,
     "status": "ok",
     "timestamp": 1640503196314,
     "user": {
      "displayName": "LABIB HASAN KHAN",
      "photoUrl": "https://lh3.googleusercontent.com/a/default-user=s64",
      "userId": "01298642310994315201"
     },
     "user_tz": -360
    },
    "id": "zAcAu9huNrV3",
    "outputId": "b38eaaa3-91c4-4f68-fdbe-4fe5377237a4"
   },
   "outputs": [
    {
     "name": "stdout",
     "output_type": "stream",
     "text": [
      "Name of parent Mary\n",
      "Name of daughter Emilly\n",
      "Emilly\n",
      "Mary\n",
      "Mansion\n",
      "Mansion\n",
      "doll\n"
     ]
    }
   ],
   "source": [
    "class Parent():\n",
    "    def __init__(self):\n",
    "      self.name = 'Mary'\n",
    " \n",
    "    def call(self):\n",
    "       print(\"Mary\")\n",
    "\n",
    "    def house(self):\n",
    "      print(\"Mansion\")\n",
    "\n",
    "\n",
    "class Child(Parent):\n",
    " \n",
    "     def __init__(self):\n",
    "       super().__init__()\n",
    "       self.name = \"Emilly\"\n",
    " \n",
    "     def call(self):\n",
    "       print(\"Emilly\")\n",
    "\n",
    "\n",
    "\n",
    "     def toy(self):\n",
    "       print(\"doll\")\n",
    "   \n",
    "  \n",
    "     def detailofname(self):\n",
    "       self.call()     #First: Own class. Next: Super Class\n",
    "       super().call()  #Directly goes to the superclass\n",
    "      \n",
    " \n",
    "     def detailofhouse(self):\n",
    "         self.house()\n",
    "         super().house()\n",
    "\n",
    "     def detailoftoy(self):\n",
    "         self.toy()\n",
    "         #super().toy()         #uncomment for error. superclass does not have any toy method()\n",
    "\n",
    "\n",
    "\n",
    "p1 = Parent()\n",
    "c1 = Child()\n",
    "print(\"Name of parent\",p1.name)\n",
    "print(\"Name of daughter\",c1.name)\n",
    "c1.detailofname()\n",
    "c1.detailofhouse()\n",
    "c1.detailoftoy()"
   ]
  },
  {
   "cell_type": "markdown",
   "metadata": {
    "id": "F9QI1obXai9y"
   },
   "source": [
    "\n",
    "\n",
    "```\n",
    "1. Over riding takes place in multiple class scenarios only\n",
    "2. Over riding is the \n",
    "3. self.var = First check own class. If\n",
    "```\n",
    "\n"
   ]
  }
 ],
 "metadata": {
  "colab": {
   "authorship_tag": "ABX9TyP5DCRWhMYlhJxTmEUO1KdQ",
   "name": "Over Ridding .ipynb",
   "provenance": []
  },
  "kernelspec": {
   "display_name": "Python 3",
   "name": "python3"
  },
  "language_info": {
   "name": "python"
  }
 },
 "nbformat": 4,
 "nbformat_minor": 0
}
