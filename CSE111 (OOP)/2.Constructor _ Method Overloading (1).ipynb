{
 "cells": [
  {
   "cell_type": "markdown",
   "metadata": {
    "id": "u2Kx4qyBOo04"
   },
   "source": [
    "\n",
    "**Step 1:**\n",
    "\n",
    "1. Set the class name based on the name in the object creation. \n",
    "\n",
    "**Step 2:(Working with constructor)**\n",
    "\n",
    "1. First write a parameterless constructor with just self parameter. \n",
    "2. Then look at the different type of object creation. Does the parameter passed in the constructor vary during object creation? If yes, use constructor overloading. If no, no need to implement overloading  \n",
    "\n",
    "\n",
    "**Step 3:(Instance Variable)**\n",
    "> Instance variable always declared inside __init__ and always start with self inside class. \n",
    "\n",
    "There are three ways we can select instance variables\n",
    "\n",
    "1. The parameter passed through the constructor during object creation\n",
    "2. The variable called through the object inside the driver code\n",
    "3. The variable used in multiple method/function\n",
    "\n",
    "`NB: If we have a particular name for a instance variable in the driver code then we must use that name in the class. `\n",
    "\n",
    "**Step 4:(Instance Method)**      *optional*\n",
    "> Instance method always called through the object in driver code. They have self as a argument. \n",
    "\n",
    "1. If no paramter is passed then it has only self as the argument. If parameter is passed then there are additional parameters.This can be LOCAL variable if only used inside that particular method. \n",
    "2. No Method Overloading. If there are multiple places where the method is called check the number of parameter passed. If all method calls have same number passed then write the function as normal. If the parameter number is different, then method overloading needs to implemented. \n",
    "3. If the method returns then there needs to be a variable or print() in the drive code where method is called from to catch. If method  does not return, you have to print something inside the function.\n",
    "\n",
    "\n",
    "\n",
    "\n"
   ]
  },
  {
   "cell_type": "code",
   "execution_count": null,
   "metadata": {
    "id": "M1fbhsHXrS-C"
   },
   "outputs": [],
   "source": [
    "class Building():\n",
    "\n",
    "      #parameterized constructor\n",
    "      def __init__(self,color,f=None):#We have two objects \n",
    "        \n",
    "        if f == None: #If no floor value is given during object creation. \n",
    "          self.floor = 10\n",
    "        else:         #If floor value is given \n",
    "          self.floor =  f\n",
    "        self.color = color          \n",
    "      \n",
    "     \n",
    "\n",
    "      def detail(self):\n",
    "        return f\"The color of building is {self.color} and floor is {self.floor}\"\n",
    "\n",
    "\n",
    "#=====driver code=====\n",
    "b1 = Building(\"Red\",15)   #color = red , floor =10\n",
    "print(b1.color)\n",
    "print(b1.floor)\n",
    "print(b1.detail())\n",
    "print(\"----\")\n",
    "\n",
    "\n",
    "b2 = Building(\"blue\")   #color = blue , floor = 20\n",
    "print(b2.color)\n",
    "print(b2.floor)\n",
    "print(b2.detail())\n",
    "print(\"----\")\n"
   ]
  },
  {
   "cell_type": "markdown",
   "metadata": {
    "id": "PrZPwI0mXiZs"
   },
   "source": [
    "### One Object passed as argument inside another Object's method"
   ]
  },
  {
   "cell_type": "code",
   "execution_count": null,
   "metadata": {
    "colab": {
     "base_uri": "https://localhost:8080/"
    },
    "executionInfo": {
     "elapsed": 332,
     "status": "ok",
     "timestamp": 1637600163216,
     "user": {
      "displayName": "LABIB HASAN KHAN",
      "photoUrl": "https://lh3.googleusercontent.com/a/default-user=s64",
      "userId": "01298642310994315201"
     },
     "user_tz": -360
    },
    "id": "Wy7LLVgSOtsm",
    "outputId": "3156ae6f-b76c-461c-9928-9e038514dfaa"
   },
   "outputs": [
    {
     "name": "stdout",
     "output_type": "stream",
     "text": [
      "Name Toyota Tata\n",
      "Put <__main__.Car object at 0x7fcfbc1002d0>\n",
      "Car put in Toyota in the truck Tata\n",
      "Car seat 5 and truck seat 4 and container total seat 100\n",
      "Car address <__main__.Car object at 0x7fcfbc1002d0> and truck address <__main__.Truck object at 0x7fcfc23e6a10>\n",
      "<__main__.Car object at 0x7fcfbc1002d0> <__main__.Truck object at 0x7fcfc23e6a10>\n"
     ]
    }
   ],
   "source": [
    "class Truck():\n",
    " \n",
    "   def __init__(self,name,wheel,seat):\n",
    "      self.name = name \n",
    "      self.wheel = wheel \n",
    "      self.seat = seat\n",
    "      \n",
    "\n",
    "   def detail(self):\n",
    "     print(f\"detail of trcuk {self.name},{self.wheel} and {self.seat}\")\n",
    "  \n",
    "\n",
    "   def container(self,put):\n",
    "    print(\"Put\",put)\n",
    " \n",
    "    seat = 100 #local   \n",
    "    print(\"Car put in\",put.name,\"in the truck\",self.name)\n",
    "    print(f\"Car seat {put.seat} and truck seat {self.seat} and container total seat {seat}\")\n",
    "    print(f\"Car address {put} and truck address {self}\")\n",
    "\n",
    "\n",
    "   def abc(self):\n",
    "         print(\"Car put in\",self.put.name,\"in the truck\",self.name)\n",
    "\n",
    "class Car():\n",
    "      \n",
    "      \n",
    "      def __init__(self,name,wheel,seat):\n",
    "          self.name = name\n",
    "          self.wheel = wheel\n",
    "          self.seat = seat\n",
    "  \n",
    "      def detail(self):\n",
    "          print(f\"detail of car {self.name},{self.wheel} and {self.seat}\")\n",
    "\n",
    "\n",
    "\n",
    "c1 = Car(\"Toyota\",4,5)\n",
    "t1  = Truck(\"Tata\",20,4)\n",
    "\n",
    "print(\"Name\",c1.name, t1.name)\n",
    "\n",
    "t1.container(c1)\n",
    "print(c1,t1)\n"
   ]
  }
 ],
 "metadata": {
  "colab": {
   "authorship_tag": "ABX9TyNCeQpGj8Vz4RbQjEbyS3PC",
   "name": "2.Constructor & Method Overloading.ipynb",
   "provenance": []
  },
  "kernelspec": {
   "display_name": "Python 3",
   "name": "python3"
  },
  "language_info": {
   "name": "python"
  }
 },
 "nbformat": 4,
 "nbformat_minor": 0
}
