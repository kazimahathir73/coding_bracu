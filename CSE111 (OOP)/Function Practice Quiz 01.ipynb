{
 "cells": [
  {
   "cell_type": "code",
   "execution_count": 2,
   "id": "b999af05",
   "metadata": {},
   "outputs": [
    {
     "name": "stdout",
     "output_type": "stream",
     "text": [
      "Enter the number of name: 4\n",
      "Enter Full name- Zubayer Ahmed\n",
      "Enter Full name- Sadia Nur Amin\n",
      "Enter Full name- Mehedi Hasan Shawon\n",
      "Enter Full name- Nafis\n",
      "{'Fname': ['Zubayer', 'Sadia', 'Mehedi', 'Nafis'], 'Mname': ['Nur', 'Hasan'], 'Lname': ['Ahmed', 'Amin', 'Shawon']}\n"
     ]
    }
   ],
   "source": [
    "dict1={'Fname':[],'Mname':[],'Lname':[]}\n",
    "\n",
    "num=int(input('Enter the number of name: '))\n",
    "for i in range(0,num):\n",
    "    name=input('Enter Full name- ').split( )\n",
    "    \n",
    "    if len(name)==1:\n",
    "        dict1['Fname'].append(name[0])\n",
    "    if len(name)==2:\n",
    "        dict1['Fname'].append(name[0])\n",
    "        dict1['Lname'].append(name[1])\n",
    "    if len(name)==3:\n",
    "        dict1['Fname'].append(name[0])\n",
    "        dict1['Mname'].append(name[1])\n",
    "        dict1['Lname'].append(name[2])\n",
    "        \n",
    "print(dict1)"
   ]
  },
  {
   "cell_type": "code",
   "execution_count": 22,
   "id": "7df8d341",
   "metadata": {},
   "outputs": [
    {
     "name": "stdout",
     "output_type": "stream",
     "text": [
      "Enter the sequence- ATTCGATCG\n",
      "Enter the plate- 3\n",
      "ATT 1\n",
      "TTC 1\n",
      "TCG 2\n",
      "CGA 1\n",
      "GAT 1\n",
      "ATC 1\n",
      "Dominant Pattern: TCG\n"
     ]
    }
   ],
   "source": [
    "dna=input('Enter the sequence- ')\n",
    "plate=int(input('Enter the plate- '))\n",
    "count1=0\n",
    "count2=plate\n",
    "\n",
    "list1=[]\n",
    "while count2 <= len(dna):\n",
    "    sq=dna[count1:count2]\n",
    "    list1.append(sq)\n",
    "    count1+=1\n",
    "    count2+=1\n",
    "\n",
    "maximum=list1.count(list1[0])\n",
    "max_var=list1[0]\n",
    "\n",
    "list2=[]\n",
    "for k in list1:\n",
    "    if k not in list2:\n",
    "        list2.append(k)\n",
    "        \n",
    "for i in list2:\n",
    "    print(i,list1.count(i))\n",
    "    if(maximum < list1.count(i)):\n",
    "        maximum=list1.count(i)\n",
    "        max_var= i\n",
    "\n",
    "print('Dominant Pattern:',max_var)"
   ]
  },
  {
   "cell_type": "code",
   "execution_count": 2,
   "id": "bcdb9c24",
   "metadata": {},
   "outputs": [
    {
     "name": "stdout",
     "output_type": "stream",
     "text": [
      "Enter the info- Fnatic KRIMZ 12 23 9 2 2 1\n",
      "Enter the info- natic Xizt 15 20 3 2 0 2\n",
      "Enter the info- NaVi flamie 23 13 3 2 2 0 \n",
      "59 42 35\n",
      "{'KRIMZ': 42, 'Xizt': 35, 'flamie': 59}\n",
      "First None\n",
      "Second None\n",
      "Third None\n"
     ]
    }
   ],
   "source": [
    "dict1={}\n",
    "point_list=[]\n",
    "\n",
    "for i in range(0,3):\n",
    "    info=input('Enter the info- ').split( )\n",
    "    \n",
    "    point=(2*int(info[2]))+(1*int(info[4]))+(2*int(info[5]))+(3*int(info[6]))-(1*int(info[7]))\n",
    "    dict1[info[1]]=point\n",
    "    point_list.append(point)\n",
    "    \n",
    "maximum1=max(point_list)\n",
    "point_list.remove(maximum1)\n",
    "maximum2=max(point_list)\n",
    "point_list.remove(maximum2)\n",
    "maximum3=max(point_list)\n",
    "point_list.remove(maximum3)\n",
    "\n",
    "print(maximum1,maximum2,maximum3)\n",
    "print(dict1)\n",
    "\n"
   ]
  },
  {
   "cell_type": "code",
   "execution_count": 5,
   "id": "08031646",
   "metadata": {},
   "outputs": [
    {
     "name": "stdout",
     "output_type": "stream",
     "text": [
      "Enter the sentence- Lorem Ipsum has been the industry's standard dummy text ever since the 1500s, when an unknown printer took a galley of type and scrambled it to make a type specimen book.\n",
      "Enter the word- red\n",
      "Number of times red can be written from the given sequence: 6\n"
     ]
    }
   ],
   "source": [
    "sentence=input('Enter the sentence- ')\n",
    "word=input('Enter the word- ')\n",
    "\n",
    "list1=[]\n",
    "for i in word:\n",
    "    count=sentence.count(i)\n",
    "    list1.append(count)\n",
    "\n",
    "minimum=min(list1)\n",
    "print('Number of times',word,'can be written from the given sequence:',minimum)"
   ]
  },
  {
   "cell_type": "code",
   "execution_count": 9,
   "id": "893331b5",
   "metadata": {},
   "outputs": [
    {
     "name": "stdout",
     "output_type": "stream",
     "text": [
      "{'Bangladesh': {'Batter': ['Mominul', 'Imrul'], 'Bowler': ['Mustafiz', 'Taijul']}, 'England': {'Batter': ['Bell', 'Cook'], 'Bowler': []}, 'Australia': {'Batter': ['Smith', 'Finch'], 'Bowler': ['Starc']}}\n"
     ]
    }
   ],
   "source": [
    "my_tuple = ((\"Mominul\", 1101),\n",
    "            (\"Mustafiz\", 1202),\n",
    "            (\"Bell\", 2101),\n",
    "            (\"Cook\", 2103),\n",
    "            (\"Smith\", 3101),\n",
    "            (\"Finch\", 3102),\n",
    "            (\"Starc\", 3203), \n",
    "            (\"Imrul\", 1103),\n",
    "            (\"Taijul\", 1204))\n",
    "\n",
    "dict1={'Bangladesh':{'Batter':[],'Bowler':[]},'England':{'Batter':[],'Bowler':[]},'Australia':{'Batter':[],'Bowler':[]}}\n",
    "\n",
    "for i in my_tuple:\n",
    "    count=str(i[1])\n",
    "    if count[0]=='1':\n",
    "        \n",
    "        if count[1]=='1':\n",
    "            dict1['Bangladesh']['Batter'].append(i[0])\n",
    "        if count[1]=='2':\n",
    "            dict1['Bangladesh']['Bowler'].append(i[0])\n",
    "            \n",
    "    if count[0]=='2':\n",
    "        \n",
    "        if count[1]=='1':\n",
    "            dict1['England']['Batter'].append(i[0])\n",
    "        if count[1]=='2':\n",
    "            dict1['England']['Bowler'].append(i[0])\n",
    "        \n",
    "    if count[0]=='3':\n",
    "        \n",
    "        if count[1]=='1':\n",
    "            dict1['Australia']['Batter'].append(i[0])\n",
    "        if count[1]=='2':\n",
    "            dict1['Australia']['Bowler'].append(i[0])\n",
    "        \n",
    "print(dict1)"
   ]
  },
  {
   "cell_type": "code",
   "execution_count": 11,
   "id": "7f585890",
   "metadata": {},
   "outputs": [
    {
     "name": "stdout",
     "output_type": "stream",
     "text": [
      "{'CSE': {'Undergraduate': ['CSE110', 'CSE111'], 'Postgraduate': ['CSE520', 'CSE650']}, 'MAT': {'Undergraduate': [], 'Postgraduate': ['MAT620', 'MAT510']}, 'EEE': {'Undergraduate': ['EEE361'], 'Postgraduate': []}}\n"
     ]
    }
   ],
   "source": [
    "courses = ['CSE110','CSE111','MAT620','CSE520','EEE361','CSE650','MAT510']\n",
    "\n",
    "dict1={'CSE':{'Undergraduate':[],'Postgraduate':[]},\n",
    "       'MAT':{'Undergraduate':[],'Postgraduate':[]},\n",
    "       'EEE':{'Undergraduate':[],'Postgraduate':[]}}\n",
    "\n",
    "for i in courses:\n",
    "    cour=i[0:3]\n",
    "    num=int(i[3:6])\n",
    "    \n",
    "    if cour in dict1:\n",
    "        if num < 500:\n",
    "            dict1[cour]['Undergraduate'].append(i)\n",
    "        if num >= 500:\n",
    "            dict1[cour]['Postgraduate'].append(i)\n",
    "        \n",
    "print(dict1)"
   ]
  },
  {
   "cell_type": "code",
   "execution_count": 7,
   "id": "c2b6a3e8",
   "metadata": {},
   "outputs": [
    {
     "name": "stdout",
     "output_type": "stream",
     "text": [
      "Enter the number- 6\n",
      "######\n",
      "&&##&&\n",
      "&&##&&\n",
      "&&##&&\n",
      "&&##&&\n",
      "######\n"
     ]
    }
   ],
   "source": [
    "num=int(input('Enter the number- '))\n",
    "\n",
    "if num < 4:\n",
    "    print('Invalid')\n",
    "else:\n",
    "    num1=(num//2)-1\n",
    "    num2=num-(num1*2)\n",
    "    for i in range(1,num+1):\n",
    "        if(i== 1 or i==num):\n",
    "            print('#'*num)\n",
    "        else:\n",
    "            first='&'*num1\n",
    "            second='#'*num2\n",
    "            third='&'*num1\n",
    "            print(first+second+third)"
   ]
  },
  {
   "cell_type": "code",
   "execution_count": 5,
   "id": "e34e2a3e",
   "metadata": {},
   "outputs": [
    {
     "name": "stdout",
     "output_type": "stream",
     "text": [
      "Enter the number- 7\n",
      "1#3#5#7\n"
     ]
    }
   ],
   "source": [
    "num=int(input('Enter the number- '))\n",
    "\n",
    "str1=''\n",
    "if num%2 == 0:\n",
    "    print('Invalid')\n",
    "else:\n",
    "    for i in range(1,num+1):\n",
    "        if i%2== 1:\n",
    "            str1+=str(i)\n",
    "        else:\n",
    "            str1+='#'\n",
    "print(str1)"
   ]
  },
  {
   "cell_type": "code",
   "execution_count": 10,
   "id": "9f122a71",
   "metadata": {},
   "outputs": [
    {
     "name": "stdout",
     "output_type": "stream",
     "text": [
      "Enter the IP Addresses: 2 192.168.30.10,168.192.100.30,192.168.55.10,240.169.10.10,168.192.43.90,192.169.100.45\n",
      "{'192.168.0.0': ['192.168.30.10', '192.168.55.10'], '168.192.0.0': ['168.192.100.30', '168.192.43.90'], '240.169.0.0': ['240.169.10.10'], '192.169.0.0': ['192.169.100.45']}\n"
     ]
    }
   ],
   "source": [
    "ip=input('Enter the IP Addresses: ').split(' ')\n",
    "main_ip=ip[1].split(',')\n",
    "dict1={}\n",
    "\n",
    "if ip[0]=='1':\n",
    "    for i in main_ip:\n",
    "        sub1=i[0:3]\n",
    "        sub2=sub1+'.0.0.0'\n",
    "        if sub2 not in dict1:\n",
    "            if sub1 in i:\n",
    "                dict1[sub2]=[i]\n",
    "            else:\n",
    "                dict1[sub2].append(i)\n",
    "        else:\n",
    "            dict1[sub2].append(i)\n",
    "\n",
    "if ip[0]=='2':\n",
    "    for i in main_ip:\n",
    "        sub1=i[0:7]\n",
    "        sub2=sub1+'.0.0'\n",
    "        if sub2 not in dict1:\n",
    "            if sub1 in i:\n",
    "                dict1[sub2]=[i]\n",
    "            else:\n",
    "                dict1[sub2].append(i)\n",
    "        else:\n",
    "            dict1[sub2].append(i)\n",
    "\n",
    "if ip[0]=='3':\n",
    "    for i in main_ip:\n",
    "        sub1=i[0:10]\n",
    "        sub2=sub1+'.0'\n",
    "        if sub2 not in dict1:\n",
    "            if sub1 in i:\n",
    "                dict1[sub2]=[i]\n",
    "            else:\n",
    "                dict1[sub2].append(i)\n",
    "        else:\n",
    "            dict1[sub2].append(i)\n",
    "            \n",
    "print(dict1)"
   ]
  },
  {
   "cell_type": "code",
   "execution_count": null,
   "id": "7896fea0",
   "metadata": {},
   "outputs": [],
   "source": [
    "As a software engineer, you are hired to arrange football players based on \n",
    "their country and position. You have given all the player’s information in \n",
    "a tuple called my_tuple. The players are from 3 countries which are Brazil, \n",
    "Argentina and Germany. They are 2 positions which are “Forward” and \n",
    "“Midfield”\n",
    "\n",
    "You are given the following nested tuple where each element in the my_tuple \n",
    "is a tuple consisting of a name and a 4 digit ID.\n",
    "\n",
    "my_tuple = ((\"Firmino\", 1101),(\"Gabriel\", 1201),(\"Casemiro\", 1302),(\"Fred\", \n",
    "1402),(\"Messi\", 1111),(\"Aguero\", 1211),(\"Klose\", 1121), (\"Werner\", 1221), \n",
    "(\"Toni\", 1322))\n",
    "\n",
    "Write a python program that will convert this tuple into the following \n",
    "dictionary using the process described below: Your code should work for all \n",
    "types of similar tuple if the sample input is changed.\n",
    "\n",
    "Output dictionary (You just have to print the resultant dictionary. No need \n",
    "to follow the pattern below)\n",
    "{\n",
    "'Forward':\n",
    "     {\n",
    "     'Brazil': ('Firmino', 'Gabriel'),\n",
    "     'Argentina': ('Messi', 'Aguero'),\n",
    "     'Germany': ('Klose', 'Werner')\n",
    "     }\n",
    "'Midfielder':\n",
    "     {\n",
    "     'Brazil': ('Casemiro', 'Fred')\n",
    "     'Germany': 'Toni'\n",
    "     }\n",
    "}\n",
    "\n",
    "Here you need to convert the given tuple into the output using the 4 digit \n",
    "ID. The rules are given below:\n",
    "1==> Last digit of the ID represents the position. Here\n",
    "     1a--> 1 means Forward\n",
    "     1b--> 2 means Midfield\n",
    "2==> Third digit of the ID represents the country. Here\n",
    "     2a--> 0 means  Brazil\n",
    "     2b--> 1 means Argentina\n",
    "     2c--> 2 means Germany\n",
    "3==> If you have multiple players in a category use tuple to store the \n",
    "multiple names as the value of the nested dictionary\n",
    "4==> If any country has no player of a particular position, that country \n",
    "name should not appear as a key in the nested dictionary of that particular \n",
    "position. For example, Argentina has no midfielder. So Argentina did not \n",
    "appear under the “Midfield” position.\n",
    "5==> If your output dictionary’s key value pair sequence is not the same as \n",
    "the shown output you should not worry about that. However, the key value \n",
    "pair should be exactly the same"
   ]
  },
  {
   "cell_type": "code",
   "execution_count": 8,
   "id": "7ad76642",
   "metadata": {},
   "outputs": [
    {
     "name": "stdout",
     "output_type": "stream",
     "text": [
      "{'Forward': {'Brazil': ['Gabriel'], 'Argentina': ['Aguero'], 'Germany': ['Werner']}, 'Midfielder': {}}\n"
     ]
    }
   ],
   "source": [
    "my_tuple = ((\"Firmino\", 1101),(\"Gabriel\", 1201),(\"Casemiro\", 1302),(\"Fred\", 1402),(\"Messi\", 1111),(\"Aguero\", 1211),(\"Klose\", 1121), (\"Werner\", 1221), (\"Toni\", 1322))\n",
    "dict1={'Forward':{},'Midfielder':{}}\n",
    "list_f=[]\n",
    "list_m=[]\n",
    "\n",
    "for i in my_tuple:\n",
    "    s=str(i[-1])\n",
    "    if s[-1] =='1':\n",
    "        list_f.append(i)\n",
    "    else:\n",
    "        list_m.append(i)\n",
    "            \n",
    "for i in list_f:\n",
    "    s=str(i[-1])\n",
    "    if i[0] not in dict1['Forward']:\n",
    "        if s[-2] == '0':\n",
    "            dict1['Forward']['Brazil']=[i[0]]\n",
    "        if s[-2] == '1':\n",
    "            dict1['Forward']['Argentina']=[i[0]]\n",
    "        if s[-2] == '2':\n",
    "            dict1['Forward']['Germany']=[i[0]]\n",
    "            \n",
    "    if i[0] not in dict1['Midfielder']:\n",
    "        if s[-2] == '0':\n",
    "            dict1['Forward']['Brazil']=[i[0]]\n",
    "        if s[-2] == '1':\n",
    "            dict1['Forward']['Argentina']=[i[0]]\n",
    "        if s[-2] == '2':\n",
    "            dict1['Forward']['Germany']=[i[0]]\n",
    "print(dict1)"
   ]
  },
  {
   "cell_type": "code",
   "execution_count": null,
   "id": "60d8faf6",
   "metadata": {},
   "outputs": [],
   "source": [
    "Suppose you are given a list of contacts as input in single line. Your task \n",
    "is to create a “Phonebook” out of those contacts based on their telecom \n",
    "operator. The phonebook is nothing but a nested dictionary which is made of \n",
    "1 rule:\n",
    "\n",
    "1.You have to save each contact based on their telecom operator. If there \n",
    "is no contact of a specific telecom operator, that operator should not be \n",
    "shown in the phone book. If a contact number,\n",
    "Starts with ‘017’ or ‘013’ then the telecom operator is Grameenphone\n",
    "Starts with ‘018’ then the telecom operator is Robi\n",
    "Starts with ‘016’ then the telecom operator is Airtel\n",
    "Starts with anything else then the telecom operator is Others\n",
    "While printing the phonebook as output the contacts under each telecom \n",
    "operator should be shown in alphabetically sorted order based on the \n",
    "contact names. See the sample output for clarification.\n",
    "\n",
    "Sample Input:\n",
    "Bob 01632342392 Alice 01346734123 Britney 01803544535 Aeron 01723454642 \n",
    "Smith 01923457890 Tarek 01866392233\n",
    "\n",
    "Sample Output:(No need to follow this output format. Just print the \n",
    "resultant sorted dictionary. )\n",
    "{\n",
    "Airtel:\n",
    "{\n",
    "Bob:01632342392\n",
    "}\n",
    "Grameenphone:\n",
    "{\n",
    "Aeron:01723454642\n",
    "Alice:01346734123\n",
    "}\n",
    "Robi:\n",
    "{\n",
    "Britney:01803544535\n",
    "Tarek:01866392233\n",
    "}\n",
    "Others:\n",
    "{\n",
    "Smith:01923457890\n",
    "}\n",
    "}"
   ]
  },
  {
   "cell_type": "code",
   "execution_count": 5,
   "id": "e0a347e3",
   "metadata": {},
   "outputs": [
    {
     "name": "stdout",
     "output_type": "stream",
     "text": [
      "Enter the phones: Bob 01632342392 Alice 01346734123 Britney 01803544535 Aeron 01723454642  Smith 01923457890 Tarek 01866392233\n",
      "{'Airtel': {'Bob': '01632342392'}, 'Grameenphone': {'Alice': '01346734123', 'Aeron': '01723454642'}, 'Robi': {'Britney': '01803544535', 'Tarek': '01866392233'}, 'Others': {'Smith': '01923457890'}}\n"
     ]
    }
   ],
   "source": [
    "phone=input('Enter the phones: ').split( )\n",
    "dict1={'Airtel':{},'Grameenphone':{},'Robi':{},'Others':{}}\n",
    "list1=[]\n",
    "list2=[]\n",
    "\n",
    "for i in phone:\n",
    "    if i.isdigit():\n",
    "        list2.append(i)\n",
    "    else:\n",
    "        list1.append(i)\n",
    "        \n",
    "for i in range(0,len(list1)):\n",
    "    if list2[i][0:3] == '017' or list2[i][0:3] == '013':\n",
    "        dict1['Grameenphone'][list1[i]]=list2[i]\n",
    "    elif list2[i][0:3] == '018':\n",
    "        dict1['Robi'][list1[i]]=list2[i]\n",
    "    elif list2[i][0:3] == '016':\n",
    "        dict1['Airtel'][list1[i]]=list2[i]\n",
    "    else:\n",
    "        dict1['Others'][list1[i]]=list2[i]\n",
    "        \n",
    "print(dict1)       "
   ]
  },
  {
   "cell_type": "code",
   "execution_count": null,
   "id": "63019e2e",
   "metadata": {},
   "outputs": [],
   "source": []
  }
 ],
 "metadata": {
  "kernelspec": {
   "display_name": "Python 3",
   "language": "python",
   "name": "python3"
  },
  "language_info": {
   "codemirror_mode": {
    "name": "ipython",
    "version": 3
   },
   "file_extension": ".py",
   "mimetype": "text/x-python",
   "name": "python",
   "nbconvert_exporter": "python",
   "pygments_lexer": "ipython3",
   "version": "3.8.8"
  }
 },
 "nbformat": 4,
 "nbformat_minor": 5
}
