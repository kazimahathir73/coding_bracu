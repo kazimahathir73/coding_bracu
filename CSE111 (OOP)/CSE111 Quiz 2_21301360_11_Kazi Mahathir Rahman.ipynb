{
 "cells": [
  {
   "cell_type": "code",
   "execution_count": 2,
   "id": "04fbf699",
   "metadata": {
    "scrolled": true
   },
   "outputs": [
    {
     "ename": "RecursionError",
     "evalue": "maximum recursion depth exceeded",
     "output_type": "error",
     "traceback": [
      "\u001b[1;31m---------------------------------------------------------------------------\u001b[0m",
      "\u001b[1;31mRecursionError\u001b[0m                            Traceback (most recent call last)",
      "\u001b[1;32m<ipython-input-2-2888f96f1768>\u001b[0m in \u001b[0;36m<module>\u001b[1;34m\u001b[0m\n\u001b[0;32m     53\u001b[0m \u001b[1;33m\u001b[0m\u001b[0m\n\u001b[0;32m     54\u001b[0m \u001b[0ms1\u001b[0m \u001b[1;33m=\u001b[0m \u001b[0mShoppingCart\u001b[0m\u001b[1;33m(\u001b[0m\u001b[1;34m\"Amazon\"\u001b[0m\u001b[1;33m)\u001b[0m\u001b[1;33m\u001b[0m\u001b[1;33m\u001b[0m\u001b[0m\n\u001b[1;32m---> 55\u001b[1;33m \u001b[0mp1\u001b[0m \u001b[1;33m=\u001b[0m \u001b[0mProduct\u001b[0m\u001b[1;33m(\u001b[0m\u001b[1;34m\"Razer BlackShark\"\u001b[0m\u001b[1;33m,\u001b[0m\u001b[1;34m\"Headset\"\u001b[0m\u001b[1;33m,\u001b[0m\u001b[1;36m99.99\u001b[0m\u001b[1;33m,\u001b[0m\u001b[1;36m5\u001b[0m\u001b[1;33m)\u001b[0m\u001b[1;33m\u001b[0m\u001b[1;33m\u001b[0m\u001b[0m\n\u001b[0m\u001b[0;32m     56\u001b[0m \u001b[0mp2\u001b[0m \u001b[1;33m=\u001b[0m \u001b[0mProduct\u001b[0m\u001b[1;33m(\u001b[0m\u001b[1;34m\"Logitech G ProX Superlight\"\u001b[0m\u001b[1;33m,\u001b[0m\u001b[1;34m\"Mouse\"\u001b[0m\u001b[1;33m,\u001b[0m\u001b[1;36m150\u001b[0m\u001b[1;33m)\u001b[0m\u001b[1;33m\u001b[0m\u001b[1;33m\u001b[0m\u001b[0m\n\u001b[0;32m     57\u001b[0m \u001b[0mprint\u001b[0m\u001b[1;33m(\u001b[0m\u001b[1;34m\"1.====================================\"\u001b[0m\u001b[1;33m)\u001b[0m\u001b[1;33m\u001b[0m\u001b[1;33m\u001b[0m\u001b[0m\n",
      "\u001b[1;32m<ipython-input-2-2888f96f1768>\u001b[0m in \u001b[0;36m__init__\u001b[1;34m(self, name, book, m, n)\u001b[0m\n\u001b[0;32m     48\u001b[0m         \u001b[0mself\u001b[0m\u001b[1;33m.\u001b[0m\u001b[0mn\u001b[0m\u001b[1;33m=\u001b[0m\u001b[0mn\u001b[0m\u001b[1;33m\u001b[0m\u001b[1;33m\u001b[0m\u001b[0m\n\u001b[0;32m     49\u001b[0m         \u001b[0mProduct\u001b[0m\u001b[1;33m.\u001b[0m\u001b[0mproduct\u001b[0m\u001b[1;33m+=\u001b[0m\u001b[1;36m1\u001b[0m\u001b[1;33m\u001b[0m\u001b[1;33m\u001b[0m\u001b[0m\n\u001b[1;32m---> 50\u001b[1;33m         \u001b[0mf1\u001b[0m\u001b[1;33m=\u001b[0m \u001b[0mProduct\u001b[0m\u001b[1;33m(\u001b[0m\u001b[0mself\u001b[0m\u001b[1;33m.\u001b[0m\u001b[0mname\u001b[0m\u001b[1;33m,\u001b[0m\u001b[0mself\u001b[0m\u001b[1;33m.\u001b[0m\u001b[0mbook\u001b[0m\u001b[1;33m,\u001b[0m\u001b[0mself\u001b[0m\u001b[1;33m.\u001b[0m\u001b[0mm\u001b[0m\u001b[1;33m,\u001b[0m\u001b[0mself\u001b[0m\u001b[1;33m.\u001b[0m\u001b[0mn\u001b[0m\u001b[1;33m)\u001b[0m\u001b[1;33m\u001b[0m\u001b[1;33m\u001b[0m\u001b[0m\n\u001b[0m\u001b[0;32m     51\u001b[0m         \u001b[1;32mreturn\u001b[0m \u001b[0mf1\u001b[0m\u001b[1;33m\u001b[0m\u001b[1;33m\u001b[0m\u001b[0m\n\u001b[0;32m     52\u001b[0m \u001b[1;33m\u001b[0m\u001b[0m\n",
      "... last 1 frames repeated, from the frame below ...\n",
      "\u001b[1;32m<ipython-input-2-2888f96f1768>\u001b[0m in \u001b[0;36m__init__\u001b[1;34m(self, name, book, m, n)\u001b[0m\n\u001b[0;32m     48\u001b[0m         \u001b[0mself\u001b[0m\u001b[1;33m.\u001b[0m\u001b[0mn\u001b[0m\u001b[1;33m=\u001b[0m\u001b[0mn\u001b[0m\u001b[1;33m\u001b[0m\u001b[1;33m\u001b[0m\u001b[0m\n\u001b[0;32m     49\u001b[0m         \u001b[0mProduct\u001b[0m\u001b[1;33m.\u001b[0m\u001b[0mproduct\u001b[0m\u001b[1;33m+=\u001b[0m\u001b[1;36m1\u001b[0m\u001b[1;33m\u001b[0m\u001b[1;33m\u001b[0m\u001b[0m\n\u001b[1;32m---> 50\u001b[1;33m         \u001b[0mf1\u001b[0m\u001b[1;33m=\u001b[0m \u001b[0mProduct\u001b[0m\u001b[1;33m(\u001b[0m\u001b[0mself\u001b[0m\u001b[1;33m.\u001b[0m\u001b[0mname\u001b[0m\u001b[1;33m,\u001b[0m\u001b[0mself\u001b[0m\u001b[1;33m.\u001b[0m\u001b[0mbook\u001b[0m\u001b[1;33m,\u001b[0m\u001b[0mself\u001b[0m\u001b[1;33m.\u001b[0m\u001b[0mm\u001b[0m\u001b[1;33m,\u001b[0m\u001b[0mself\u001b[0m\u001b[1;33m.\u001b[0m\u001b[0mn\u001b[0m\u001b[1;33m)\u001b[0m\u001b[1;33m\u001b[0m\u001b[1;33m\u001b[0m\u001b[0m\n\u001b[0m\u001b[0;32m     51\u001b[0m         \u001b[1;32mreturn\u001b[0m \u001b[0mf1\u001b[0m\u001b[1;33m\u001b[0m\u001b[1;33m\u001b[0m\u001b[0m\n\u001b[0;32m     52\u001b[0m \u001b[1;33m\u001b[0m\u001b[0m\n",
      "\u001b[1;31mRecursionError\u001b[0m: maximum recursion depth exceeded"
     ]
    }
   ],
   "source": [
    "class ShoppingCart:\n",
    "    name=''\n",
    "    list1=[]\n",
    "    list2=[]\n",
    "    cart=0\n",
    "    \n",
    "    def __init__(self,name):\n",
    "        self.name=name\n",
    "    def addGadget(self,p1=0,min_value=0,p2=0,max_value=0):\n",
    "        if p1!=0:\n",
    "            if p1 < min_value:\n",
    "                print(p1,'stock is less than required quantity. Cannot add to cart.')\n",
    "            else:\n",
    "                self.cost+=1\n",
    "                self.list1.append(p1)\n",
    "                self.list2.append(min_value)\n",
    "                \n",
    "        if p2 != 0:\n",
    "            if p2 < max_value:\n",
    "                print(p2,'stock is less than required quantity. Cannot add to cart.')\n",
    "            else:\n",
    "                self.cost+=1\n",
    "                self.list1.append(p2)\n",
    "                self.list2.append(min_value)\n",
    "                \n",
    "    def printCartDetails(self):\n",
    "        cost=0\n",
    "        print('Details of Amazon cart:',self.name)\n",
    "        print('Total gadgets in cart:',self.cart)\n",
    "        value=0\n",
    "        for i in self.list1:\n",
    "            print()\n",
    "            cost+= self.list2[m] * i\n",
    "            m=1\n",
    "        print('Total cost of the cart:',cost)\n",
    "\n",
    "class Product:\n",
    "    product=0\n",
    "    name=''\n",
    "    bookk=''\n",
    "    m=0\n",
    "    n=0\n",
    "    \n",
    "    def __init__(self,name,book,m=0,n=0):\n",
    "        self.name=name\n",
    "        self.book=book\n",
    "        self.m=m\n",
    "        self.n=n\n",
    "        Product.product+=1\n",
    "        f1= Product(self.name,self.book,self.m,self.n)\n",
    "        return f1\n",
    "    \n",
    "\n",
    "s1 = ShoppingCart(\"Amazon\")\n",
    "p1 = Product(\"Razer BlackShark\",\"Headset\",99.99,5)\n",
    "p2 = Product(\"Logitech G ProX Superlight\",\"Mouse\",150)\n",
    "print(\"1.====================================\")\n",
    "s1.addGadget(p1,2,p2,1)\n",
    "print(\"2.====================================\")\n",
    "p3 = Product(\"Razer Huntsman\", \"Keyboard\", 249.99,12)\n",
    "s1.addGadget(p3,1)\n",
    "s1.addGadget(Product(\"HyperX Fury\",\"Mousepad\",26.99,1), 2)\n",
    "print(\"3.====================================\")\n",
    "s1.printCartDetails()"
   ]
  },
  {
   "cell_type": "code",
   "execution_count": 7,
   "id": "cd39ebf8",
   "metadata": {},
   "outputs": [
    {
     "name": "stdout",
     "output_type": "stream",
     "text": [
      "Enter the word: Yoda\n",
      "ya-od\n"
     ]
    }
   ],
   "source": [
    "word= input('Enter the word: ')\n",
    "word1=''\n",
    "word2=''\n",
    "last_word=''\n",
    "\n",
    "for i in range(0,len(word)):\n",
    "    if i%3==0:\n",
    "        word1+=word[i]\n",
    "    else:\n",
    "        word2+=word[i]\n",
    "word3=''\n",
    "word4=''\n",
    "for i in word1:\n",
    "    if ord(i)>= 65 and ord(i)<=90:\n",
    "        s=chr(ord(i)+32)\n",
    "        word3+=s\n",
    "    else:\n",
    "        word3+=i\n",
    "        \n",
    "for i in word2:\n",
    "    if ord(i)>= 65 and ord(i)<=90:\n",
    "        s=chr(ord(i)+32)\n",
    "        word4+=s\n",
    "    else:\n",
    "        word4+=i\n",
    "        \n",
    "print(word3+'-'+word4)"
   ]
  },
  {
   "cell_type": "code",
   "execution_count": 2,
   "id": "24beabc6",
   "metadata": {},
   "outputs": [
    {
     "name": "stdout",
     "output_type": "stream",
     "text": [
      "Enter the word: Python is good\n",
      "Enter the number: 4\n",
      "NOythYESn iNO goYESd\n"
     ]
    }
   ],
   "source": [
    "word=input('Enter the word: ')\n",
    "num=int(input('Enter the number: '))\n",
    "last_word=''\n",
    "\n",
    "for i in range(0,len(word)):\n",
    "    \n",
    "    if i%num==0:\n",
    "        if word[i]=='a' or word[i]=='e' or word[i]=='i' or word[i]=='o' or word[i]=='u':        \n",
    "            last_word+='YES'\n",
    "        else:\n",
    "            last_word+='NO'\n",
    "    else:\n",
    "        last_word+=word[i]\n",
    "        \n",
    "print(last_word)"
   ]
  },
  {
   "cell_type": "code",
   "execution_count": 21,
   "id": "e3d8cae2",
   "metadata": {},
   "outputs": [
    {
     "name": "stdout",
     "output_type": "stream",
     "text": [
      "1431, 69716, 353, 7969828\n",
      "{'Special': (), 'Not Special': ('1431', '69716', '353', '7969828')}\n"
     ]
    }
   ],
   "source": [
    "list1=input().split(', ')\n",
    "dict1={'Special': [], 'Not Special':[]}\n",
    "\n",
    "for i in list1:\n",
    "    square=int(i[0])**2\n",
    "    sum1=0\n",
    "    for k in range(1,len(i)):\n",
    "        sum1+=int(i[k])\n",
    "        \n",
    "    if square == sum1:\n",
    "        dict1['Special'].append(i)\n",
    "    else:\n",
    "        dict1['Not Special'].append(i)\n",
    "        \n",
    "for p,s in dict1.items():\n",
    "    dict1[p]=tuple(s)\n",
    "\n",
    "print(dict1)"
   ]
  },
  {
   "cell_type": "code",
   "execution_count": 9,
   "id": "0fa47202",
   "metadata": {},
   "outputs": [
    {
     "name": "stdout",
     "output_type": "stream",
     "text": [
      "Enter the number: 12\n",
      "{'orange': 3708, 'dragonfruit': 5160}\n"
     ]
    }
   ],
   "source": [
    "fruit_list={ 'orange': (8,7,12) , 'coconut': (10,20,30), 'dragonfruit': (6,12,14)}\n",
    "num=int(input('Enter the number: '))\n",
    "dict1={}\n",
    "\n",
    "for i,k in fruit_list.items():\n",
    "    sum1=0\n",
    "    if num in k:\n",
    "        for p in i:\n",
    "            if ord(p) == 97 or ord(p) == 101 or ord(p) == 105 or ord(p) == 111 or ord(p) == 117:\n",
    "                sum1+=ord(p)\n",
    "                \n",
    "        sum1=sum1*num\n",
    "        dict1[i]=sum1\n",
    "        \n",
    "print(dict1)"
   ]
  },
  {
   "cell_type": "code",
   "execution_count": 23,
   "id": "acb6c315",
   "metadata": {},
   "outputs": [
    {
     "name": "stdout",
     "output_type": "stream",
     "text": [
      "This is CSE110 course, Programming is FUN, We love Python\n",
      "{1: (6, 12), 2: (5, 11), 3: (4, 8)}\n"
     ]
    }
   ],
   "source": [
    "list1=input().split(', ')\n",
    "dict1={}\n",
    "count=1\n",
    "\n",
    "for i in list1:\n",
    "    str1=i.lower()\n",
    "    count1=0\n",
    "    count2=0\n",
    "    for p in str1:\n",
    "        if ord(p) == 97 or ord(p) == 101 or ord(p) == 105 or ord(p) == 111 or ord(p) == 117:\n",
    "            count1+=1\n",
    "        else:\n",
    "            if p != ' ' :\n",
    "                count2+=1\n",
    "            \n",
    "    dict1[count]=(count1,count2)\n",
    "    count+=1\n",
    "    \n",
    "print(dict1)"
   ]
  },
  {
   "cell_type": "code",
   "execution_count": 19,
   "id": "c668ab60",
   "metadata": {},
   "outputs": [
    {
     "name": "stdout",
     "output_type": "stream",
     "text": [
      "20 23\n",
      "{20: (1, 5), 21: (1, 3, 7, 21), 22: (1, 11), 23: (1, 23)}\n"
     ]
    }
   ],
   "source": [
    "list1=input().split(' ')\n",
    "dict1={}\n",
    "num1=int(list1[0])\n",
    "num2=int(list1[1])\n",
    "\n",
    "for i in range(num1,num2+1):\n",
    "    list2=[]\n",
    "    for k in range(1,i+1):\n",
    "        if i%k ==0 and k%2 != 0:\n",
    "            list2.append(k)\n",
    "            \n",
    "    dict1[i]=tuple(list2)\n",
    "    \n",
    "print(dict1)"
   ]
  },
  {
   "cell_type": "code",
   "execution_count": null,
   "id": "413faeaa",
   "metadata": {},
   "outputs": [],
   "source": []
  }
 ],
 "metadata": {
  "kernelspec": {
   "display_name": "Python 3",
   "language": "python",
   "name": "python3"
  },
  "language_info": {
   "codemirror_mode": {
    "name": "ipython",
    "version": 3
   },
   "file_extension": ".py",
   "mimetype": "text/x-python",
   "name": "python",
   "nbconvert_exporter": "python",
   "pygments_lexer": "ipython3",
   "version": "3.8.8"
  }
 },
 "nbformat": 4,
 "nbformat_minor": 5
}
