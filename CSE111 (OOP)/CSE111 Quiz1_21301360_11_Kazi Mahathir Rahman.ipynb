{
 "cells": [
  {
   "cell_type": "code",
   "execution_count": 7,
   "id": "5d7c73fc",
   "metadata": {},
   "outputs": [
    {
     "name": "stdout",
     "output_type": "stream",
     "text": [
      "{'CSE': {'2020': ['20201199', '20101035'], '2019': ['19101052', '19301121'], '2021': ['21301360']}, 'EEE': {'2021': ['21121347', '21121875'], '2020': ['20221369', '20121135']}, 'CS': {'2021': ['21241199', '21341001'], '2019': ['19241187', '19141534'], '2020': ['20141007', '20341552']}}\n"
     ]
    }
   ],
   "source": [
    "ids = ['20201199',\n",
    " '21121347',\n",
    " '19101052',\n",
    " '19301121',\n",
    " '20221369',\n",
    " '21241199',\n",
    " '19241187',\n",
    " '20141007',\n",
    " '20101035', \n",
    " '21121875',\n",
    " '19141534', \n",
    " '20341552',\n",
    " '20121135', \n",
    " '21341001','21301360']\n",
    "\n",
    "dict1={'CSE':{},'EEE':{},'CS':{}}\n",
    "cse_list=[]\n",
    "eee_list=[]\n",
    "cs_list=[]\n",
    "\n",
    "for i in ids:\n",
    "    dep=i[3:5]\n",
    "    if dep =='01':\n",
    "        cse_list.append(i)\n",
    "    if dep =='41':\n",
    "        cs_list.append(i)\n",
    "    if dep=='21':\n",
    "        eee_list.append(i)\n",
    "     \n",
    "for k in cse_list:\n",
    "    year='20'+k[0:2]\n",
    "    \n",
    "    if year not in dict1['CSE']:\n",
    "        dict1['CSE'][year]=[k]\n",
    "    else:\n",
    "        dict1['CSE'][year].append(k)\n",
    "        \n",
    "for p in eee_list:\n",
    "    year='20'+p[0:2]\n",
    "    \n",
    "    if year not in dict1['EEE']:\n",
    "        dict1['EEE'][year]=[p]\n",
    "    else:\n",
    "        dict1['EEE'][year].append(p)\n",
    "        \n",
    "for o in cs_list:\n",
    "    year='20'+o[0:2]\n",
    "    \n",
    "    if year not in dict1['CS']:\n",
    "        dict1['CS'][year]=[o]\n",
    "    else:\n",
    "        dict1['CS'][year].append(o)\n",
    "        \n",
    "print(dict1)"
   ]
  },
  {
   "cell_type": "code",
   "execution_count": 8,
   "id": "edb85fef",
   "metadata": {},
   "outputs": [
    {
     "data": {
      "text/plain": [
       "{'CSE': {'2020': ['20201199', '20101035'], '2019': ['19101052', '19301121']},\n",
       " 'EEE': {'2021': ['21121347', '21121875'], '2020': ['20221369', '20121135']},\n",
       " 'CS': {'2019': ['19241187', '19141534'],\n",
       "  '2020': ['20141007', '20341552'],\n",
       "  '2021': ['21241199', '21341001']}}"
      ]
     },
     "execution_count": 8,
     "metadata": {},
     "output_type": "execute_result"
    }
   ],
   "source": [
    "{\n",
    "    'CSE':{ \n",
    "              '2020': ['20201199', '20101035'], \n",
    "              '2019': ['19101052', '19301121'] \n",
    "              },\n",
    "    'EEE':{ \n",
    "              '2021': ['21121347', '21121875'], \n",
    "              '2020': ['20221369', '20121135']\n",
    "              },\n",
    "    'CS':{ \n",
    "             '2019': ['19241187', '19141534'], \n",
    "             '2020': ['20141007', '20341552'], \n",
    "             '2021': ['21241199', '21341001'] \n",
    "            }\n",
    "}"
   ]
  },
  {
   "cell_type": "code",
   "execution_count": 4,
   "id": "d2e949af",
   "metadata": {},
   "outputs": [
    {
     "name": "stdout",
     "output_type": "stream",
     "text": [
      "{'Forward': {'Brazil': ['Firmino', 'Gabriel'], 'Argentina': ['Messi', 'Aguero'], 'Germany': ['Klose', 'Werner']}, 'Midfielder': {'Germany': ['Toni'], 'Brazil': ['Casemiro', 'Fred']}}\n"
     ]
    }
   ],
   "source": [
    "my_tuple = ((\"Firmino\", 1101),(\"Gabriel\", 1201),(\"Casemiro\", 1302),(\"Fred\", \n",
    "1402),(\"Messi\", 1111),(\"Aguero\", 1211),(\"Klose\", 1121), (\"Werner\", 1221), \n",
    "(\"Toni\", 1322))\n",
    "\n",
    "dict1={'Forward':{'Brazil':[],\"Argentina\":[],'Germany':[]},'Midfielder':{'Germany':[],'Brazil':[]}}\n",
    "\n",
    "for i in my_tuple:\n",
    "    num=str(i[1])\n",
    "    \n",
    "    if num[-1]=='1':\n",
    "        if num[2]=='0':\n",
    "            dict1['Forward']['Brazil'].append(i[0])\n",
    "        if num[2]=='1':\n",
    "            dict1['Forward']['Argentina'].append(i[0])\n",
    "        if num[2]=='2':\n",
    "            dict1['Forward']['Germany'].append(i[0])\n",
    "            \n",
    "    if num[-1]=='2':\n",
    "        if num[2]=='0':\n",
    "            dict1['Midfielder']['Brazil'].append(i[0])\n",
    "        if num[2]=='2':\n",
    "            dict1['Midfielder']['Germany'].append(i[0])\n",
    "                \n",
    "print(dict1)"
   ]
  },
  {
   "cell_type": "code",
   "execution_count": null,
   "id": "6334c3a8",
   "metadata": {},
   "outputs": [],
   "source": [
    "{\n",
    "'Forward':\n",
    "     {\n",
    "     'Brazil': ('Firmino', 'Gabriel'),\n",
    "     'Argentina': ('Messi', 'Aguero'),\n",
    "     'Germany': ('Klose', 'Werner')\n",
    "     }\n",
    "'Midfielder':\n",
    "     {\n",
    "     'Brazil': ('Casemiro', 'Fred')\n",
    "     'Germany': 'Toni'\n",
    "     }\n",
    "}"
   ]
  }
 ],
 "metadata": {
  "kernelspec": {
   "display_name": "Python 3",
   "language": "python",
   "name": "python3"
  },
  "language_info": {
   "codemirror_mode": {
    "name": "ipython",
    "version": 3
   },
   "file_extension": ".py",
   "mimetype": "text/x-python",
   "name": "python",
   "nbconvert_exporter": "python",
   "pygments_lexer": "ipython3",
   "version": "3.8.8"
  }
 },
 "nbformat": 4,
 "nbformat_minor": 5
}
